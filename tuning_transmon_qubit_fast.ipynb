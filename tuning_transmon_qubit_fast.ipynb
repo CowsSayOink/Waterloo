{
 "cells": [
  {
   "cell_type": "code",
   "execution_count": 1,
   "metadata": {},
   "outputs": [],
   "source": [
    "import json\n",
    "import warnings\n",
    "from typing import Any, Callable, Dict\n",
    "\n",
    "import lmfit\n",
    "import matplotlib.pyplot as plt\n",
    "import numpy as np\n",
    "from qblox_instruments import Cluster, ClusterType, PlugAndPlay\n",
    "from qblox_instruments.ieee488_2 import DummyBinnedAcquisitionData\n",
    "from quantify_core.analysis import base_analysis as ba\n",
    "from quantify_core.measurement import MeasurementControl\n",
    "from quantify_core.visualization import mpl_plotting as qpl\n",
    "from quantify_core.visualization.instrument_monitor import InstrumentMonitor\n",
    "from quantify_core.visualization.pyqt_plotmon import \\\n",
    "    PlotMonitor_pyqt as PlotMonitor\n",
    "from quantify_core.visualization.SI_utilities import format_value_string\n",
    "from quantify_scheduler.backends import SerialCompiler\n",
    "from quantify_scheduler.device_under_test.quantum_device import QuantumDevice\n",
    "from quantify_scheduler.device_under_test.transmon_element import \\\n",
    "    BasicTransmonElement\n",
    "from quantify_scheduler.instrument_coordinator import InstrumentCoordinator\n",
    "from quantify_scheduler.instrument_coordinator.components.qblox import \\\n",
    "    ClusterComponent\n",
    "\n",
    "from qblox_instruments.ieee488_2 import DummyBinnedAcquisitionData\n",
    "from quantify_core.data.handling import set_datadir\n",
    "# warnings.simplefilter(\"always\")\n"
   ]
  },
  {
   "cell_type": "code",
   "execution_count": 1,
   "metadata": {},
   "outputs": [
    {
     "ename": "ImportError",
     "evalue": "cannot import name 'heterodyne_spec_sched' from 'quantify_scheduler.schedules' (C:\\Users\\EQSL\\anaconda3\\envs\\qblox-stable\\lib\\site-packages\\quantify_scheduler\\schedules\\__init__.py)",
     "output_type": "error",
     "traceback": [
      "\u001B[1;31m---------------------------------------------------------------------------\u001B[0m",
      "\u001B[1;31mImportError\u001B[0m                               Traceback (most recent call last)",
      "Cell \u001B[1;32mIn[1], line 20\u001B[0m\n\u001B[0;32m     10\u001B[0m \u001B[38;5;28;01mfrom\u001B[39;00m \u001B[38;5;21;01mquantify_core\u001B[39;00m\u001B[38;5;21;01m.\u001B[39;00m\u001B[38;5;21;01manalysis\u001B[39;00m\u001B[38;5;21;01m.\u001B[39;00m\u001B[38;5;21;01mspectroscopy_analysis\u001B[39;00m \u001B[38;5;28;01mimport\u001B[39;00m ResonatorSpectroscopyAnalysis\n\u001B[0;32m     12\u001B[0m \u001B[38;5;28;01mfrom\u001B[39;00m \u001B[38;5;21;01mquantify_core\u001B[39;00m\u001B[38;5;21;01m.\u001B[39;00m\u001B[38;5;21;01manalysis\u001B[39;00m\u001B[38;5;21;01m.\u001B[39;00m\u001B[38;5;21;01msingle_qubit_timedomain\u001B[39;00m \u001B[38;5;28;01mimport\u001B[39;00m (\n\u001B[0;32m     13\u001B[0m     AllXYAnalysis,\n\u001B[0;32m     14\u001B[0m    EchoAnalysis,\n\u001B[1;32m   (...)\u001B[0m\n\u001B[0;32m     17\u001B[0m    T1Analysis,\n\u001B[0;32m     18\u001B[0m )\n\u001B[1;32m---> 20\u001B[0m \u001B[38;5;28;01mfrom\u001B[39;00m \u001B[38;5;21;01mquantify_scheduler\u001B[39;00m\u001B[38;5;21;01m.\u001B[39;00m\u001B[38;5;21;01mschedules\u001B[39;00m \u001B[38;5;28;01mimport\u001B[39;00m (\n\u001B[0;32m     21\u001B[0m     heterodyne_spec_sched,\n\u001B[0;32m     22\u001B[0m     two_tone_spec_sched,\n\u001B[0;32m     23\u001B[0m     allxy_sched,\n\u001B[0;32m     24\u001B[0m     echo_sched,\n\u001B[0;32m     25\u001B[0m     rabi_sched,\n\u001B[0;32m     26\u001B[0m     ramsey_sched,\n\u001B[0;32m     27\u001B[0m     t1_sched,\n\u001B[0;32m     28\u001B[0m     readout_calibration_sched\n\u001B[0;32m     29\u001B[0m )\n\u001B[0;32m     30\u001B[0m \u001B[38;5;28;01mfrom\u001B[39;00m \u001B[38;5;21;01mquantify_scheduler\u001B[39;00m\u001B[38;5;21;01m.\u001B[39;00m\u001B[38;5;21;01mschedules\u001B[39;00m\u001B[38;5;21;01m.\u001B[39;00m\u001B[38;5;21;01mspectroscopy_schedules\u001B[39;00m \u001B[38;5;28;01mimport\u001B[39;00m nco_heterodyne_spec_sched, nco_two_tone_spec_sched\n\u001B[0;32m     32\u001B[0m \u001B[38;5;28;01mfrom\u001B[39;00m \u001B[38;5;21;01mquantify_core\u001B[39;00m\u001B[38;5;21;01m.\u001B[39;00m\u001B[38;5;21;01mdata\u001B[39;00m\u001B[38;5;21;01m.\u001B[39;00m\u001B[38;5;21;01mhandling\u001B[39;00m \u001B[38;5;28;01mimport\u001B[39;00m set_datadir\n",
      "\u001B[1;31mImportError\u001B[0m: cannot import name 'heterodyne_spec_sched' from 'quantify_scheduler.schedules' (C:\\Users\\EQSL\\anaconda3\\envs\\qblox-stable\\lib\\site-packages\\quantify_scheduler\\schedules\\__init__.py)"
     ]
    }
   ],
   "source": [
    "import warnings\n",
    "import matplotlib.pyplot as plt\n",
    "from scipy.signal import detrend\n",
    "import ipywidgets as widgets\n",
    "import numpy as np\n",
    "\n",
    "from qcodes.instrument.parameter import ManualParameter\n",
    "from quantify_scheduler.gettables import ScheduleGettable\n",
    "\n",
    "from quantify_core.analysis.spectroscopy_analysis import ResonatorSpectroscopyAnalysis\n",
    "\n",
    "from quantify_core.analysis.single_qubit_timedomain import (\n",
    "    AllXYAnalysis,\n",
    "   EchoAnalysis,\n",
    "   RabiAnalysis,\n",
    "   RamseyAnalysis,\n",
    "   T1Analysis,\n",
    ")\n",
    "\n",
    "from quantify_scheduler.schedules import (\n",
    "    heterodyne_spec_sched,\n",
    "    two_tone_spec_sched,\n",
    "    allxy_sched,\n",
    "    echo_sched,\n",
    "    rabi_sched,\n",
    "    ramsey_sched,\n",
    "    t1_sched,\n",
    "    readout_calibration_sched\n",
    ")\n",
    "from quantify_scheduler.schedules.spectroscopy_schedules import nco_heterodyne_spec_sched, nco_two_tone_spec_sched\n",
    "\n",
    "from quantify_core.data.handling import set_datadir\n",
    "\n",
    "set_datadir(\"quantify_data\")\n",
    "# warnings.simplefilter(\"always\")"
   ]
  },
  {
   "cell_type": "code",
   "execution_count": null,
   "metadata": {},
   "outputs": [],
   "source": [
    "import ipynb\n",
    "from hello_world import qubit_0, measurement_control, transmon_chip, cluster\n",
    "from hello_world import compiler\n",
    "from ipynb.fs.full.hello_world import heterodyne_spec_kwargs, two_tone_spec_kwargs, rabi_kwargs\n",
    "from ipynb.fs.full.hello_world import set_dummy_data_rabi, clear_dummy_data, heterodyne_spec_sched_with_dummy\n",
    "from hello_world import QubitSpectroscopyAnalysis\n",
    "#jhkjkhjhk"
   ]
  },
  {
   "cell_type": "code",
   "execution_count": null,
   "metadata": {},
   "outputs": [],
   "source": [
    "np.asarray([qubit_0.clock_freqs.readout()])"
   ]
  },
  {
   "cell_type": "code",
   "execution_count": null,
   "metadata": {},
   "outputs": [],
   "source": [
    "def kwarg_wrapper(func: Callable[[BasicTransmonElement], Dict[str, Any]]) -> Callable:\n",
    "    def inner(qubit: BasicTransmonElement, **kwargs):\n",
    "        default = func(qubit)\n",
    "        for key, value in kwargs.items():\n",
    "            if key in default:\n",
    "                default[key] = value\n",
    "            else:\n",
    "                raise RuntimeError\n",
    "        return default\n",
    "\n",
    "    return inner\n",
    "\n",
    "\n",
    "@kwarg_wrapper\n",
    "def nco_heterodyne_spec_kwargs(qubit: BasicTransmonElement) -> Dict[str, Any]:\n",
    "    return {\n",
    "        \"pulse_amp\": qubit.measure.pulse_amp(),\n",
    "        \"pulse_duration\": qubit.measure.pulse_duration(),\n",
    "        \"frequencies\": np.asarray([qubit.clock_freqs.readout()]),\n",
    "        \"acquisition_delay\": qubit.measure.acq_delay(),\n",
    "        \"integration_time\": qubit.measure.integration_time(),\n",
    "        \"init_duration\": qubit.reset.duration(),\n",
    "        \"port\": qubit.ports.readout(),\n",
    "        \"clock\": qubit.name + \".ro\",\n",
    "    }\n",
    "\n",
    "\n",
    "@kwarg_wrapper\n",
    "def heterodyne_spec_kwargs(qubit: BasicTransmonElement) -> Dict[str, Any]:\n",
    "    return {\n",
    "        \"pulse_amp\": qubit.measure.pulse_amp(),\n",
    "        \"pulse_duration\": qubit.measure.pulse_duration(),\n",
    "        \"frequency\": qubit.clock_freqs.readout(),\n",
    "        \"acquisition_delay\": qubit.measure.acq_delay(),\n",
    "        \"integration_time\": qubit.measure.integration_time(),\n",
    "        \"init_duration\": qubit.reset.duration(),\n",
    "        \"port\": qubit.ports.readout(),\n",
    "        \"clock\": qubit.name + \".ro\",\n",
    "    }\n",
    "\n",
    "\n",
    "@kwarg_wrapper\n",
    "def nco_two_tone_spec_kwargs(qubit: BasicTransmonElement, **kwargs) -> Dict[str, Any]:\n",
    "    return {\n",
    "        \"spec_pulse_amp\": 0.001,\n",
    "        \"spec_pulse_duration\": 4e-6,\n",
    "        \"spec_pulse_frequencies\": qubit.clock_freqs.f01(),\n",
    "        \"spec_pulse_port\": qubit.ports.microwave(),\n",
    "        \"spec_pulse_clock\": qubit.name + \".01\",\n",
    "        \"ro_pulse_amp\": qubit.measure.pulse_amp(),\n",
    "        \"ro_pulse_duration\": qubit.measure.pulse_duration(),\n",
    "        \"ro_pulse_delay\": 200e-9,\n",
    "        \"ro_pulse_port\": qubit.ports.readout(),\n",
    "        \"ro_pulse_clock\": qubit.name + \".ro\",\n",
    "        \"ro_pulse_frequency\": qubit.clock_freqs.readout(),\n",
    "        \"ro_acquisition_delay\": qubit.measure.acq_delay(),\n",
    "        \"ro_integration_time\": qubit.measure.integration_time(),\n",
    "        \"init_duration\": qubit.reset.duration(),\n",
    "    }\n",
    "\n",
    "\n",
    "\n",
    "@kwarg_wrapper\n",
    "def two_tone_spec_kwargs(qubit: BasicTransmonElement, **kwargs) -> Dict[str, Any]:\n",
    "    return {\n",
    "        \"spec_pulse_amp\": 0.001,\n",
    "        \"spec_pulse_duration\": 4e-6,\n",
    "        \"spec_pulse_frequency\": qubit.clock_freqs.f01(),\n",
    "        \"spec_pulse_port\": qubit.ports.microwave(),\n",
    "        \"spec_pulse_clock\": qubit.name + \".01\",\n",
    "        \"ro_pulse_amp\": qubit.measure.pulse_amp(),\n",
    "        \"ro_pulse_duration\": qubit.measure.pulse_duration(),\n",
    "        \"ro_pulse_delay\": 200e-9,\n",
    "        \"ro_pulse_port\": qubit.ports.readout(),\n",
    "        \"ro_pulse_clock\": qubit.name + \".ro\",\n",
    "        \"ro_pulse_frequency\": qubit.clock_freqs.readout(),\n",
    "        \"ro_acquisition_delay\": qubit.measure.acq_delay(),\n",
    "        \"ro_integration_time\": qubit.measure.integration_time(),\n",
    "        \"init_duration\": qubit.reset.duration(),\n",
    "    }\n",
    "\n",
    "\n",
    "@kwarg_wrapper\n",
    "def rabi_kwargs(qubit: BasicTransmonElement) -> Dict[str, Any]:\n",
    "    return {\n",
    "        \"pulse_amp\": qubit.rxy.amp180(),\n",
    "        \"pulse_duration\": qubit.rxy.duration(),\n",
    "        \"frequency\": qubit.clock_freqs.f01(),\n",
    "        \"qubit\": qubit.name,\n",
    "    }"
   ]
  },
  {
   "cell_type": "markdown",
   "metadata": {},
   "source": [
    "# Resonator spectroscopy\n",
    "The very first experiment for tuning a superconducting qubit is to find the resonance frequency of the readout resonator. As we will be sweeping the frequency, we first define a qcodes `Parameter` as placeholder, which will be filled with the sweep values during the experiment."
   ]
  },
  {
   "cell_type": "markdown",
   "source": [
    "This compensates for electrical delay"
   ],
   "metadata": {
    "collapsed": false
   }
  },
  {
   "cell_type": "code",
   "execution_count": null,
   "metadata": {},
   "outputs": [],
   "source": [
    "cluster.module4.sequencer0.nco_prop_delay_comp_en(True)\n",
    "cluster.module4.sequencer0.nco_prop_delay_comp(50)"
   ]
  },
  {
   "cell_type": "code",
   "execution_count": 2,
   "metadata": {
    "ExecuteTime": {
     "end_time": "2023-05-11T20:19:53.240819600Z",
     "start_time": "2023-05-11T20:19:53.057311300Z"
    }
   },
   "outputs": [
    {
     "data": {
      "text/plain": "array([60, 56, 52, 48, 44])"
     },
     "execution_count": 2,
     "metadata": {},
     "output_type": "execute_result"
    }
   ],
   "source": [
    "np.arange(60, 40, -4)"
   ]
  },
  {
   "cell_type": "code",
   "execution_count": null,
   "metadata": {},
   "outputs": [],
   "source": [
    "transmon_chip.cfg_sched_repetitions(2048)"
   ]
  },
  {
   "cell_type": "code",
   "execution_count": null,
   "metadata": {},
   "outputs": [],
   "source": [
    "for att in np.arange(20, 4, -8):\n",
    "    print(att)\n",
    "    config = transmon_chip.hardware_config()\n",
    "    config[\"cluster\"][\"cluster_module4\"][\"complex_output_0\"][\"output_att\"] = att\n",
    "    transmon_chip.hardware_config(config)\n",
    "\n",
    "    qubit_0.measure.pulse_amp(0.25)\n",
    "\n",
    "    freq = ManualParameter(name=\"frequency\", unit=\"Hz\", label=\"f\")\n",
    "    freq.batched = True\n",
    "\n",
    "    measurement_control.settables(freq)\n",
    "    measurement_control.setpoints(np.linspace(6.74e9, 6.76e9, 2001))\n",
    "    gettable = ScheduleGettable(\n",
    "        quantum_device=transmon_chip,\n",
    "        schedule_function=nco_heterodyne_spec_sched,\n",
    "        schedule_kwargs=nco_heterodyne_spec_kwargs(qubit_0, frequencies=freq),\n",
    "        real_imag=False,\n",
    "        batched=True\n",
    "    )\n",
    "    measurement_control.gettables(gettable)\n",
    "\n",
    "    res_spec_dset = measurement_control.run(\"ResonatorSpectroscopy\")\n",
    "    res_spec_result = ResonatorSpectroscopyAnalysis(\n",
    "        dataset=res_spec_dset,\n",
    "    ).run()\n",
    "    plt.plot(res_spec_result.dataset_processed.x0, detrend(np.unwrap(np.angle(res_spec_result.dataset_processed.S21))))\n",
    "    res_spec_result.display_figs_mpl()\n",
    "    plt.show()"
   ]
  },
  {
   "cell_type": "code",
   "execution_count": null,
   "metadata": {},
   "outputs": [],
   "source": [
    "qubit_0.clock_freqs.readout(6.751e9)\n",
    "config = transmon_chip.hardware_config()\n",
    "config[\"cluster\"][\"cluster_module4\"][\"complex_output_0\"][\"output_att\"] = 56\n",
    "transmon_chip.hardware_config(config)"
   ]
  },
  {
   "cell_type": "code",
   "execution_count": null,
   "metadata": {},
   "outputs": [],
   "source": [
    "freq = ManualParameter(name=\"frequency\", unit=\"Hz\", label=\"f\")\n",
    "freq.batched = True"
   ]
  },
  {
   "cell_type": "markdown",
   "metadata": {},
   "source": [
    "Next, we need to set up `MeasurementControl` to use this Parameter. First, we set that the next measurement will be sweeping over the frequency:"
   ]
  },
  {
   "cell_type": "code",
   "execution_count": null,
   "metadata": {},
   "outputs": [],
   "source": [
    "measurement_control.settables(freq)"
   ]
  },
  {
   "cell_type": "markdown",
   "metadata": {},
   "source": [
    "We also need to set the actual values for the experiment. Here from 2-10 GHz, in 3 steps."
   ]
  },
  {
   "cell_type": "code",
   "execution_count": null,
   "metadata": {},
   "outputs": [],
   "source": [
    "measurement_control.setpoints(np.linspace(6.75e9, 6.753e9, 300))"
   ]
  },
  {
   "cell_type": "markdown",
   "metadata": {},
   "source": [
    "We also need to define the actual measurement. To this end, we use a schedule function. This is simply a function that generates a schedule for a given frequency. As Resonator spectroscopy is a standard experiment, we can simply import the function from quantify. We will have a look at custom schedule functions later."
   ]
  },
  {
   "cell_type": "code",
   "execution_count": null,
   "metadata": {},
   "outputs": [],
   "source": [
    "import inspect\n",
    "heterodyne_spec_function = nco_heterodyne_spec_sched\n",
    "print(inspect.getsource(nco_heterodyne_spec_sched))"
   ]
  },
  {
   "cell_type": "markdown",
   "metadata": {},
   "source": [
    "The schedule function itself is still an abstract object, it does not refer to the hardware config (e.g. cabling, ip addresses) yet. To fully define the measurements, we define a `ScheduleGettable`, which fully describes the experiment."
   ]
  },
  {
   "cell_type": "code",
   "execution_count": null,
   "metadata": {},
   "outputs": [],
   "source": [
    "measurement_control.settables(freq)"
   ]
  },
  {
   "cell_type": "code",
   "execution_count": null,
   "metadata": {},
   "outputs": [],
   "source": [
    "gettable = ScheduleGettable(\n",
    "    quantum_device=transmon_chip,\n",
    "    schedule_function=heterodyne_spec_function,\n",
    "    schedule_kwargs=nco_heterodyne_spec_kwargs(qubit_0, frequencies=freq),\n",
    "    real_imag=False,\n",
    "    batched=True\n",
    ")"
   ]
  },
  {
   "cell_type": "markdown",
   "metadata": {},
   "source": [
    "We also need to connect the `ScheduleGettable` to MeasurementControl"
   ]
  },
  {
   "cell_type": "code",
   "execution_count": null,
   "metadata": {},
   "outputs": [],
   "source": [
    "measurement_control.gettables(gettable)"
   ]
  },
  {
   "cell_type": "code",
   "execution_count": null,
   "metadata": {},
   "outputs": [],
   "source": [
    "heterodyne_spec_function(**nco_heterodyne_spec_kwargs(qubit_0)).plot_circuit_diagram()"
   ]
  },
  {
   "cell_type": "code",
   "execution_count": null,
   "metadata": {},
   "outputs": [],
   "source": [
    "compiled = compiler.compile(heterodyne_spec_function(**nco_heterodyne_spec_kwargs(qubit_0)))\n",
    "compiled.plot_pulse_diagram()"
   ]
  },
  {
   "cell_type": "markdown",
   "metadata": {},
   "source": [
    "Finally, we execute the experiment using `MeasurementControl`. The data is automatically saved, and also available immediately as `xarray.Dataset`"
   ]
  },
  {
   "cell_type": "code",
   "execution_count": null,
   "metadata": {},
   "outputs": [],
   "source": [
    "res_spec_dset = measurement_control.run(\"ResonatorSpectroscopy\")"
   ]
  },
  {
   "cell_type": "markdown",
   "metadata": {},
   "source": [
    "The information we are interested in (the resonance frequency) is not immediately accessible, we need to analyze the data first. To this end, we can use an analysis class based on the `lmfit` package. For standard experiments like resonator spectroscopy, it is already provided by quantify:"
   ]
  },
  {
   "cell_type": "code",
   "execution_count": null,
   "metadata": {},
   "outputs": [],
   "source": [
    "res_spec_result = ResonatorSpectroscopyAnalysis(\n",
    "    dataset=res_spec_dset,\n",
    ").run()\n",
    "# res_spec_result.plot_figures()\n",
    "# res_spec_result.display_figs_mpl()  # use .plot(show_fit=True) instead. If fitting is not yet done, also fit."
   ]
  },
  {
   "cell_type": "code",
   "execution_count": null,
   "metadata": {},
   "outputs": [],
   "source": [
    "plt.plot(res_spec_result.dataset_processed.x0, detrend(np.unwrap(np.angle(res_spec_result.dataset_processed.S21))))"
   ]
  },
  {
   "cell_type": "code",
   "execution_count": null,
   "metadata": {},
   "outputs": [],
   "source": [
    "res_spec_result.display_figs_mpl()"
   ]
  },
  {
   "cell_type": "markdown",
   "metadata": {},
   "source": [
    "## Power scans\n",
    "As a resonator connected to a superconducting qubit will become nonlinear, we are also interested how the resonator behaves if we modify readout power. A two dimensional sweeps works very similar to before. We first define a new Parameter for the amplitude in addition to the one for frequency"
   ]
  },
  {
   "cell_type": "code",
   "execution_count": null,
   "metadata": {},
   "outputs": [],
   "source": [
    "cluster.start_adc_calib(4)"
   ]
  },
  {
   "cell_type": "code",
   "execution_count": null,
   "metadata": {},
   "outputs": [],
   "source": [
    "qubit_0.clock_freqs.readout(6.7507982)\n",
    "config = transmon_chip.hardware_config()\n",
    "config[\"cluster\"][\"cluster_module4\"][\"complex_output_0\"][\"output_att\"] = 30\n",
    "transmon_chip.hardware_config(config)\n",
    "\n",
    "amp = ManualParameter(name=\"amplitude\", unit=\"V\", label=\"amplitude\")\n",
    "freq.batched =True"
   ]
  },
  {
   "cell_type": "markdown",
   "metadata": {},
   "source": [
    "Now we prepare MeasurementControl to sweep both amplitude and frequency, and provide the values for both. MeasurementControl will then measure any combination of the two Parameters."
   ]
  },
  {
   "cell_type": "code",
   "execution_count": null,
   "metadata": {},
   "outputs": [],
   "source": [
    "measurement_control.settables([freq, amp])\n",
    "measurement_control.setpoints_grid(\n",
    "    (np.linspace(6.745e9, 6.77e9, 300), np.linspace(0.001, 0.25, 30))\n",
    ")"
   ]
  },
  {
   "cell_type": "markdown",
   "metadata": {},
   "source": [
    "Defining and executing the measurement works just like before."
   ]
  },
  {
   "cell_type": "code",
   "execution_count": null,
   "metadata": {},
   "outputs": [],
   "source": [
    "# gettable = ScheduleGettable(\n",
    "#     transmon_chip,\n",
    "#     nco_heterodyne_spec_sched,\n",
    "#     nco_heterodyne_spec_kwargs(qubit_0, frequencies=freq, pulse_amp=amp),\n",
    "#     real_imag=False,\n",
    "#     batched=True,\n",
    "#     max_batch_size=16384\n",
    "# )\n",
    "# measurement_control.gettables(gettable)\n",
    "# #amp.batched=True\n",
    "# res_power_scan_dset = measurement_control.run(\"ResonatorPowerScan\")"
   ]
  },
  {
   "cell_type": "markdown",
   "metadata": {},
   "source": [
    "# Pulsed qubit spectroscopy"
   ]
  },
  {
   "cell_type": "code",
   "execution_count": null,
   "metadata": {},
   "outputs": [],
   "source": [
    "qubit_0.clock_freqs.readout(6.7507982e9)\n",
    "config = transmon_chip.hardware_config()\n",
    "config[\"cluster\"][\"cluster_module4\"][\"complex_output_0\"][\"output_att\"] = 30\n",
    "transmon_chip.hardware_config(config)\n",
    "qubit_0.measure.integration_time(1e-6)\n",
    "qubit_0.measure.pulse_amp(0.145)"
   ]
  },
  {
   "cell_type": "code",
   "execution_count": null,
   "metadata": {},
   "outputs": [],
   "source": [
    "cluster.module2.out0_att()"
   ]
  },
  {
   "cell_type": "code",
   "execution_count": null,
   "metadata": {},
   "outputs": [],
   "source": [
    "transmon_chip.cfg_sched_repetitions(1024)"
   ]
  },
  {
   "cell_type": "code",
   "execution_count": null,
   "metadata": {},
   "outputs": [],
   "source": [
    "freq = ManualParameter(name=\"freq\", unit=\"Hz\", label=\"Frequency\")\n",
    "freq.batched = True\n",
    "amp = ManualParameter(name=\"amp\", unit=\"mV\", label=\"Amplitude\")\n",
    "\n",
    "qubit_0.reset.duration(100e-6)\n",
    "qubit_0.measure.pulse_amp(0.14)\n",
    "qubit_0.measure.pulse_duration(1e-6)\n",
    "\n",
    "qubit_spec_sched_kwargs = nco_two_tone_spec_kwargs(qubit_0, spec_pulse_frequencies=freq, spec_pulse_duration=4e-6, spec_pulse_amp=amp, ro_pulse_amp=0.14)\n",
    "\n",
    "gettable = ScheduleGettable(\n",
    "    transmon_chip,\n",
    "    schedule_function=nco_two_tone_spec_sched,\n",
    "    schedule_kwargs=qubit_spec_sched_kwargs,\n",
    "    real_imag=False,\n",
    "    batched=True\n",
    ")"
   ]
  },
  {
   "cell_type": "code",
   "execution_count": null,
   "metadata": {},
   "outputs": [],
   "source": [
    "config = transmon_chip.hardware_config()\n",
    "config[\"cluster\"][\"cluster_module2\"][\"complex_output_0\"][\"output_att\"] = 0\n",
    "config[\"cluster\"][\"cluster_module2\"][\"complex_output_0\"][\"lo_freq\"] = 5.8e9\n",
    "transmon_chip.hardware_config(config)"
   ]
  },
  {
   "cell_type": "code",
   "execution_count": null,
   "metadata": {},
   "outputs": [],
   "source": [
    "frequency_setpoints = np.linspace(5.95e9, 6.05e9, 20)\n",
    "\n",
    "measurement_control.settables([freq, amp])\n",
    "measurement_control.setpoints_grid(\n",
    "    (frequency_setpoints, np.linspace(0.001, 0.25, 10))\n",
    ")\n",
    "\n",
    "#measurement_control.settables(freq)\n",
    "#measurement_control.setpoints(frequency_setpoints)\n",
    "measurement_control.gettables(gettable)\n",
    "\n",
    "qubit_spec_dset = measurement_control.run(\"QubitSpectroscopy\")"
   ]
  },
  {
   "cell_type": "code",
   "execution_count": null,
   "metadata": {},
   "outputs": [],
   "source": [
    "qubit_spec_sched_kwargs = two_tone_spec_kwargs(qubit_0, spec_pulse_frequency=6.0e9, spec_pulse_duration=50e-6, spec_pulse_amp=0.1, ro_pulse_amp=0.14)\n",
    "compiled = compiler.compile(two_tone_spec_sched(**qubit_spec_sched_kwargs))\n",
    "compiled.plot_pulse_diagram()"
   ]
  },
  {
   "cell_type": "code",
   "execution_count": null,
   "metadata": {},
   "outputs": [],
   "source": [
    "qubit_spec_results = QubitSpectroscopyAnalysis(\n",
    "    label=\"QubitSpectroscopy\",\n",
    "    settings_overwrite={\"mpl_transparent_background\": False},\n",
    ").run()\n",
    "qubit_spec_results.display_figs_mpl()"
   ]
  },
  {
   "cell_type": "code",
   "execution_count": null,
   "metadata": {},
   "outputs": [],
   "source": [
    "plt.plot(qubit_spec_results.dataset.x0, detrend(np.unwrap(qubit_spec_results.dataset.y1)))"
   ]
  },
  {
   "cell_type": "markdown",
   "metadata": {},
   "source": [
    "# Amplitude Rabi\n",
    "The next step is to find the amplitude required for a pi pulse. To do this, we do a simple amplitude Rabi measurement. We can visualize the provided schedule function at a circuit level:"
   ]
  },
  {
   "cell_type": "code",
   "execution_count": null,
   "metadata": {},
   "outputs": [],
   "source": [
    "qubit_0.clock_freqs.f01(6.018e9)\n",
    "qubit_0.rxy.duration(100e-9)\n",
    "schedule = rabi_sched(**rabi_kwargs(qubit_0))\n",
    "schedule.plot_circuit_diagram()"
   ]
  },
  {
   "cell_type": "markdown",
   "metadata": {},
   "source": [
    "If we compile the circuit for a specific quantum device, we can also visualize the pulse envelopes for every line"
   ]
  },
  {
   "cell_type": "code",
   "execution_count": null,
   "metadata": {},
   "outputs": [],
   "source": [
    "compiled = compiler.compile(\n",
    "    schedule\n",
    ")\n",
    "compiled.plot_pulse_diagram()"
   ]
  },
  {
   "cell_type": "markdown",
   "metadata": {},
   "source": [
    "Qblox control hardware can modify the amplitude of a pulse at runtime, greatly speeding up the experiment.To speed up this measurement, we mark the amplitude parameter as `batched`. "
   ]
  },
  {
   "cell_type": "code",
   "execution_count": null,
   "metadata": {},
   "outputs": [],
   "source": [
    "pulse_amp = ManualParameter(name=\"pulse_amplitude\", unit=\"V\", label=\"amplitude\")\n",
    "pulse_amp.batched = True\n",
    "duration = ManualParameter(name=\"duration\", unit=\"s\", label=\"duration\")\n",
    "duration.batched = False"
   ]
  },
  {
   "cell_type": "markdown",
   "metadata": {},
   "source": [
    "We also need to mark the schedule gettable as batched"
   ]
  },
  {
   "cell_type": "code",
   "execution_count": null,
   "metadata": {},
   "outputs": [],
   "source": [
    "transmon_chip.cfg_sched_repetitions(1024)"
   ]
  },
  {
   "cell_type": "code",
   "execution_count": null,
   "metadata": {},
   "outputs": [],
   "source": [
    "cluster.module2.out0_att()"
   ]
  },
  {
   "cell_type": "code",
   "execution_count": null,
   "metadata": {},
   "outputs": [],
   "source": [
    "qubit_0.reset.duration(100e-6)"
   ]
  },
  {
   "cell_type": "code",
   "execution_count": null,
   "metadata": {},
   "outputs": [],
   "source": [
    "# measurement_control.settables([pulse_amp, duration])\n",
    "# measurement_control.setpoints_grid(\n",
    "#     ( np.linspace(0, 0.25, 100), 20e-9*np.arange(1,30))\n",
    "#     #( np.linspace(-0.25, 0.25, 50), np.linspace(6.0e9, 6.1e9, 50))\n",
    "# )\n",
    "gettable = ScheduleGettable(\n",
    "    transmon_chip,\n",
    "    schedule_function=rabi_sched,\n",
    "    schedule_kwargs=rabi_kwargs(qubit_0, pulse_amp=pulse_amp, pulse_duration=100e-9),#, frequency=freq),\n",
    "    batched=True,\n",
    "    real_imag=False,\n",
    ")"
   ]
  },
  {
   "cell_type": "markdown",
   "metadata": {},
   "source": [
    "And then run the experiment the same way as before"
   ]
  },
  {
   "cell_type": "code",
   "execution_count": null,
   "metadata": {},
   "outputs": [],
   "source": [
    "amplitude_setpoints = np.linspace(-0.25, 0.25, 20)\n",
    "\n",
    "measurement_control.settables(pulse_amp)\n",
    "measurement_control.setpoints(amplitude_setpoints)\n",
    "measurement_control.gettables(gettable)\n",
    "\n",
    "dset = measurement_control.run(\"Rabi\")"
   ]
  },
  {
   "cell_type": "code",
   "execution_count": null,
   "metadata": {},
   "outputs": [],
   "source": [
    "plt.plot(dset.x0, dset.y1)"
   ]
  },
  {
   "cell_type": "code",
   "execution_count": null,
   "metadata": {},
   "outputs": [],
   "source": [
    "plt.plot(dset.x0, dset.y1)"
   ]
  },
  {
   "cell_type": "code",
   "execution_count": null,
   "metadata": {},
   "outputs": [],
   "source": [
    "rabi_result = RabiAnalysis(\n",
    "    label=\"Rabi\"\n",
    ").run()\n",
    "rabi_result.display_figs_mpl()"
   ]
  },
  {
   "cell_type": "code",
   "execution_count": null,
   "metadata": {},
   "outputs": [],
   "source": [
    "qubit_0.rxy.amp180(43.4e-3)"
   ]
  },
  {
   "cell_type": "code",
   "execution_count": null,
   "metadata": {},
   "outputs": [],
   "source": [
    "from quantify_scheduler.schedules import trace_schedule"
   ]
  },
  {
   "cell_type": "code",
   "execution_count": null,
   "metadata": {},
   "outputs": [],
   "source": [
    "# f = qubit_0.clock_freqs.f01()\n",
    "# print(f)\n",
    "# f += 6e6\n",
    "# qubit_0.clock_freqs.f01(f)\n",
    "# qubit_0.clock_freqs.f01()"
   ]
  },
  {
   "cell_type": "markdown",
   "metadata": {},
   "source": [
    "# Qubit Frequency - Ramsey"
   ]
  },
  {
   "cell_type": "code",
   "execution_count": null,
   "metadata": {},
   "outputs": [],
   "source": [
    "#qubit_0.rxy.amp180(11.962e-3)\n",
    "tau = ManualParameter(name=\"tau\", unit=\"s\", label=\"Time\")\n",
    "tau.batched = True\n",
    "\n",
    "ramsey_sched_kwargs = {\n",
    "    \"qubit\": qubit_0.name,\n",
    "    \"times\": tau,\n",
    "    \"artificial_detuning\": 0e6,\n",
    "}\n",
    "\n",
    "gettable = ScheduleGettable(\n",
    "    transmon_chip,\n",
    "    schedule_function=ramsey_sched,\n",
    "    schedule_kwargs=ramsey_sched_kwargs,\n",
    "    real_imag=False,\n",
    "    batched=True,\n",
    ")"
   ]
  },
  {
   "cell_type": "code",
   "execution_count": null,
   "metadata": {},
   "outputs": [],
   "source": [
    "tau_setpoints = np.arange(80e-9, 10e-6, 80e-7)\n",
    "\n",
    "measurement_control.settables(tau)\n",
    "measurement_control.setpoints(tau_setpoints)\n",
    "measurement_control.gettables(gettable)\n",
    "\n",
    "dset = measurement_control.run(\"Ramsey\")"
   ]
  },
  {
   "cell_type": "code",
   "execution_count": null,
   "metadata": {},
   "outputs": [],
   "source": [
    "plt.plot(dset.x0, dset.y1)"
   ]
  },
  {
   "cell_type": "code",
   "execution_count": null,
   "metadata": {},
   "outputs": [],
   "source": [
    "plt.plot(dset.x0, np.angle(dset.y0+1j*dset.y1, deg=True))"
   ]
  },
  {
   "cell_type": "code",
   "execution_count": null,
   "metadata": {},
   "outputs": [],
   "source": [
    "ramsey_analysis = RamseyAnalysis(\n",
    "    label=\"Ramsey\", settings_overwrite={\"mpl_transparent_background\": False}\n",
    ")\n",
    "ramsey_result = ramsey_analysis.run(\n",
    "    artificial_detuning=ramsey_sched_kwargs[\"artificial_detuning\"]\n",
    ")\n",
    "ramsey_result.display_figs_mpl()"
   ]
  },
  {
   "cell_type": "code",
   "execution_count": null,
   "metadata": {},
   "outputs": [],
   "source": [
    "ramsey_result.fit_results[\"Ramsey_decay\"].best_values[\"frequency\"]"
   ]
  },
  {
   "cell_type": "markdown",
   "metadata": {},
   "source": [
    "# T1"
   ]
  },
  {
   "cell_type": "code",
   "execution_count": null,
   "metadata": {},
   "outputs": [],
   "source": [
    "#f = qubit_0.clock_freqs.f01()\n",
    "#qubit_0.clock_freqs.f01(f+197e3)\n",
    "#qubit_0.reset.duration(200e-6)\n",
    "tau = ManualParameter(name=\"tau_delay\", unit=\"s\", label=\"Delay\")\n",
    "tau.batched = True\n",
    "\n",
    "t1_sched_kwargs = {\"times\": tau, \"qubit\": qubit_0.name}\n",
    "\n",
    "gettable = ScheduleGettable(\n",
    "    transmon_chip,\n",
    "    schedule_function=t1_sched,\n",
    "    schedule_kwargs=t1_sched_kwargs,\n",
    "    real_imag=False,\n",
    "    batched=True,\n",
    ")"
   ]
  },
  {
   "cell_type": "code",
   "execution_count": null,
   "metadata": {},
   "outputs": [],
   "source": [
    "delay_setpoints = np.arange(40e-9, 10e-6, 100e-9)\n",
    "\n",
    "measurement_control.settables(tau)\n",
    "measurement_control.setpoints(delay_setpoints)\n",
    "measurement_control.gettables(gettable)\n",
    "\n",
    "dset = measurement_control.run(\"T1 experiment\")"
   ]
  },
  {
   "cell_type": "code",
   "execution_count": null,
   "metadata": {},
   "outputs": [],
   "source": [
    "plt.plot(dset.x0, dset.y0)"
   ]
  },
  {
   "cell_type": "code",
   "execution_count": null,
   "metadata": {},
   "outputs": [],
   "source": [
    "plt.plot(dset.x0, dset.y1)"
   ]
  },
  {
   "cell_type": "code",
   "execution_count": null,
   "metadata": {},
   "outputs": [],
   "source": [
    "t1_result = T1Analysis(\n",
    "    label=\"T1\", settings_overwrite={\"mpl_transparent_background\": False}\n",
    ").run()\n",
    "t1_result.display_figs_mpl()"
   ]
  },
  {
   "cell_type": "markdown",
   "metadata": {},
   "source": [
    "# T2 - Ramsey"
   ]
  },
  {
   "cell_type": "code",
   "execution_count": null,
   "metadata": {},
   "outputs": [],
   "source": [
    "f = qubit_0.clock_freqs.f01()\n",
    "qubit_0.clock_freqs.f01(f+200.9e3)\n",
    "tau = ManualParameter(name=\"tau_delay\", unit=\"s\", label=\"Delay\")\n",
    "tau.batched = True\n",
    "\n",
    "ramsey_sched_kwargs = {\"times\": tau, \"qubit\": qubit_0.name, \"artificial_detuning\": 0}\n",
    "\n",
    "gettable = ScheduleGettable(\n",
    "    transmon_chip,\n",
    "    schedule_function=ramsey_sched,\n",
    "    schedule_kwargs=ramsey_sched_kwargs,\n",
    "    real_imag=True,\n",
    "    batched=True,\n",
    ")"
   ]
  },
  {
   "cell_type": "code",
   "execution_count": null,
   "metadata": {},
   "outputs": [],
   "source": [
    "tau_setpoints = np.arange(1e-6, 20e-6, 200e-9)\n",
    "#tau_setpoints = np.linspace(1e-6, 300e-6, 1000)\n",
    "\n",
    "measurement_control.settables(tau)\n",
    "measurement_control.setpoints(tau_setpoints)\n",
    "measurement_control.gettables(gettable)\n",
    "\n",
    "dset = measurement_control.run(\"Ramsey\")"
   ]
  },
  {
   "cell_type": "code",
   "execution_count": null,
   "metadata": {},
   "outputs": [],
   "source": [
    "ramsey_analysis = RamseyAnalysis(\n",
    "    label=\"Ramsey\", settings_overwrite={\"mpl_transparent_background\": False}\n",
    ")\n",
    "ramsey_result = ramsey_analysis.run(\n",
    "    artificial_detuning=ramsey_sched_kwargs[\"artificial_detuning\"]\n",
    ")\n",
    "ramsey_result.display_figs_mpl()\n"
   ]
  },
  {
   "cell_type": "markdown",
   "metadata": {},
   "source": [
    "# Echo"
   ]
  },
  {
   "cell_type": "code",
   "execution_count": null,
   "metadata": {},
   "outputs": [],
   "source": [
    "tau = ManualParameter(name=\"tau_delay\", unit=\"s\", label=\"Delay\")\n",
    "tau.batched = True\n",
    "\n",
    "echo_sched_kwargs = {\"times\": tau, \"qubit\": qubit_0.name}\n",
    "\n",
    "gettable = ScheduleGettable(\n",
    "    transmon_chip,\n",
    "    schedule_function=echo_sched,\n",
    "    schedule_kwargs=echo_sched_kwargs,\n",
    "    real_imag=True,\n",
    "    batched=True,\n",
    ")"
   ]
  },
  {
   "cell_type": "code",
   "execution_count": null,
   "metadata": {},
   "outputs": [],
   "source": [
    "delay_setpoints = np.arange(1e-6, 30e-6, 200e-9)\n",
    "\n",
    "measurement_control.settables(tau)\n",
    "measurement_control.setpoints(delay_setpoints)\n",
    "measurement_control.gettables(gettable)\n",
    "\n",
    "dset = measurement_control.run(\"Echo experiment\")"
   ]
  },
  {
   "cell_type": "code",
   "execution_count": null,
   "metadata": {},
   "outputs": [],
   "source": [
    "echo_result = EchoAnalysis(\n",
    "    label=\"Echo\", settings_overwrite={\"mpl_transparent_background\": False}\n",
    ").run()\n",
    "echo_result.display_figs_mpl()\n"
   ]
  },
  {
   "cell_type": "markdown",
   "metadata": {},
   "source": [
    "# All XY"
   ]
  },
  {
   "cell_type": "code",
   "execution_count": null,
   "metadata": {},
   "outputs": [],
   "source": [
    "qubit_0.reset.duration(500e-6)\n",
    "def show_allxy(idx: int = 0):\n",
    "    schedule = allxy_sched(qubit=qubit_0.name, element_select_idx=idx)\n",
    "    schedule.plot_circuit_diagram()\n",
    "\n",
    "\n",
    "widgets.interact(show_allxy, idx=widgets.IntSlider(min=0, max=20, step=1))"
   ]
  },
  {
   "cell_type": "code",
   "execution_count": null,
   "metadata": {},
   "outputs": [],
   "source": [
    "element_idx = ManualParameter(name=\"idx\", unit=\"\", label=\"element\")\n",
    "element_idx.batched = True\n",
    "\n",
    "allxy_sched_kwargs = {\"element_select_idx\": element_idx, \"qubit\": qubit_0.name}\n",
    "\n",
    "gettable = ScheduleGettable(\n",
    "    transmon_chip,\n",
    "    schedule_function=allxy_sched,\n",
    "    schedule_kwargs=allxy_sched_kwargs,\n",
    "    real_imag=True,\n",
    "    batched=True,\n",
    ")"
   ]
  },
  {
   "cell_type": "code",
   "execution_count": null,
   "metadata": {},
   "outputs": [],
   "source": [
    "element_idx_setpoints = np.arange(0, 21, 1)\n",
    "\n",
    "measurement_control.settables(element_idx)\n",
    "measurement_control.setpoints(element_idx_setpoints)\n",
    "measurement_control.gettables(gettable)\n",
    "\n",
    "dset = measurement_control.run(\"AllXY experiment\")"
   ]
  },
  {
   "cell_type": "code",
   "execution_count": null,
   "metadata": {},
   "outputs": [],
   "source": [
    "allxy_result = AllXYAnalysis(\n",
    "    label=\"AllXY\", settings_overwrite={\"mpl_transparent_background\": False}\n",
    ").run()\n",
    "allxy_result.display_figs_mpl()"
   ]
  },
  {
   "cell_type": "code",
   "execution_count": null,
   "metadata": {},
   "outputs": [],
   "source": [
    "transmon_chip.cfg_sched_repetitions(1)\n",
    "target_state = ManualParameter(name=\"target\", unit=\"\", label=\"target\")\n",
    "target_state.batched = True\n",
    "\n",
    "readout_calibration_sched_kwargs = {\"prepared_states\": target_state, \"qubit\": qubit_0.name}\n",
    "\n",
    "gettable = ScheduleGettable(\n",
    "    transmon_chip,\n",
    "    schedule_function=readout_calibration_sched,\n",
    "    schedule_kwargs=readout_calibration_sched_kwargs,\n",
    "    real_imag=False,\n",
    "    batched=True,\n",
    ")"
   ]
  },
  {
   "cell_type": "code",
   "execution_count": null,
   "metadata": {},
   "outputs": [],
   "source": [
    "from scipy.optimize import minimize"
   ]
  },
  {
   "cell_type": "code",
   "execution_count": null,
   "metadata": {},
   "outputs": [],
   "source": [
    "transmon_chip.cfg_sched_repetitions(1)"
   ]
  },
  {
   "cell_type": "code",
   "execution_count": null,
   "metadata": {},
   "outputs": [],
   "source": [
    "def cost_function(pars):\n",
    "    amplitude, frequency = pars\n",
    "    qubit_0.measure.pulse_amp(amplitude)\n",
    "    qubit_0.clock_freqs.readout(frequency)\n",
    "    target_state_setpoints = np.zeros(1000, dtype=int)\n",
    "\n",
    "    measurement_control.settables(target_state)\n",
    "    measurement_control.setpoints(target_state_setpoints)\n",
    "    measurement_control.gettables(gettable)\n",
    "\n",
    "    dset0 = measurement_control.run(\"discrimination0\")\n",
    "\n",
    "\n",
    "    target_state_setpoints = np.ones(1000, dtype=int)\n",
    "\n",
    "    measurement_control.settables(target_state)\n",
    "    measurement_control.setpoints(target_state_setpoints)\n",
    "    measurement_control.gettables(gettable)\n",
    "    dset1 = measurement_control.run(\"discrimination1\")\n",
    "    return -np.abs(np.average(dset0.y1)-np.average(dset1.y1))\n"
   ]
  },
  {
   "cell_type": "code",
   "execution_count": null,
   "metadata": {},
   "outputs": [],
   "source": [
    "from scipy.optimize import minimize\n",
    "res = minimize(cost_function, x0=(0.14, 6.750792e9), bounds=((0.1, 0.25), (6.7e9, 6.8e9)))"
   ]
  },
  {
   "cell_type": "code",
   "execution_count": null,
   "metadata": {},
   "outputs": [],
   "source": [
    "res"
   ]
  },
  {
   "cell_type": "code",
   "execution_count": null,
   "metadata": {},
   "outputs": [],
   "source": [
    "cost_function([1.39852543e-01, 6.75079200e+09])"
   ]
  },
  {
   "cell_type": "code",
   "execution_count": null,
   "metadata": {},
   "outputs": [],
   "source": [
    "amplitude, frequency = [1.39852543e-01, 6.75079200e+09]\n",
    "qubit_0.measure.pulse_amp(amplitude)\n",
    "qubit_0.clock_freqs.readout(frequency)\n",
    "target_state_setpoints = np.zeros(1000, dtype=int)\n",
    "\n",
    "measurement_control.settables(target_state)\n",
    "measurement_control.setpoints(target_state_setpoints)\n",
    "measurement_control.gettables(gettable)\n",
    "\n",
    "dset0 = measurement_control.run(\"discrimination0\")\n",
    "\n",
    "\n",
    "target_state_setpoints = np.ones(1000, dtype=int)\n",
    "\n",
    "measurement_control.settables(target_state)\n",
    "measurement_control.setpoints(target_state_setpoints)\n",
    "measurement_control.gettables(gettable)\n",
    "dset1 = measurement_control.run(\"discrimination1\")"
   ]
  },
  {
   "cell_type": "code",
   "execution_count": null,
   "metadata": {},
   "outputs": [],
   "source": [
    "print(np.average(dset0.y1)-np.average(dset1.y1))"
   ]
  },
  {
   "cell_type": "code",
   "execution_count": null,
   "metadata": {},
   "outputs": [],
   "source": [
    "plt.scatter(dset0.y0, dset0.y1, alpha=0.1)\n",
    "plt.scatter(dset1.y0, dset1.y1, alpha=0.1)"
   ]
  },
  {
   "cell_type": "code",
   "execution_count": null,
   "metadata": {},
   "outputs": [],
   "source": [
    "import matplotlib.pyplot as plt\n",
    "ground = np.where(dset[\"x0\"]==0)\n",
    "plt.scatter(dset.y0[ground], dset.y1[ground])\n",
    "ground = np.where(dset[\"x0\"]==1)\n",
    "plt.scatter(dset.y0[ground], dset.y1[ground])"
   ]
  },
  {
   "cell_type": "code",
   "execution_count": null,
   "metadata": {},
   "outputs": [],
   "source": [
    "import matplotlib.pyplot as plt\n",
    "ground = np.where(dset[\"x0\"]==0)\n",
    "plt.scatter(dset.y0[ground], dset.y1[ground])\n",
    "ground = np.where(dset[\"x0\"]==1)\n",
    "plt.scatter(dset.y0[ground], dset.y1[ground])"
   ]
  },
  {
   "cell_type": "code",
   "execution_count": null,
   "metadata": {},
   "outputs": [],
   "source": [
    "dset"
   ]
  },
  {
   "cell_type": "code",
   "execution_count": null,
   "metadata": {},
   "outputs": [],
   "source": [
    "#Loading data\n",
    "from quantify_core.data.handling import load_dataset\n",
    "rabi_data = load_dataset(\"20230116-161745\") #Change to your own data\n"
   ]
  },
  {
   "cell_type": "code",
   "execution_count": null,
   "metadata": {},
   "outputs": [],
   "source": [
    "r = RabiAnalysis(rabi_data).run(calibration_points=True)\n",
    "r.display_figs_mpl()"
   ]
  },
  {
   "cell_type": "code",
   "execution_count": null,
   "metadata": {},
   "outputs": [],
   "source": []
  }
 ],
 "metadata": {
  "kernelspec": {
   "name": "python3",
   "language": "python",
   "display_name": "Python 3 (ipykernel)"
  },
  "language_info": {
   "codemirror_mode": {
    "name": "ipython",
    "version": 3
   },
   "file_extension": ".py",
   "mimetype": "text/x-python",
   "name": "python",
   "nbconvert_exporter": "python",
   "pygments_lexer": "ipython3",
   "version": "3.8.16"
  },
  "vscode": {
   "interpreter": {
    "hash": "b9e0efb4514e0ed424f92dac0577640f826eaaa021c2cb80f1b36c73515c956f"
   }
  }
 },
 "nbformat": 4,
 "nbformat_minor": 4
}
