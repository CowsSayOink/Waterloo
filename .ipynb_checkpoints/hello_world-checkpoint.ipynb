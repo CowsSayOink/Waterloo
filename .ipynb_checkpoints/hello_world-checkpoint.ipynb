{
 "cells": [
  {
   "cell_type": "code",
   "execution_count": 12,
   "metadata": {},
   "outputs": [],
   "source": [
    "import json\n",
    "import warnings\n",
    "from typing import Any, Callable, Dict\n",
    "\n",
    "import lmfit\n",
    "import matplotlib.pyplot as plt\n",
    "import numpy as np\n",
    "from qblox_instruments import Cluster, ClusterType, PlugAndPlay\n",
    "from qblox_instruments.ieee488_2 import DummyBinnedAcquisitionData\n",
    "from quantify_core.analysis import base_analysis as ba\n",
    "from quantify_core.measurement import MeasurementControl\n",
    "from quantify_core.visualization import mpl_plotting as qpl\n",
    "from quantify_core.visualization.instrument_monitor import InstrumentMonitor\n",
    "from quantify_core.visualization.pyqt_plotmon import \\\n",
    "    PlotMonitor_pyqt as PlotMonitor\n",
    "from quantify_core.visualization.SI_utilities import format_value_string\n",
    "from quantify_scheduler.backends import SerialCompiler\n",
    "from quantify_scheduler.device_under_test.quantum_device import QuantumDevice\n",
    "from quantify_scheduler.device_under_test.transmon_element import \\\n",
    "    BasicTransmonElement\n",
    "from quantify_scheduler.instrument_coordinator import InstrumentCoordinator\n",
    "from quantify_scheduler.instrument_coordinator.components.qblox import \\\n",
    "    ClusterComponent\n",
    "# from quantify_scheduler.schedules.spectroscopy_schedules import (\n",
    "#     heterodyne_spec_sched,\n",
    "#     two_tone_spec_sched,\n",
    "# )\n",
    "from qblox_instruments.ieee488_2 import DummyBinnedAcquisitionData\n",
    "from quantify_core.data.handling import set_datadir\n",
    "# warnings.simplefilter(\"always\")\n"
   ]
  },
  {
   "cell_type": "code",
   "execution_count": 13,
   "metadata": {},
   "outputs": [],
   "source": [
    "set_datadir(\"quantify_data\")"
   ]
  },
  {
   "cell_type": "code",
   "execution_count": 14,
   "metadata": {},
   "outputs": [
    {
     "name": "stdout",
     "output_type": "stream",
     "text": [
      "Devices:\n",
      " - 169.254.180.110: cluster_mm 0.3.0 with name \"Ontario\" and serial number 00015_2251_001\n"
     ]
    }
   ],
   "source": [
    "with PlugAndPlay() as p:\n",
    "    p.print_devices()"
   ]
  },
  {
   "cell_type": "markdown",
   "metadata": {},
   "source": [
    "For the purpose of these tutorials, we will use dummy hardware. This allows us to run the tutorial without using any hardware. The dummy will compile the experiment as normal, but return data provided beforehand as measurement results."
   ]
  },
  {
   "cell_type": "code",
   "execution_count": 15,
   "metadata": {},
   "outputs": [],
   "source": [
    "cluster = Cluster(\"cluster\", \"Ontario\")\n",
    "\n",
    "# Reset\n",
    "cluster.reset()"
   ]
  },
  {
   "cell_type": "code",
   "execution_count": 16,
   "metadata": {},
   "outputs": [],
   "source": [
    "ic = InstrumentCoordinator(\"IC\")\n",
    "ic.add_component(ClusterComponent(cluster))"
   ]
  },
  {
   "cell_type": "code",
   "execution_count": 17,
   "metadata": {},
   "outputs": [],
   "source": [
    "measurement_control = MeasurementControl(\"QubitCalibration\")\n",
    "\n",
    "plotmon = PlotMonitor(\"PlotMonitor\")\n",
    "instmon = InstrumentMonitor(\"InstrumentMonitor\")\n",
    "measurement_control.instr_plotmon(plotmon.name)\n",
    "plotmon.tuids_max_num(1)"
   ]
  },
  {
   "cell_type": "markdown",
   "metadata": {},
   "source": [
    "The central component for all experiments is the QuantumDevice. It connects information about the qubits and their connectivity with the involved control hardware, instrument coordinator and measurement control. First we define the device, and connect it to instrument coordinator and measurement control."
   ]
  },
  {
   "cell_type": "code",
   "execution_count": 18,
   "metadata": {},
   "outputs": [],
   "source": [
    "transmon_chip = QuantumDevice(\"transmon_chip\")\n",
    "transmon_chip.instr_instrument_coordinator(\"IC\")\n",
    "transmon_chip.instr_measurement_control(\"QubitCalibration\")"
   ]
  },
  {
   "cell_type": "markdown",
   "metadata": {},
   "source": [
    "Next, we add information about the control electronics and how they are connected to the QuantumDevice."
   ]
  },
  {
   "cell_type": "code",
   "execution_count": null,
   "metadata": {},
   "outputs": [],
   "source": [
    "hardware_config_file = \"./hw_config_rf.json\"\n",
    "\n",
    "with open(hardware_config_file, \"r\") as f:\n",
    "    hardware_cfg = json.load(f)\n",
    "transmon_chip.hardware_config(hardware_cfg)\n",
    "\n",
    "transmon_chip.cfg_sched_repetitions(1024)"
   ]
  },
  {
   "cell_type": "markdown",
   "metadata": {},
   "source": [
    "We also need to provide information about the qubits. In this example, we will use a single qubit called `qubit_0`."
   ]
  },
  {
   "cell_type": "code",
   "execution_count": null,
   "metadata": {},
   "outputs": [],
   "source": [
    "qubit_0 = BasicTransmonElement(\"q0\")\n",
    "transmon_chip.add_element(qubit_0)\n",
    "\n",
    "qubit_0.clock_freqs.readout(6.75078e9)\n",
    "qubit_0.clock_freqs.f01(6.01e9)\n",
    "\n",
    "qubit_0.measure.pulse_amp(0.006)\n",
    "qubit_0.measure.pulse_duration(1000e-9)\n",
    "qubit_0.measure.integration_time(1600e-9)\n",
    "qubit_0.measure.acq_delay(164e-9)\n",
    "\n",
    "qubit_0.reset.duration(100e-6)\n",
    "\n",
    "qubit_0.rxy.duration(120e-9)\n",
    "qubit_0.rxy.amp180(0.2)\n",
    "qubit_0.rxy.motzoi(0.1)\n"
   ]
  },
  {
   "cell_type": "markdown",
   "metadata": {},
   "source": [
    "Now that the QuantumDevice is fully defined, we can use it. To automate the compilation process, we will define a compiler where the `transmon_chip` is added as default value. This enables us to use\n",
    "`compiler.compile(schedule)`, whenever we want to compile a generic schedule to this specific quantum device."
   ]
  },
  {
   "cell_type": "code",
   "execution_count": null,
   "metadata": {},
   "outputs": [],
   "source": [
    "#compiler = SerialCompiler(\"compiler\")\n",
    "compiler = SerialCompiler(\"compiler\", quantum_device=transmon_chip)"
   ]
  },
  {
   "cell_type": "markdown",
   "metadata": {},
   "source": [
    "Quantify provides functions to set up many standard experiments. We can use these with the QuantumDevice by defining some helper functions"
   ]
  },
  {
   "cell_type": "code",
   "execution_count": null,
   "metadata": {},
   "outputs": [],
   "source": [
    "def kwarg_wrapper(func: Callable[[BasicTransmonElement], Dict[str, Any]]) -> Callable:\n",
    "    def inner(qubit: BasicTransmonElement, **kwargs):\n",
    "        default = func(qubit)\n",
    "        for key, value in kwargs.items():\n",
    "            if key in default:\n",
    "                default[key] = value\n",
    "            else:\n",
    "                raise RuntimeError\n",
    "        return default\n",
    "\n",
    "    return inner\n",
    "\n",
    "\n",
    "@kwarg_wrapper\n",
    "def heterodyne_spec_kwargs(qubit: BasicTransmonElement) -> Dict[str, Any]:\n",
    "    return {\n",
    "        \"pulse_amp\": qubit.measure.pulse_amp(),\n",
    "        \"pulse_duration\": qubit.measure.pulse_duration(),\n",
    "        \"frequencies\": [qubit.clock_freqs.readout()],\n",
    "        \"acquisition_delay\": qubit.measure.acq_delay(),\n",
    "        \"integration_time\": qubit.measure.integration_time(),\n",
    "        \"init_duration\": qubit.reset.duration(),\n",
    "        \"port\": qubit.ports.readout(),\n",
    "        \"clock\": qubit.name + \".ro\",\n",
    "    }\n",
    "\n",
    "\n",
    "@kwarg_wrapper\n",
    "def two_tone_spec_kwargs(qubit: BasicTransmonElement, **kwargs) -> Dict[str, Any]:\n",
    "    return {\n",
    "        \"spec_pulse_amp\": 0.001,\n",
    "        \"spec_pulse_duration\": 4e-6,\n",
    "        \"spec_pulse_frequency\": qubit.clock_freqs.f01(),\n",
    "        \"spec_pulse_port\": qubit.ports.microwave(),\n",
    "        \"spec_pulse_clock\": qubit.name + \".01\",\n",
    "        \"ro_pulse_amp\": qubit.measure.pulse_amp(),\n",
    "        \"ro_pulse_duration\": qubit.measure.pulse_duration(),\n",
    "        \"ro_pulse_delay\": 200e-9,\n",
    "        \"ro_pulse_port\": qubit.ports.readout(),\n",
    "        \"ro_pulse_clock\": qubit.name + \".ro\",\n",
    "        \"ro_pulse_frequency\": qubit.clock_freqs.readout(),\n",
    "        \"ro_acquisition_delay\": qubit.measure.acq_delay(),\n",
    "        \"ro_integration_time\": qubit.measure.integration_time(),\n",
    "        \"init_duration\": qubit.reset.duration(),\n",
    "    }\n",
    "\n",
    "\n",
    "@kwarg_wrapper\n",
    "def rabi_kwargs(qubit: BasicTransmonElement) -> Dict[str, Any]:\n",
    "    return {\n",
    "        \"pulse_amp\": qubit.rxy.amp180(),\n",
    "        \"pulse_duration\": qubit.rxy.duration(),\n",
    "        \"frequency\": qubit.clock_freqs.f01(),\n",
    "        \"qubit\": qubit.name,\n",
    "    }"
   ]
  },
  {
   "cell_type": "markdown",
   "metadata": {},
   "source": [
    "If we want to run the tutorial notebook without hardware and still use the fitting routines, we need to provide the (fake) results for each experiment. These helper functions facilitate doing so."
   ]
  },
  {
   "cell_type": "code",
   "execution_count": null,
   "metadata": {},
   "outputs": [],
   "source": [
    "class heterodyne_spec_sched_with_dummy:\n",
    "    def __init__(self):\n",
    "        dummy_data = [\n",
    "            [DummyBinnedAcquisitionData(data=(0.1, 0.2), thres=1, avg_cnt=0)],\n",
    "            [DummyBinnedAcquisitionData(data=(0.3, 0.4), thres=1, avg_cnt=0)],\n",
    "            [DummyBinnedAcquisitionData(data=(0.5, 0.6), thres=1, avg_cnt=0)],\n",
    "        ]\n",
    "        self.dummy_data_iter = iter(dummy_data)\n",
    "\n",
    "    def __call__(self, **kwargs):\n",
    "        print(\"New schedule generation\")\n",
    "        print(kwargs)\n",
    "        cluster.set_dummy_binned_acquisition_data(\n",
    "            slot_idx=16,\n",
    "            sequencer=0,\n",
    "            acq_index_name=\"0\",\n",
    "            data=next(self.dummy_data_iter),\n",
    "        )\n",
    "        return heterodyne_spec_sched(**kwargs)\n",
    "\n",
    "def set_dummy_data_rabi():\n",
    "    dummy_data_rabi = [\n",
    "                DummyBinnedAcquisitionData(data=(np.cos(2*np.pi*i/20), np.sin(2*np.pi*i/20)), thres=1, avg_cnt=0) for i in range(50)\n",
    "            ]\n",
    "\n",
    "    cluster.set_dummy_binned_acquisition_data(\n",
    "                slot_idx=16,\n",
    "                sequencer=0,\n",
    "                acq_index_name=\"0\",\n",
    "                data=dummy_data_rabi,\n",
    "            )\n",
    "    \n",
    "def clear_dummy_data():\n",
    "    cluster.set_dummy_binned_acquisition_data(\n",
    "                slot_idx=16,\n",
    "                sequencer=0,\n",
    "                acq_index_name=\"0\",\n",
    "                data=[],\n",
    "            )"
   ]
  },
  {
   "cell_type": "markdown",
   "metadata": {},
   "source": [
    "Quantify provides analysis classes for many standard experiments. But sometimes we want to define our own. Below we show how this is done on the example of two tone spectroscopy on a superconducting qubit."
   ]
  },
  {
   "cell_type": "code",
   "execution_count": null,
   "metadata": {},
   "outputs": [],
   "source": [
    "class QubitSpectroscopyAnalysis(ba.BaseAnalysis):\n",
    "    \"\"\"\n",
    "    Fits a Lorentzian function to qubit spectroscopy data and finds the\n",
    "    0-1 transistion frequency of the qubit\n",
    "    \"\"\"\n",
    "\n",
    "    def process_data(self):\n",
    "        \"\"\"\n",
    "        Populates the :code:`.dataset_processed`.\n",
    "        \"\"\"\n",
    "        # y0 = amplitude, no check for the amplitude unit as the name/label is\n",
    "        # often different.\n",
    "\n",
    "        self.dataset_processed[\"Magnitude\"] = self.dataset.y0\n",
    "        self.dataset_processed.Magnitude.attrs[\"name\"] = \"Magnitude\"\n",
    "        self.dataset_processed.Magnitude.attrs[\"units\"] = self.dataset.y0.units\n",
    "        self.dataset_processed.Magnitude.attrs[\"long_name\"] = \"Magnitude, $|S_{21}|$\"\n",
    "\n",
    "        self.dataset_processed[\"x0\"] = self.dataset.x0\n",
    "        self.dataset_processed = self.dataset_processed.set_coords(\"x0\")\n",
    "        # replace the default dim_0 with x0\n",
    "        self.dataset_processed = self.dataset_processed.swap_dims({\"dim_0\": \"x0\"})\n",
    "\n",
    "    def run_fitting(self):\n",
    "        \"\"\"\n",
    "        Fits a Lorentzian function to the data.\n",
    "        \"\"\"\n",
    "        mod = LorentzianModel()\n",
    "\n",
    "        magnitude = np.array(self.dataset_processed[\"Magnitude\"])\n",
    "        frequency = np.array(self.dataset_processed.x0)\n",
    "        guess = mod.guess(magnitude, x=frequency)\n",
    "        fit_result = mod.fit(magnitude, params=guess, x=frequency)\n",
    "\n",
    "        self.fit_results.update({\"Lorentzian_peak\": fit_result})\n",
    "\n",
    "    def analyze_fit_results(self):\n",
    "        \"\"\"\n",
    "        Checks fit success and populates :code:`.quantities_of_interest`.\n",
    "        \"\"\"\n",
    "        fit_result = self.fit_results[\"Lorentzian_peak\"]\n",
    "        fit_warning = ba.wrap_text(ba.check_lmfit(fit_result))\n",
    "\n",
    "        # If there is a problem with the fit, display an error message in the text box.\n",
    "        # Otherwise, display the parameters as normal.\n",
    "        if fit_warning is None:\n",
    "            self.quantities_of_interest[\"fit_success\"] = True\n",
    "\n",
    "            text_msg = \"Summary\\n\"\n",
    "            text_msg += format_value_string(\n",
    "                \"Frequency 0-1\",\n",
    "                fit_result.params[\"x0\"],\n",
    "                unit=\"Hz\",\n",
    "                end_char=\"\\n\",\n",
    "            )\n",
    "            text_msg += format_value_string(\n",
    "                \"Peak width\",\n",
    "                fit_result.params[\"width\"],\n",
    "                unit=\"Hz\",\n",
    "                end_char=\"\\n\",\n",
    "            )\n",
    "        else:\n",
    "            text_msg = ba.wrap_text(fit_warning)\n",
    "            self.quantities_of_interest[\"fit_success\"] = False\n",
    "\n",
    "        self.quantities_of_interest[\"frequency_01\"] = ba.lmfit_par_to_ufloat(\n",
    "            fit_result.params[\"x0\"]\n",
    "        )\n",
    "        self.quantities_of_interest[\"fit_msg\"] = text_msg\n",
    "\n",
    "    def create_figures(self):\n",
    "        \"\"\"Creates qubit spectroscopy figure\"\"\"\n",
    "\n",
    "        fig_id = \"qubit_spectroscopy\"\n",
    "        fig, ax = plt.subplots()\n",
    "        self.figs_mpl[fig_id] = fig\n",
    "        self.axs_mpl[fig_id] = ax\n",
    "\n",
    "        # Add a textbox with the fit_message\n",
    "        qpl.plot_textbox(ax, self.quantities_of_interest[\"fit_msg\"])\n",
    "\n",
    "        self.dataset_processed.Magnitude.plot(ax=ax, marker=\".\", linestyle=\"\")\n",
    "\n",
    "        qpl.plot_fit(\n",
    "            ax=ax,\n",
    "            fit_res=self.fit_results[\"Lorentzian_peak\"],\n",
    "            plot_init=not self.quantities_of_interest[\"fit_success\"],\n",
    "            range_casting=\"real\",\n",
    "        )\n",
    "\n",
    "        qpl.set_ylabel(ax, r\"Output voltage\", self.dataset_processed.Magnitude.units)\n",
    "        qpl.set_xlabel(\n",
    "            ax, self.dataset_processed.x0.long_name, self.dataset_processed.x0.units\n",
    "        )\n",
    "\n",
    "        qpl.set_suptitle_from_dataset(fig, self.dataset, \"S21\")\n",
    "\n",
    "\n",
    "def lorentzian(\n",
    "    x: float,\n",
    "    x0: float,\n",
    "    width: float,\n",
    "    A: float,\n",
    "    c: float,\n",
    ") -> float:\n",
    "    r\"\"\"\n",
    "    A Lorentzian function.\n",
    "\n",
    "    Parameters\n",
    "    ----------\n",
    "    x:\n",
    "        independent variable\n",
    "    x0:\n",
    "        horizontal offset\n",
    "    width:\n",
    "        Lorenztian linewidth\n",
    "    A:\n",
    "        amplitude\n",
    "    c:\n",
    "        vertical offset\n",
    "\n",
    "    Returns\n",
    "    -------\n",
    "    :\n",
    "        Lorentzian function\n",
    "\n",
    "\n",
    "    .. math::\n",
    "\n",
    "        y = \\frac{A*\\mathrm{width}}{\\pi(\\mathrm{width}^2 + (x - x_0)^2)} + c\n",
    "\n",
    "    \"\"\"\n",
    "\n",
    "    return A * width / (np.pi * ((x - x0) ** 2) + width**2) + c\n",
    "\n",
    "\n",
    "class LorentzianModel(lmfit.model.Model):\n",
    "    \"\"\"\n",
    "    Model for data which follows a Lorentzian function.\n",
    "    \"\"\"\n",
    "\n",
    "    # pylint: disable=empty-docstring\n",
    "    # pylint: disable=abstract-method\n",
    "    # pylint: disable=too-few-public-methods\n",
    "\n",
    "    def __init__(self, *args, **kwargs):\n",
    "        # pass in the defining equation so the user doesn't have to later.\n",
    "\n",
    "        super().__init__(lorentzian, *args, **kwargs)\n",
    "\n",
    "        self.set_param_hint(\"x0\", vary=True)\n",
    "        self.set_param_hint(\"A\", vary=True)\n",
    "        self.set_param_hint(\"c\", vary=True)\n",
    "        self.set_param_hint(\"width\", vary=True)\n",
    "\n",
    "    # pylint: disable=missing-function-docstring\n",
    "    def guess(self, data, **kws) -> lmfit.parameter.Parameters:\n",
    "        x = kws.get(\"x\", None)\n",
    "\n",
    "        if x is None:\n",
    "            return None\n",
    "\n",
    "        # Guess that the resonance is where the function takes its maximal\n",
    "        # value\n",
    "        x0_guess = x[np.argmax(data)]\n",
    "        self.set_param_hint(\"x0\", value=x0_guess)\n",
    "\n",
    "        # assume the user isn't trying to fit just a small part of a resonance curve.\n",
    "        xmin = x.min()\n",
    "        xmax = x.max()\n",
    "        width_max = xmax - xmin\n",
    "\n",
    "        delta_x = np.diff(x)  # assume f is sorted\n",
    "        min_delta_x = delta_x[delta_x > 0].min()\n",
    "        # assume data actually samples the resonance reasonably\n",
    "        width_min = min_delta_x\n",
    "        width_guess = np.sqrt(width_min * width_max)  # geometric mean, why not?\n",
    "        self.set_param_hint(\"width\", value=width_guess)\n",
    "\n",
    "        # The guess for the vertical offset is the mean absolute value of the data\n",
    "        c_guess = np.mean(data)\n",
    "        self.set_param_hint(\"c\", value=c_guess)\n",
    "\n",
    "        # Calculate A_guess from difference between the peak and the backround level\n",
    "        A_guess = np.pi * width_guess * (np.max(data) - c_guess)\n",
    "        self.set_param_hint(\"A\", value=A_guess)\n",
    "\n",
    "        params = self.make_params()\n",
    "        return lmfit.models.update_param_vals(params, self.prefix, **kws)"
   ]
  },
  {
   "cell_type": "code",
   "execution_count": null,
   "metadata": {},
   "outputs": [],
   "source": [
    "measurement_control.__init__"
   ]
  },
  {
   "cell_type": "code",
   "execution_count": null,
   "metadata": {},
   "outputs": [],
   "source": []
  },
  {
   "cell_type": "code",
   "execution_count": null,
   "metadata": {},
   "outputs": [],
   "source": []
  },
  {
   "cell_type": "code",
   "execution_count": null,
   "metadata": {},
   "outputs": [],
   "source": []
  }
 ],
 "metadata": {
  "kernelspec": {
   "display_name": "Python 3 (ipykernel)",
   "language": "python",
   "name": "python3"
  },
  "language_info": {
   "codemirror_mode": {
    "name": "ipython",
    "version": 3
   },
   "file_extension": ".py",
   "mimetype": "text/x-python",
   "name": "python",
   "nbconvert_exporter": "python",
   "pygments_lexer": "ipython3",
   "version": "3.10.9"
  },
  "vscode": {
   "interpreter": {
    "hash": "925b145913eaff3bcd600454df47bd0180947d72f4bc744bd19cb3d350dc8eb0"
   }
  }
 },
 "nbformat": 4,
 "nbformat_minor": 4
}
