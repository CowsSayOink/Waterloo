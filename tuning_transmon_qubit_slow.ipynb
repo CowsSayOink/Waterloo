{
 "cells": [
  {
   "cell_type": "code",
   "execution_count": 1,
   "metadata": {},
   "outputs": [],
   "source": [
    "import warnings\n",
    "\n",
    "import ipywidgets as widgets\n",
    "import numpy as np\n",
    "\n",
    "from qcodes.instrument.parameter import ManualParameter\n",
    "from quantify_scheduler.gettables import ScheduleGettable\n",
    "\n",
    "#import ipynb\n",
    "\n",
    "\n",
    "\n",
    "# warnings.simplefilter(\"always\")"
   ]
  },
  {
   "cell_type": "code",
   "execution_count": 2,
   "metadata": {},
   "outputs": [],
   "source": [
    "from quantify_core.analysis.spectroscopy_analysis import ResonatorSpectroscopyAnalysis\n",
    "\n",
    "from quantify_core.analysis.single_qubit_timedomain import (\n",
    "    AllXYAnalysis,\n",
    "   EchoAnalysis,\n",
    "   RabiAnalysis,\n",
    "   RamseyAnalysis,\n",
    "   T1Analysis,\n",
    ")"
   ]
  },
  {
   "cell_type": "code",
   "execution_count": 3,
   "metadata": {},
   "outputs": [],
   "source": [
    "from quantify_scheduler.schedules.timedomain_schedules import (\n",
    "    allxy_sched,\n",
    "    echo_sched,\n",
    "    rabi_sched,\n",
    "    ramsey_sched,\n",
    "    t1_sched,\n",
    "    readout_calibration_sched\n",
    ")"
   ]
  },
  {
   "cell_type": "code",
   "execution_count": 4,
   "metadata": {},
   "outputs": [],
   "source": [
    "from quantify_scheduler.schedules.spectroscopy_schedules import (\n",
    "    heterodyne_spec_sched,\n",
    "    two_tone_spec_sched,\n",
    ")"
   ]
  },
  {
   "cell_type": "code",
   "execution_count": null,
   "metadata": {},
   "outputs": [],
   "source": []
  },
  {
   "cell_type": "code",
   "execution_count": 5,
   "metadata": {},
   "outputs": [
    {
     "name": "stdout",
     "output_type": "stream",
     "text": [
      "Devices:\n",
      " - 169.254.180.110: cluster_mm 0.3.0 with name \"Ontario\" and serial number 00015_2251_001\n"
     ]
    }
   ],
   "source": [
    "import ipynb\n",
    "from ipynb.fs.full.hello_world import qubit_0, measurement_control, transmon_chip\n",
    "from ipynb.fs.full.hello_world import compiler\n",
    "from ipynb.fs.full.hello_world import heterodyne_spec_kwargs, two_tone_spec_kwargs, rabi_kwargs\n",
    "from ipynb.fs.full.hello_world import set_dummy_data_rabi, clear_dummy_data, heterodyne_spec_sched_with_dummy\n",
    "from ipynb.fs.full.hello_world import QubitSpectroscopyAnalysis"
   ]
  },
  {
   "cell_type": "markdown",
   "metadata": {},
   "source": [
    "# Resonator spectroscopy\n",
    "The very first experiment for tuning a superconducting qubit is to find the resonance frequency of the readout resonator. As we will be sweeping the frequency, we first define a qcodes `Parameter` as placeholder, which will be filled with the sweep values during the experiment."
   ]
  },
  {
   "cell_type": "code",
   "execution_count": 6,
   "metadata": {},
   "outputs": [],
   "source": [
    "freq = ManualParameter(name=\"frequency\", unit=\"Hz\", label=\"f\")"
   ]
  },
  {
   "cell_type": "markdown",
   "metadata": {},
   "source": [
    "Next, we need to set up `MeasurementControl` to use this Parameter. First, we set that the next measurement will be sweeping over the frequency:"
   ]
  },
  {
   "cell_type": "code",
   "execution_count": 7,
   "metadata": {},
   "outputs": [],
   "source": [
    "measurement_control.settables(freq)"
   ]
  },
  {
   "cell_type": "markdown",
   "metadata": {},
   "source": [
    "We also need to set the actual values for the experiment. Here from 2-10 GHz, in 3 steps."
   ]
  },
  {
   "cell_type": "code",
   "execution_count": 8,
   "metadata": {},
   "outputs": [],
   "source": [
    "measurement_control.setpoints(np.linspace(7.435e9, 7.45e9, 100))"
   ]
  },
  {
   "cell_type": "markdown",
   "metadata": {},
   "source": [
    "We also need to define the actual measurement. To this end, we use a schedule function. This is simply a function that generates a schedule for a given frequency. As Resonator spectroscopy is a standard experiment, we can simply import the function from quantify. We will have a look at custom schedule functions later."
   ]
  },
  {
   "cell_type": "code",
   "execution_count": 9,
   "metadata": {},
   "outputs": [],
   "source": [
    "# TODO: We should show a schedule function somewhere\n",
    "heterodyne_spec_function = heterodyne_spec_sched"
   ]
  },
  {
   "cell_type": "markdown",
   "metadata": {},
   "source": [
    "The schedule function itself is still an abstract object, it does not refer to the hardware config (e.g. cabling, ip addresses) yet. To fully define the measurements, we define a `ScheduleGettable`, which fully describes the experiment."
   ]
  },
  {
   "cell_type": "code",
   "execution_count": 10,
   "metadata": {},
   "outputs": [
    {
     "ename": "RuntimeError",
     "evalue": "",
     "output_type": "error",
     "traceback": [
      "\u001B[1;31m---------------------------------------------------------------------------\u001B[0m",
      "\u001B[1;31mRuntimeError\u001B[0m                              Traceback (most recent call last)",
      "Cell \u001B[1;32mIn[10], line 4\u001B[0m\n\u001B[0;32m      1\u001B[0m gettable \u001B[39m=\u001B[39m ScheduleGettable(\n\u001B[0;32m      2\u001B[0m     quantum_device\u001B[39m=\u001B[39mtransmon_chip,\n\u001B[0;32m      3\u001B[0m     schedule_function\u001B[39m=\u001B[39mheterodyne_spec_function,\n\u001B[1;32m----> 4\u001B[0m     schedule_kwargs\u001B[39m=\u001B[39mheterodyne_spec_kwargs(qubit_0, frequency\u001B[39m=\u001B[39;49mfreq),\n\u001B[0;32m      5\u001B[0m     real_imag\u001B[39m=\u001B[39m\u001B[39mFalse\u001B[39;00m,\n\u001B[0;32m      6\u001B[0m )\n",
      "File \u001B[1;32mc:\\Users\\EQSL\\Qblox code\\hello_world.ipynb:117\u001B[0m, in \u001B[0;36minner\u001B[1;34m(qubit, **kwargs)\u001B[0m\n\u001B[0;32m      1\u001B[0m {\n\u001B[0;32m      2\u001B[0m  \u001B[39m\"\u001B[39m\u001B[39mcells\u001B[39m\u001B[39m\"\u001B[39m: [\n\u001B[0;32m      3\u001B[0m   {\n\u001B[0;32m      4\u001B[0m    \u001B[39m\"\u001B[39m\u001B[39mcell_type\u001B[39m\u001B[39m\"\u001B[39m: \u001B[39m\"\u001B[39m\u001B[39mcode\u001B[39m\u001B[39m\"\u001B[39m,\n\u001B[0;32m      5\u001B[0m    \u001B[39m\"\u001B[39m\u001B[39mexecution_count\u001B[39m\u001B[39m\"\u001B[39m: \u001B[39m7\u001B[39m,\n\u001B[0;32m      6\u001B[0m    \u001B[39m\"\u001B[39m\u001B[39mmetadata\u001B[39m\u001B[39m\"\u001B[39m: {},\n\u001B[0;32m      7\u001B[0m    \u001B[39m\"\u001B[39m\u001B[39moutputs\u001B[39m\u001B[39m\"\u001B[39m: [],\n\u001B[0;32m      8\u001B[0m    \u001B[39m\"\u001B[39m\u001B[39msource\u001B[39m\u001B[39m\"\u001B[39m: [\n\u001B[0;32m      9\u001B[0m     \u001B[39m\"\u001B[39m\u001B[39mimport json\u001B[39m\u001B[39m\\n\u001B[39;00m\u001B[39m\"\u001B[39m,\n\u001B[0;32m     10\u001B[0m     \u001B[39m\"\u001B[39m\u001B[39mimport warnings\u001B[39m\u001B[39m\\n\u001B[39;00m\u001B[39m\"\u001B[39m,\n\u001B[0;32m     11\u001B[0m     \u001B[39m\"\u001B[39m\u001B[39mfrom typing import Any, Callable, Dict\u001B[39m\u001B[39m\\n\u001B[39;00m\u001B[39m\"\u001B[39m,\n\u001B[0;32m     12\u001B[0m     \u001B[39m\"\u001B[39m\u001B[39m\\n\u001B[39;00m\u001B[39m\"\u001B[39m,\n\u001B[0;32m     13\u001B[0m     \u001B[39m\"\u001B[39m\u001B[39mimport lmfit\u001B[39m\u001B[39m\\n\u001B[39;00m\u001B[39m\"\u001B[39m,\n\u001B[0;32m     14\u001B[0m     \u001B[39m\"\u001B[39m\u001B[39mimport matplotlib.pyplot as plt\u001B[39m\u001B[39m\\n\u001B[39;00m\u001B[39m\"\u001B[39m,\n\u001B[0;32m     15\u001B[0m     \u001B[39m\"\u001B[39m\u001B[39mimport numpy as np\u001B[39m\u001B[39m\\n\u001B[39;00m\u001B[39m\"\u001B[39m,\n\u001B[0;32m     16\u001B[0m     \u001B[39m\"\u001B[39m\u001B[39mfrom qblox_instruments import Cluster, ClusterType, PlugAndPlay\u001B[39m\u001B[39m\\n\u001B[39;00m\u001B[39m\"\u001B[39m,\n\u001B[0;32m     17\u001B[0m     \u001B[39m\"\u001B[39m\u001B[39mfrom qblox_instruments.ieee488_2 import DummyBinnedAcquisitionData\u001B[39m\u001B[39m\\n\u001B[39;00m\u001B[39m\"\u001B[39m,\n\u001B[0;32m     18\u001B[0m     \u001B[39m\"\u001B[39m\u001B[39mfrom quantify_core.analysis import base_analysis as ba\u001B[39m\u001B[39m\\n\u001B[39;00m\u001B[39m\"\u001B[39m,\n\u001B[0;32m     19\u001B[0m     \u001B[39m\"\u001B[39m\u001B[39mfrom quantify_core.measurement import MeasurementControl\u001B[39m\u001B[39m\\n\u001B[39;00m\u001B[39m\"\u001B[39m,\n\u001B[0;32m     20\u001B[0m     \u001B[39m\"\u001B[39m\u001B[39mfrom quantify_core.visualization import mpl_plotting as qpl\u001B[39m\u001B[39m\\n\u001B[39;00m\u001B[39m\"\u001B[39m,\n\u001B[0;32m     21\u001B[0m     \u001B[39m\"\u001B[39m\u001B[39mfrom quantify_core.visualization.instrument_monitor import InstrumentMonitor\u001B[39m\u001B[39m\\n\u001B[39;00m\u001B[39m\"\u001B[39m,\n\u001B[0;32m     22\u001B[0m     \u001B[39m\"\u001B[39m\u001B[39mfrom quantify_core.visualization.pyqt_plotmon import \u001B[39m\u001B[39m\\\\\u001B[39;00m\u001B[39m\\n\u001B[39;00m\u001B[39m\"\u001B[39m,\n\u001B[0;32m     23\u001B[0m     \u001B[39m\"\u001B[39m\u001B[39m    PlotMonitor_pyqt as PlotMonitor\u001B[39m\u001B[39m\\n\u001B[39;00m\u001B[39m\"\u001B[39m,\n\u001B[0;32m     24\u001B[0m     \u001B[39m\"\u001B[39m\u001B[39mfrom quantify_core.visualization.SI_utilities import format_value_string\u001B[39m\u001B[39m\\n\u001B[39;00m\u001B[39m\"\u001B[39m,\n\u001B[0;32m     25\u001B[0m     \u001B[39m\"\u001B[39m\u001B[39mfrom quantify_scheduler.backends import SerialCompiler\u001B[39m\u001B[39m\\n\u001B[39;00m\u001B[39m\"\u001B[39m,\n\u001B[0;32m     26\u001B[0m     \u001B[39m\"\u001B[39m\u001B[39mfrom quantify_scheduler.device_under_test.quantum_device import QuantumDevice\u001B[39m\u001B[39m\\n\u001B[39;00m\u001B[39m\"\u001B[39m,\n\u001B[0;32m     27\u001B[0m     \u001B[39m\"\u001B[39m\u001B[39mfrom quantify_scheduler.device_under_test.transmon_element import \u001B[39m\u001B[39m\\\\\u001B[39;00m\u001B[39m\\n\u001B[39;00m\u001B[39m\"\u001B[39m,\n\u001B[0;32m     28\u001B[0m     \u001B[39m\"\u001B[39m\u001B[39m    BasicTransmonElement\u001B[39m\u001B[39m\\n\u001B[39;00m\u001B[39m\"\u001B[39m,\n\u001B[0;32m     29\u001B[0m     \u001B[39m\"\u001B[39m\u001B[39mfrom quantify_scheduler.instrument_coordinator import InstrumentCoordinator\u001B[39m\u001B[39m\\n\u001B[39;00m\u001B[39m\"\u001B[39m,\n\u001B[0;32m     30\u001B[0m     \u001B[39m\"\u001B[39m\u001B[39mfrom quantify_scheduler.instrument_coordinator.components.qblox import \u001B[39m\u001B[39m\\\\\u001B[39;00m\u001B[39m\\n\u001B[39;00m\u001B[39m\"\u001B[39m,\n\u001B[0;32m     31\u001B[0m     \u001B[39m\"\u001B[39m\u001B[39m    ClusterComponent\u001B[39m\u001B[39m\\n\u001B[39;00m\u001B[39m\"\u001B[39m,\n\u001B[0;32m     32\u001B[0m     \u001B[39m\"\u001B[39m\u001B[39mfrom quantify_scheduler.schedules.spectroscopy_schedules import (\u001B[39m\u001B[39m\\n\u001B[39;00m\u001B[39m\"\u001B[39m,\n\u001B[0;32m     33\u001B[0m     \u001B[39m\"\u001B[39m\u001B[39m    heterodyne_spec_sched,\u001B[39m\u001B[39m\\n\u001B[39;00m\u001B[39m\"\u001B[39m,\n\u001B[0;32m     34\u001B[0m     \u001B[39m\"\u001B[39m\u001B[39m    two_tone_spec_sched,\u001B[39m\u001B[39m\\n\u001B[39;00m\u001B[39m\"\u001B[39m,\n\u001B[0;32m     35\u001B[0m     \u001B[39m\"\u001B[39m\u001B[39m)\u001B[39m\u001B[39m\\n\u001B[39;00m\u001B[39m\"\u001B[39m,\n\u001B[0;32m     36\u001B[0m     \u001B[39m\"\u001B[39m\u001B[39mfrom qblox_instruments.ieee488_2 import DummyBinnedAcquisitionData\u001B[39m\u001B[39m\\n\u001B[39;00m\u001B[39m\"\u001B[39m,\n\u001B[0;32m     37\u001B[0m     \u001B[39m\"\u001B[39m\u001B[39mfrom quantify_core.data.handling import set_datadir\u001B[39m\u001B[39m\\n\u001B[39;00m\u001B[39m\"\u001B[39m,\n\u001B[0;32m     38\u001B[0m     \u001B[39m\"\u001B[39m\u001B[39m# warnings.simplefilter(\u001B[39m\u001B[39m\\\"\u001B[39;00m\u001B[39malways\u001B[39m\u001B[39m\\\"\u001B[39;00m\u001B[39m)\u001B[39m\u001B[39m\\n\u001B[39;00m\u001B[39m\"\u001B[39m\n\u001B[0;32m     39\u001B[0m    ]\n\u001B[0;32m     40\u001B[0m   },\n\u001B[0;32m     41\u001B[0m   {\n\u001B[0;32m     42\u001B[0m    \u001B[39m\"\u001B[39m\u001B[39mcell_type\u001B[39m\u001B[39m\"\u001B[39m: \u001B[39m\"\u001B[39m\u001B[39mcode\u001B[39m\u001B[39m\"\u001B[39m,\n\u001B[0;32m     43\u001B[0m    \u001B[39m\"\u001B[39m\u001B[39mexecution_count\u001B[39m\u001B[39m\"\u001B[39m: \u001B[39m3\u001B[39m,\n\u001B[0;32m     44\u001B[0m    \u001B[39m\"\u001B[39m\u001B[39mmetadata\u001B[39m\u001B[39m\"\u001B[39m: {},\n\u001B[0;32m     45\u001B[0m    \u001B[39m\"\u001B[39m\u001B[39moutputs\u001B[39m\u001B[39m\"\u001B[39m: [],\n\u001B[0;32m     46\u001B[0m    \u001B[39m\"\u001B[39m\u001B[39msource\u001B[39m\u001B[39m\"\u001B[39m: [\n\u001B[0;32m     47\u001B[0m     \u001B[39m\"\u001B[39m\u001B[39mset_datadir(\u001B[39m\u001B[39m\\\"\u001B[39;00m\u001B[39mquantify_data\u001B[39m\u001B[39m\\\"\u001B[39;00m\u001B[39m)\u001B[39m\u001B[39m\"\u001B[39m\n\u001B[0;32m     48\u001B[0m    ]\n\u001B[0;32m     49\u001B[0m   },\n\u001B[0;32m     50\u001B[0m   {\n\u001B[0;32m     51\u001B[0m    \u001B[39m\"\u001B[39m\u001B[39mcell_type\u001B[39m\u001B[39m\"\u001B[39m: \u001B[39m\"\u001B[39m\u001B[39mcode\u001B[39m\u001B[39m\"\u001B[39m,\n\u001B[0;32m     52\u001B[0m    \u001B[39m\"\u001B[39m\u001B[39mexecution_count\u001B[39m\u001B[39m\"\u001B[39m: \u001B[39m4\u001B[39m,\n\u001B[0;32m     53\u001B[0m    \u001B[39m\"\u001B[39m\u001B[39mmetadata\u001B[39m\u001B[39m\"\u001B[39m: {},\n\u001B[0;32m     54\u001B[0m    \u001B[39m\"\u001B[39m\u001B[39moutputs\u001B[39m\u001B[39m\"\u001B[39m: [\n\u001B[0;32m     55\u001B[0m     {\n\u001B[0;32m     56\u001B[0m      \u001B[39m\"\u001B[39m\u001B[39mname\u001B[39m\u001B[39m\"\u001B[39m: \u001B[39m\"\u001B[39m\u001B[39mstdout\u001B[39m\u001B[39m\"\u001B[39m,\n\u001B[0;32m     57\u001B[0m      \u001B[39m\"\u001B[39m\u001B[39moutput_type\u001B[39m\u001B[39m\"\u001B[39m: \u001B[39m\"\u001B[39m\u001B[39mstream\u001B[39m\u001B[39m\"\u001B[39m,\n\u001B[0;32m     58\u001B[0m      \u001B[39m\"\u001B[39m\u001B[39mtext\u001B[39m\u001B[39m\"\u001B[39m: [\n\u001B[0;32m     59\u001B[0m       \u001B[39m\"\u001B[39m\u001B[39mDevices:\u001B[39m\u001B[39m\\n\u001B[39;00m\u001B[39m\"\u001B[39m,\n\u001B[0;32m     60\u001B[0m       \u001B[39m\"\u001B[39m\u001B[39m - 169.254.180.110: cluster_mm 0.3.0 with name \u001B[39m\u001B[39m\\\"\u001B[39;00m\u001B[39mOntario\u001B[39m\u001B[39m\\\"\u001B[39;00m\u001B[39m and serial number 00015_2251_001\u001B[39m\u001B[39m\\n\u001B[39;00m\u001B[39m\"\u001B[39m\n\u001B[0;32m     61\u001B[0m      ]\n\u001B[0;32m     62\u001B[0m     }\n\u001B[0;32m     63\u001B[0m    ],\n\u001B[0;32m     64\u001B[0m    \u001B[39m\"\u001B[39m\u001B[39msource\u001B[39m\u001B[39m\"\u001B[39m: [\n\u001B[0;32m     65\u001B[0m     \u001B[39m\"\u001B[39m\u001B[39mwith PlugAndPlay() as p:\u001B[39m\u001B[39m\\n\u001B[39;00m\u001B[39m\"\u001B[39m,\n\u001B[0;32m     66\u001B[0m     \u001B[39m\"\u001B[39m\u001B[39m    p.print_devices()\u001B[39m\u001B[39m\"\u001B[39m\n\u001B[0;32m     67\u001B[0m    ]\n\u001B[0;32m     68\u001B[0m   },\n\u001B[0;32m     69\u001B[0m   {\n\u001B[0;32m     70\u001B[0m    \u001B[39m\"\u001B[39m\u001B[39mcell_type\u001B[39m\u001B[39m\"\u001B[39m: \u001B[39m\"\u001B[39m\u001B[39mmarkdown\u001B[39m\u001B[39m\"\u001B[39m,\n\u001B[0;32m     71\u001B[0m    \u001B[39m\"\u001B[39m\u001B[39mmetadata\u001B[39m\u001B[39m\"\u001B[39m: {},\n\u001B[0;32m     72\u001B[0m    \u001B[39m\"\u001B[39m\u001B[39msource\u001B[39m\u001B[39m\"\u001B[39m: [\n\u001B[0;32m     73\u001B[0m     \u001B[39m\"\u001B[39m\u001B[39mFor the purpose of these tutorials, we will use dummy hardware. This allows us to run the tutorial without using any hardware. The dummy will compile the experiment as normal, but return data provided beforehand as measurement results.\u001B[39m\u001B[39m\"\u001B[39m\n\u001B[0;32m     74\u001B[0m    ]\n\u001B[0;32m     75\u001B[0m   },\n\u001B[0;32m     76\u001B[0m   {\n\u001B[0;32m     77\u001B[0m    \u001B[39m\"\u001B[39m\u001B[39mcell_type\u001B[39m\u001B[39m\"\u001B[39m: \u001B[39m\"\u001B[39m\u001B[39mcode\u001B[39m\u001B[39m\"\u001B[39m,\n\u001B[0;32m     78\u001B[0m    \u001B[39m\"\u001B[39m\u001B[39mexecution_count\u001B[39m\u001B[39m\"\u001B[39m: \u001B[39m5\u001B[39m,\n\u001B[0;32m     79\u001B[0m    \u001B[39m\"\u001B[39m\u001B[39mmetadata\u001B[39m\u001B[39m\"\u001B[39m: {},\n\u001B[0;32m     80\u001B[0m    \u001B[39m\"\u001B[39m\u001B[39moutputs\u001B[39m\u001B[39m\"\u001B[39m: [],\n\u001B[0;32m     81\u001B[0m    \u001B[39m\"\u001B[39m\u001B[39msource\u001B[39m\u001B[39m\"\u001B[39m: [\n\u001B[0;32m     82\u001B[0m     \u001B[39m\"\u001B[39m\u001B[39mcluster = Cluster(\u001B[39m\u001B[39m\\\"\u001B[39;00m\u001B[39mcluster\u001B[39m\u001B[39m\\\"\u001B[39;00m\u001B[39m, \u001B[39m\u001B[39m\\\"\u001B[39;00m\u001B[39m169.254.180.110\u001B[39m\u001B[39m\\\"\u001B[39;00m\u001B[39m)\u001B[39m\u001B[39m\\n\u001B[39;00m\u001B[39m\"\u001B[39m,\n\u001B[0;32m     83\u001B[0m     \u001B[39m\"\u001B[39m\u001B[39m\\n\u001B[39;00m\u001B[39m\"\u001B[39m,\n\u001B[0;32m     84\u001B[0m     \u001B[39m\"\u001B[39m\u001B[39m# Reset\u001B[39m\u001B[39m\\n\u001B[39;00m\u001B[39m\"\u001B[39m,\n\u001B[0;32m     85\u001B[0m     \u001B[39m\"\u001B[39m\u001B[39mcluster.reset()\u001B[39m\u001B[39m\"\u001B[39m\n\u001B[0;32m     86\u001B[0m    ]\n\u001B[0;32m     87\u001B[0m   },\n\u001B[0;32m     88\u001B[0m   {\n\u001B[0;32m     89\u001B[0m    \u001B[39m\"\u001B[39m\u001B[39mcell_type\u001B[39m\u001B[39m\"\u001B[39m: \u001B[39m\"\u001B[39m\u001B[39mcode\u001B[39m\u001B[39m\"\u001B[39m,\n\u001B[0;32m     90\u001B[0m    \u001B[39m\"\u001B[39m\u001B[39mexecution_count\u001B[39m\u001B[39m\"\u001B[39m: \u001B[39m6\u001B[39m,\n\u001B[0;32m     91\u001B[0m    \u001B[39m\"\u001B[39m\u001B[39mmetadata\u001B[39m\u001B[39m\"\u001B[39m: {},\n\u001B[0;32m     92\u001B[0m    \u001B[39m\"\u001B[39m\u001B[39moutputs\u001B[39m\u001B[39m\"\u001B[39m: [],\n\u001B[0;32m     93\u001B[0m    \u001B[39m\"\u001B[39m\u001B[39msource\u001B[39m\u001B[39m\"\u001B[39m: [\n\u001B[0;32m     94\u001B[0m     \u001B[39m\"\u001B[39m\u001B[39mic = InstrumentCoordinator(\u001B[39m\u001B[39m\\\"\u001B[39;00m\u001B[39mIC\u001B[39m\u001B[39m\\\"\u001B[39;00m\u001B[39m)\u001B[39m\u001B[39m\\n\u001B[39;00m\u001B[39m\"\u001B[39m,\n\u001B[0;32m     95\u001B[0m     \u001B[39m\"\u001B[39m\u001B[39mic.add_component(ClusterComponent(cluster))\u001B[39m\u001B[39m\"\u001B[39m\n\u001B[0;32m     96\u001B[0m    ]\n\u001B[0;32m     97\u001B[0m   },\n\u001B[0;32m     98\u001B[0m   {\n\u001B[0;32m     99\u001B[0m    \u001B[39m\"\u001B[39m\u001B[39mcell_type\u001B[39m\u001B[39m\"\u001B[39m: \u001B[39m\"\u001B[39m\u001B[39mcode\u001B[39m\u001B[39m\"\u001B[39m,\n\u001B[0;32m    100\u001B[0m    \u001B[39m\"\u001B[39m\u001B[39mexecution_count\u001B[39m\u001B[39m\"\u001B[39m: \u001B[39m8\u001B[39m,\n\u001B[0;32m    101\u001B[0m    \u001B[39m\"\u001B[39m\u001B[39mmetadata\u001B[39m\u001B[39m\"\u001B[39m: {},\n\u001B[0;32m    102\u001B[0m    \u001B[39m\"\u001B[39m\u001B[39moutputs\u001B[39m\u001B[39m\"\u001B[39m: [],\n\u001B[0;32m    103\u001B[0m    \u001B[39m\"\u001B[39m\u001B[39msource\u001B[39m\u001B[39m\"\u001B[39m: [\n\u001B[0;32m    104\u001B[0m     \u001B[39m\"\u001B[39m\u001B[39mmeasurement_control = MeasurementControl(\u001B[39m\u001B[39m\\\"\u001B[39;00m\u001B[39mQubitCalibration\u001B[39m\u001B[39m\\\"\u001B[39;00m\u001B[39m)\u001B[39m\u001B[39m\\n\u001B[39;00m\u001B[39m\"\u001B[39m,\n\u001B[0;32m    105\u001B[0m     \u001B[39m\"\u001B[39m\u001B[39m\\n\u001B[39;00m\u001B[39m\"\u001B[39m,\n\u001B[0;32m    106\u001B[0m     \u001B[39m\"\u001B[39m\u001B[39mplotmon = PlotMonitor(\u001B[39m\u001B[39m\\\"\u001B[39;00m\u001B[39mPlotMonitor\u001B[39m\u001B[39m\\\"\u001B[39;00m\u001B[39m)\u001B[39m\u001B[39m\\n\u001B[39;00m\u001B[39m\"\u001B[39m,\n\u001B[0;32m    107\u001B[0m     \u001B[39m\"\u001B[39m\u001B[39minstmon = InstrumentMonitor(\u001B[39m\u001B[39m\\\"\u001B[39;00m\u001B[39mInstrumentMonitor\u001B[39m\u001B[39m\\\"\u001B[39;00m\u001B[39m)\u001B[39m\u001B[39m\\n\u001B[39;00m\u001B[39m\"\u001B[39m,\n\u001B[0;32m    108\u001B[0m     \u001B[39m\"\u001B[39m\u001B[39mmeasurement_control.instr_plotmon(plotmon.name)\u001B[39m\u001B[39m\\n\u001B[39;00m\u001B[39m\"\u001B[39m,\n\u001B[0;32m    109\u001B[0m     \u001B[39m\"\u001B[39m\u001B[39mplotmon.tuids_max_num(1)\u001B[39m\u001B[39m\"\u001B[39m\n\u001B[0;32m    110\u001B[0m    ]\n\u001B[0;32m    111\u001B[0m   },\n\u001B[0;32m    112\u001B[0m   {\n\u001B[0;32m    113\u001B[0m    \u001B[39m\"\u001B[39m\u001B[39mcell_type\u001B[39m\u001B[39m\"\u001B[39m: \u001B[39m\"\u001B[39m\u001B[39mmarkdown\u001B[39m\u001B[39m\"\u001B[39m,\n\u001B[0;32m    114\u001B[0m    \u001B[39m\"\u001B[39m\u001B[39mmetadata\u001B[39m\u001B[39m\"\u001B[39m: {},\n\u001B[0;32m    115\u001B[0m    \u001B[39m\"\u001B[39m\u001B[39msource\u001B[39m\u001B[39m\"\u001B[39m: [\n\u001B[0;32m    116\u001B[0m     \u001B[39m\"\u001B[39m\u001B[39mThe central component for all experiments is the QuantumDevice. It connects information about the qubits and their connectivity with the involved control hardware, instrument coordinator and measurement control. First we define the device, and connect it to instrument coordinator and measurement control.\u001B[39m\u001B[39m\"\u001B[39m\n\u001B[1;32m--> 117\u001B[0m    ]\n\u001B[0;32m    118\u001B[0m   },\n\u001B[0;32m    119\u001B[0m   {\n\u001B[0;32m    120\u001B[0m    \u001B[39m\"\u001B[39m\u001B[39mcell_type\u001B[39m\u001B[39m\"\u001B[39m: \u001B[39m\"\u001B[39m\u001B[39mcode\u001B[39m\u001B[39m\"\u001B[39m,\n\u001B[0;32m    121\u001B[0m    \u001B[39m\"\u001B[39m\u001B[39mexecution_count\u001B[39m\u001B[39m\"\u001B[39m: \u001B[39m9\u001B[39m,\n\u001B[0;32m    122\u001B[0m    \u001B[39m\"\u001B[39m\u001B[39mmetadata\u001B[39m\u001B[39m\"\u001B[39m: {},\n\u001B[0;32m    123\u001B[0m    \u001B[39m\"\u001B[39m\u001B[39moutputs\u001B[39m\u001B[39m\"\u001B[39m: [],\n\u001B[0;32m    124\u001B[0m    \u001B[39m\"\u001B[39m\u001B[39msource\u001B[39m\u001B[39m\"\u001B[39m: [\n\u001B[0;32m    125\u001B[0m     \u001B[39m\"\u001B[39m\u001B[39mtransmon_chip = QuantumDevice(\u001B[39m\u001B[39m\\\"\u001B[39;00m\u001B[39mtransmon_chip\u001B[39m\u001B[39m\\\"\u001B[39;00m\u001B[39m)\u001B[39m\u001B[39m\\n\u001B[39;00m\u001B[39m\"\u001B[39m,\n\u001B[0;32m    126\u001B[0m     \u001B[39m\"\u001B[39m\u001B[39mtransmon_chip.instr_instrument_coordinator(\u001B[39m\u001B[39m\\\"\u001B[39;00m\u001B[39mIC\u001B[39m\u001B[39m\\\"\u001B[39;00m\u001B[39m)\u001B[39m\u001B[39m\\n\u001B[39;00m\u001B[39m\"\u001B[39m,\n\u001B[0;32m    127\u001B[0m     \u001B[39m\"\u001B[39m\u001B[39mtransmon_chip.instr_measurement_control(\u001B[39m\u001B[39m\\\"\u001B[39;00m\u001B[39mQubitCalibration\u001B[39m\u001B[39m\\\"\u001B[39;00m\u001B[39m)\u001B[39m\u001B[39m\"\u001B[39m\n\u001B[0;32m    128\u001B[0m    ]\n\u001B[0;32m    129\u001B[0m   },\n\u001B[0;32m    130\u001B[0m   {\n\u001B[0;32m    131\u001B[0m    \u001B[39m\"\u001B[39m\u001B[39mcell_type\u001B[39m\u001B[39m\"\u001B[39m: \u001B[39m\"\u001B[39m\u001B[39mmarkdown\u001B[39m\u001B[39m\"\u001B[39m,\n\u001B[0;32m    132\u001B[0m    \u001B[39m\"\u001B[39m\u001B[39mmetadata\u001B[39m\u001B[39m\"\u001B[39m: {},\n\u001B[0;32m    133\u001B[0m    \u001B[39m\"\u001B[39m\u001B[39msource\u001B[39m\u001B[39m\"\u001B[39m: [\n\u001B[0;32m    134\u001B[0m     \u001B[39m\"\u001B[39m\u001B[39mNext, we add information about the control electronics and how they are connected to the QuantumDevice.\u001B[39m\u001B[39m\"\u001B[39m\n\u001B[0;32m    135\u001B[0m    ]\n\u001B[0;32m    136\u001B[0m   },\n\u001B[0;32m    137\u001B[0m   {\n\u001B[0;32m    138\u001B[0m    \u001B[39m\"\u001B[39m\u001B[39mcell_type\u001B[39m\u001B[39m\"\u001B[39m: \u001B[39m\"\u001B[39m\u001B[39mcode\u001B[39m\u001B[39m\"\u001B[39m,\n\u001B[0;32m    139\u001B[0m    \u001B[39m\"\u001B[39m\u001B[39mexecution_count\u001B[39m\u001B[39m\"\u001B[39m: \u001B[39m10\u001B[39m,\n\u001B[0;32m    140\u001B[0m    \u001B[39m\"\u001B[39m\u001B[39mmetadata\u001B[39m\u001B[39m\"\u001B[39m: {},\n\u001B[0;32m    141\u001B[0m    \u001B[39m\"\u001B[39m\u001B[39moutputs\u001B[39m\u001B[39m\"\u001B[39m: [],\n\u001B[0;32m    142\u001B[0m    \u001B[39m\"\u001B[39m\u001B[39msource\u001B[39m\u001B[39m\"\u001B[39m: [\n\u001B[0;32m    143\u001B[0m     \u001B[39m\"\u001B[39m\u001B[39mhardware_config_file = \u001B[39m\u001B[39m\\\"\u001B[39;00m\u001B[39m./hw_config_rf.json\u001B[39m\u001B[39m\\\"\u001B[39;00m\u001B[39m\\n\u001B[39;00m\u001B[39m\"\u001B[39m,\n\u001B[0;32m    144\u001B[0m     \u001B[39m\"\u001B[39m\u001B[39m\\n\u001B[39;00m\u001B[39m\"\u001B[39m,\n\u001B[0;32m    145\u001B[0m     \u001B[39m\"\u001B[39m\u001B[39mwith open(hardware_config_file, \u001B[39m\u001B[39m\\\"\u001B[39;00m\u001B[39mr\u001B[39m\u001B[39m\\\"\u001B[39;00m\u001B[39m) as f:\u001B[39m\u001B[39m\\n\u001B[39;00m\u001B[39m\"\u001B[39m,\n\u001B[0;32m    146\u001B[0m     \u001B[39m\"\u001B[39m\u001B[39m    hardware_cfg = json.load(f)\u001B[39m\u001B[39m\\n\u001B[39;00m\u001B[39m\"\u001B[39m,\n\u001B[0;32m    147\u001B[0m     \u001B[39m\"\u001B[39m\u001B[39mtransmon_chip.hardware_config(hardware_cfg)\u001B[39m\u001B[39m\\n\u001B[39;00m\u001B[39m\"\u001B[39m,\n\u001B[0;32m    148\u001B[0m     \u001B[39m\"\u001B[39m\u001B[39m\\n\u001B[39;00m\u001B[39m\"\u001B[39m,\n\u001B[0;32m    149\u001B[0m     \u001B[39m\"\u001B[39m\u001B[39mtransmon_chip.cfg_sched_repetitions(1024)\u001B[39m\u001B[39m\"\u001B[39m\n\u001B[0;32m    150\u001B[0m    ]\n\u001B[0;32m    151\u001B[0m   },\n\u001B[0;32m    152\u001B[0m   {\n\u001B[0;32m    153\u001B[0m    \u001B[39m\"\u001B[39m\u001B[39mcell_type\u001B[39m\u001B[39m\"\u001B[39m: \u001B[39m\"\u001B[39m\u001B[39mmarkdown\u001B[39m\u001B[39m\"\u001B[39m,\n\u001B[0;32m    154\u001B[0m    \u001B[39m\"\u001B[39m\u001B[39mmetadata\u001B[39m\u001B[39m\"\u001B[39m: {},\n\u001B[0;32m    155\u001B[0m    \u001B[39m\"\u001B[39m\u001B[39msource\u001B[39m\u001B[39m\"\u001B[39m: [\n\u001B[0;32m    156\u001B[0m     \u001B[39m\"\u001B[39m\u001B[39mWe also need to provide information about the qubits. In this example, we will use a single qubit called `qubit_0`.\u001B[39m\u001B[39m\"\u001B[39m\n\u001B[0;32m    157\u001B[0m    ]\n\u001B[0;32m    158\u001B[0m   },\n\u001B[0;32m    159\u001B[0m   {\n\u001B[0;32m    160\u001B[0m    \u001B[39m\"\u001B[39m\u001B[39mcell_type\u001B[39m\u001B[39m\"\u001B[39m: \u001B[39m\"\u001B[39m\u001B[39mcode\u001B[39m\u001B[39m\"\u001B[39m,\n\u001B[0;32m    161\u001B[0m    \u001B[39m\"\u001B[39m\u001B[39mexecution_count\u001B[39m\u001B[39m\"\u001B[39m: \u001B[39m11\u001B[39m,\n\u001B[0;32m    162\u001B[0m    \u001B[39m\"\u001B[39m\u001B[39mmetadata\u001B[39m\u001B[39m\"\u001B[39m: {},\n\u001B[0;32m    163\u001B[0m    \u001B[39m\"\u001B[39m\u001B[39moutputs\u001B[39m\u001B[39m\"\u001B[39m: [],\n\u001B[0;32m    164\u001B[0m    \u001B[39m\"\u001B[39m\u001B[39msource\u001B[39m\u001B[39m\"\u001B[39m: [\n\u001B[0;32m    165\u001B[0m     \u001B[39m\"\u001B[39m\u001B[39mqubit_0 = BasicTransmonElement(\u001B[39m\u001B[39m\\\"\u001B[39;00m\u001B[39mq0\u001B[39m\u001B[39m\\\"\u001B[39;00m\u001B[39m)\u001B[39m\u001B[39m\\n\u001B[39;00m\u001B[39m\"\u001B[39m,\n\u001B[0;32m    166\u001B[0m     \u001B[39m\"\u001B[39m\u001B[39mtransmon_chip.add_element(qubit_0)\u001B[39m\u001B[39m\\n\u001B[39;00m\u001B[39m\"\u001B[39m,\n\u001B[0;32m    167\u001B[0m     \u001B[39m\"\u001B[39m\u001B[39m\\n\u001B[39;00m\u001B[39m\"\u001B[39m,\n\u001B[0;32m    168\u001B[0m     \u001B[39m\"\u001B[39m\u001B[39mqubit_0.clock_freqs.readout(6.75078e9)\u001B[39m\u001B[39m\\n\u001B[39;00m\u001B[39m\"\u001B[39m,\n\u001B[0;32m    169\u001B[0m     \u001B[39m\"\u001B[39m\u001B[39mqubit_0.clock_freqs.f01(6.01e9)\u001B[39m\u001B[39m\\n\u001B[39;00m\u001B[39m\"\u001B[39m,\n\u001B[0;32m    170\u001B[0m     \u001B[39m\"\u001B[39m\u001B[39m\\n\u001B[39;00m\u001B[39m\"\u001B[39m,\n\u001B[0;32m    171\u001B[0m     \u001B[39m\"\u001B[39m\u001B[39mqubit_0.measure.pulse_amp(0.006)\u001B[39m\u001B[39m\\n\u001B[39;00m\u001B[39m\"\u001B[39m,\n\u001B[0;32m    172\u001B[0m     \u001B[39m\"\u001B[39m\u001B[39mqubit_0.measure.pulse_duration(1000e-9)\u001B[39m\u001B[39m\\n\u001B[39;00m\u001B[39m\"\u001B[39m,\n\u001B[0;32m    173\u001B[0m     \u001B[39m\"\u001B[39m\u001B[39mqubit_0.measure.integration_time(1600e-9)\u001B[39m\u001B[39m\\n\u001B[39;00m\u001B[39m\"\u001B[39m,\n\u001B[0;32m    174\u001B[0m     \u001B[39m\"\u001B[39m\u001B[39mqubit_0.measure.acq_delay(164e-9)\u001B[39m\u001B[39m\\n\u001B[39;00m\u001B[39m\"\u001B[39m,\n\u001B[0;32m    175\u001B[0m     \u001B[39m\"\u001B[39m\u001B[39m\\n\u001B[39;00m\u001B[39m\"\u001B[39m,\n\u001B[0;32m    176\u001B[0m     \u001B[39m\"\u001B[39m\u001B[39mqubit_0.reset.duration(100e-6)\u001B[39m\u001B[39m\\n\u001B[39;00m\u001B[39m\"\u001B[39m,\n\u001B[0;32m    177\u001B[0m     \u001B[39m\"\u001B[39m\u001B[39m\\n\u001B[39;00m\u001B[39m\"\u001B[39m,\n\u001B[0;32m    178\u001B[0m     \u001B[39m\"\u001B[39m\u001B[39mqubit_0.rxy.duration(120e-9)\u001B[39m\u001B[39m\\n\u001B[39;00m\u001B[39m\"\u001B[39m,\n\u001B[0;32m    179\u001B[0m     \u001B[39m\"\u001B[39m\u001B[39mqubit_0.rxy.amp180(0.2)\u001B[39m\u001B[39m\\n\u001B[39;00m\u001B[39m\"\u001B[39m,\n\u001B[0;32m    180\u001B[0m     \u001B[39m\"\u001B[39m\u001B[39mqubit_0.rxy.motzoi(0.1)\u001B[39m\u001B[39m\\n\u001B[39;00m\u001B[39m\"\u001B[39m\n\u001B[0;32m    181\u001B[0m    ]\n\u001B[0;32m    182\u001B[0m   },\n\u001B[0;32m    183\u001B[0m   {\n\u001B[0;32m    184\u001B[0m    \u001B[39m\"\u001B[39m\u001B[39mcell_type\u001B[39m\u001B[39m\"\u001B[39m: \u001B[39m\"\u001B[39m\u001B[39mmarkdown\u001B[39m\u001B[39m\"\u001B[39m,\n\u001B[0;32m    185\u001B[0m    \u001B[39m\"\u001B[39m\u001B[39mmetadata\u001B[39m\u001B[39m\"\u001B[39m: {},\n\u001B[0;32m    186\u001B[0m    \u001B[39m\"\u001B[39m\u001B[39msource\u001B[39m\u001B[39m\"\u001B[39m: [\n\u001B[0;32m    187\u001B[0m     \u001B[39m\"\u001B[39m\u001B[39mNow that the QuantumDevice is fully defined, we can use it. To automate the compilation process, we will define a compiler where the `transmon_chip` is added as default value. This enables us to use\u001B[39m\u001B[39m\\n\u001B[39;00m\u001B[39m\"\u001B[39m,\n\u001B[0;32m    188\u001B[0m     \u001B[39m\"\u001B[39m\u001B[39m`compiler.compile(schedule)`, whenever we want to compile a generic schedule to this specific quantum device.\u001B[39m\u001B[39m\"\u001B[39m\n\u001B[0;32m    189\u001B[0m    ]\n\u001B[0;32m    190\u001B[0m   },\n\u001B[0;32m    191\u001B[0m   {\n\u001B[0;32m    192\u001B[0m    \u001B[39m\"\u001B[39m\u001B[39mcell_type\u001B[39m\u001B[39m\"\u001B[39m: \u001B[39m\"\u001B[39m\u001B[39mcode\u001B[39m\u001B[39m\"\u001B[39m,\n\u001B[0;32m    193\u001B[0m    \u001B[39m\"\u001B[39m\u001B[39mexecution_count\u001B[39m\u001B[39m\"\u001B[39m: \u001B[39m12\u001B[39m,\n\u001B[0;32m    194\u001B[0m    \u001B[39m\"\u001B[39m\u001B[39mmetadata\u001B[39m\u001B[39m\"\u001B[39m: {},\n\u001B[0;32m    195\u001B[0m    \u001B[39m\"\u001B[39m\u001B[39moutputs\u001B[39m\u001B[39m\"\u001B[39m: [],\n\u001B[0;32m    196\u001B[0m    \u001B[39m\"\u001B[39m\u001B[39msource\u001B[39m\u001B[39m\"\u001B[39m: [\n\u001B[0;32m    197\u001B[0m     \u001B[39m\"\u001B[39m\u001B[39mcompiler = SerialCompiler(\u001B[39m\u001B[39m\\\"\u001B[39;00m\u001B[39mcompiler\u001B[39m\u001B[39m\\\"\u001B[39;00m\u001B[39m)\u001B[39m\u001B[39m\\n\u001B[39;00m\u001B[39m\"\u001B[39m,\n\u001B[0;32m    198\u001B[0m     \u001B[39m\"\u001B[39m\u001B[39m#compiler = SerialCompiler(\u001B[39m\u001B[39m\\\"\u001B[39;00m\u001B[39mcompiler\u001B[39m\u001B[39m\\\"\u001B[39;00m\u001B[39m, quantum_device=transmon_chip)\u001B[39m\u001B[39m\"\u001B[39m\n\u001B[0;32m    199\u001B[0m    ]\n\u001B[0;32m    200\u001B[0m   },\n\u001B[0;32m    201\u001B[0m   {\n\u001B[0;32m    202\u001B[0m    \u001B[39m\"\u001B[39m\u001B[39mcell_type\u001B[39m\u001B[39m\"\u001B[39m: \u001B[39m\"\u001B[39m\u001B[39mmarkdown\u001B[39m\u001B[39m\"\u001B[39m,\n\u001B[0;32m    203\u001B[0m    \u001B[39m\"\u001B[39m\u001B[39mmetadata\u001B[39m\u001B[39m\"\u001B[39m: {},\n\u001B[0;32m    204\u001B[0m    \u001B[39m\"\u001B[39m\u001B[39msource\u001B[39m\u001B[39m\"\u001B[39m: [\n\u001B[0;32m    205\u001B[0m     \u001B[39m\"\u001B[39m\u001B[39mQuantify provides functions to set up many standard experiments. We can use these with the QuantumDevice by defining some helper functions\u001B[39m\u001B[39m\"\u001B[39m\n\u001B[0;32m    206\u001B[0m    ]\n\u001B[0;32m    207\u001B[0m   },\n\u001B[0;32m    208\u001B[0m   {\n\u001B[0;32m    209\u001B[0m    \u001B[39m\"\u001B[39m\u001B[39mcell_type\u001B[39m\u001B[39m\"\u001B[39m: \u001B[39m\"\u001B[39m\u001B[39mcode\u001B[39m\u001B[39m\"\u001B[39m,\n\u001B[0;32m    210\u001B[0m    \u001B[39m\"\u001B[39m\u001B[39mexecution_count\u001B[39m\u001B[39m\"\u001B[39m: \u001B[39m13\u001B[39m,\n\u001B[0;32m    211\u001B[0m    \u001B[39m\"\u001B[39m\u001B[39mmetadata\u001B[39m\u001B[39m\"\u001B[39m: {},\n\u001B[0;32m    212\u001B[0m    \u001B[39m\"\u001B[39m\u001B[39moutputs\u001B[39m\u001B[39m\"\u001B[39m: [],\n\u001B[0;32m    213\u001B[0m    \u001B[39m\"\u001B[39m\u001B[39msource\u001B[39m\u001B[39m\"\u001B[39m: [\n\u001B[0;32m    214\u001B[0m     \u001B[39m\"\u001B[39m\u001B[39mdef kwarg_wrapper(func: Callable[[BasicTransmonElement], Dict[str, Any]]) -> Callable:\u001B[39m\u001B[39m\\n\u001B[39;00m\u001B[39m\"\u001B[39m,\n\u001B[0;32m    215\u001B[0m     \u001B[39m\"\u001B[39m\u001B[39m    def inner(qubit: BasicTransmonElement, **kwargs):\u001B[39m\u001B[39m\\n\u001B[39;00m\u001B[39m\"\u001B[39m,\n\u001B[0;32m    216\u001B[0m     \u001B[39m\"\u001B[39m\u001B[39m        default = func(qubit)\u001B[39m\u001B[39m\\n\u001B[39;00m\u001B[39m\"\u001B[39m,\n\u001B[0;32m    217\u001B[0m     \u001B[39m\"\u001B[39m\u001B[39m        for key, value in kwargs.items():\u001B[39m\u001B[39m\\n\u001B[39;00m\u001B[39m\"\u001B[39m,\n\u001B[0;32m    218\u001B[0m     \u001B[39m\"\u001B[39m\u001B[39m            if key in default:\u001B[39m\u001B[39m\\n\u001B[39;00m\u001B[39m\"\u001B[39m,\n\u001B[0;32m    219\u001B[0m     \u001B[39m\"\u001B[39m\u001B[39m                default[key] = value\u001B[39m\u001B[39m\\n\u001B[39;00m\u001B[39m\"\u001B[39m,\n\u001B[0;32m    220\u001B[0m     \u001B[39m\"\u001B[39m\u001B[39m            else:\u001B[39m\u001B[39m\\n\u001B[39;00m\u001B[39m\"\u001B[39m,\n\u001B[0;32m    221\u001B[0m     \u001B[39m\"\u001B[39m\u001B[39m                raise RuntimeError\u001B[39m\u001B[39m\\n\u001B[39;00m\u001B[39m\"\u001B[39m,\n\u001B[0;32m    222\u001B[0m     \u001B[39m\"\u001B[39m\u001B[39m        return default\u001B[39m\u001B[39m\\n\u001B[39;00m\u001B[39m\"\u001B[39m,\n\u001B[0;32m    223\u001B[0m     \u001B[39m\"\u001B[39m\u001B[39m\\n\u001B[39;00m\u001B[39m\"\u001B[39m,\n\u001B[0;32m    224\u001B[0m     \u001B[39m\"\u001B[39m\u001B[39m    return inner\u001B[39m\u001B[39m\\n\u001B[39;00m\u001B[39m\"\u001B[39m,\n\u001B[0;32m    225\u001B[0m     \u001B[39m\"\u001B[39m\u001B[39m\\n\u001B[39;00m\u001B[39m\"\u001B[39m,\n\u001B[0;32m    226\u001B[0m     \u001B[39m\"\u001B[39m\u001B[39m\\n\u001B[39;00m\u001B[39m\"\u001B[39m,\n\u001B[0;32m    227\u001B[0m     \u001B[39m\"\u001B[39m\u001B[39m@kwarg_wrapper\u001B[39m\u001B[39m\\n\u001B[39;00m\u001B[39m\"\u001B[39m,\n\u001B[0;32m    228\u001B[0m     \u001B[39m\"\u001B[39m\u001B[39mdef heterodyne_spec_kwargs(qubit: BasicTransmonElement) -> Dict[str, Any]:\u001B[39m\u001B[39m\\n\u001B[39;00m\u001B[39m\"\u001B[39m,\n\u001B[0;32m    229\u001B[0m     \u001B[39m\"\u001B[39m\u001B[39m    return \u001B[39m\u001B[39m{\u001B[39m\u001B[39m\\n\u001B[39;00m\u001B[39m\"\u001B[39m,\n\u001B[0;32m    230\u001B[0m     \u001B[39m\"\u001B[39m\u001B[39m        \u001B[39m\u001B[39m\\\"\u001B[39;00m\u001B[39mpulse_amp\u001B[39m\u001B[39m\\\"\u001B[39;00m\u001B[39m: qubit.measure.pulse_amp(),\u001B[39m\u001B[39m\\n\u001B[39;00m\u001B[39m\"\u001B[39m,\n\u001B[0;32m    231\u001B[0m     \u001B[39m\"\u001B[39m\u001B[39m        \u001B[39m\u001B[39m\\\"\u001B[39;00m\u001B[39mpulse_duration\u001B[39m\u001B[39m\\\"\u001B[39;00m\u001B[39m: qubit.measure.pulse_duration(),\u001B[39m\u001B[39m\\n\u001B[39;00m\u001B[39m\"\u001B[39m,\n\u001B[0;32m    232\u001B[0m     \u001B[39m\"\u001B[39m\u001B[39m        \u001B[39m\u001B[39m\\\"\u001B[39;00m\u001B[39mfrequencies\u001B[39m\u001B[39m\\\"\u001B[39;00m\u001B[39m: [qubit.clock_freqs.readout()],\u001B[39m\u001B[39m\\n\u001B[39;00m\u001B[39m\"\u001B[39m,\n\u001B[0;32m    233\u001B[0m     \u001B[39m\"\u001B[39m\u001B[39m        \u001B[39m\u001B[39m\\\"\u001B[39;00m\u001B[39macquisition_delay\u001B[39m\u001B[39m\\\"\u001B[39;00m\u001B[39m: qubit.measure.acq_delay(),\u001B[39m\u001B[39m\\n\u001B[39;00m\u001B[39m\"\u001B[39m,\n\u001B[0;32m    234\u001B[0m     \u001B[39m\"\u001B[39m\u001B[39m        \u001B[39m\u001B[39m\\\"\u001B[39;00m\u001B[39mintegration_time\u001B[39m\u001B[39m\\\"\u001B[39;00m\u001B[39m: qubit.measure.integration_time(),\u001B[39m\u001B[39m\\n\u001B[39;00m\u001B[39m\"\u001B[39m,\n\u001B[0;32m    235\u001B[0m     \u001B[39m\"\u001B[39m\u001B[39m        \u001B[39m\u001B[39m\\\"\u001B[39;00m\u001B[39minit_duration\u001B[39m\u001B[39m\\\"\u001B[39;00m\u001B[39m: qubit.reset.duration(),\u001B[39m\u001B[39m\\n\u001B[39;00m\u001B[39m\"\u001B[39m,\n\u001B[0;32m    236\u001B[0m     \u001B[39m\"\u001B[39m\u001B[39m        \u001B[39m\u001B[39m\\\"\u001B[39;00m\u001B[39mport\u001B[39m\u001B[39m\\\"\u001B[39;00m\u001B[39m: qubit.ports.readout(),\u001B[39m\u001B[39m\\n\u001B[39;00m\u001B[39m\"\u001B[39m,\n\u001B[0;32m    237\u001B[0m     \u001B[39m\"\u001B[39m\u001B[39m        \u001B[39m\u001B[39m\\\"\u001B[39;00m\u001B[39mclock\u001B[39m\u001B[39m\\\"\u001B[39;00m\u001B[39m: qubit.name + \u001B[39m\u001B[39m\\\"\u001B[39;00m\u001B[39m.ro\u001B[39m\u001B[39m\\\"\u001B[39;00m\u001B[39m,\u001B[39m\u001B[39m\\n\u001B[39;00m\u001B[39m\"\u001B[39m,\n\u001B[0;32m    238\u001B[0m     \u001B[39m\"\u001B[39m\u001B[39m    }\u001B[39m\u001B[39m\\n\u001B[39;00m\u001B[39m\"\u001B[39m,\n\u001B[0;32m    239\u001B[0m     \u001B[39m\"\u001B[39m\u001B[39m\\n\u001B[39;00m\u001B[39m\"\u001B[39m,\n\u001B[0;32m    240\u001B[0m     \u001B[39m\"\u001B[39m\u001B[39m\\n\u001B[39;00m\u001B[39m\"\u001B[39m,\n\u001B[0;32m    241\u001B[0m     \u001B[39m\"\u001B[39m\u001B[39m@kwarg_wrapper\u001B[39m\u001B[39m\\n\u001B[39;00m\u001B[39m\"\u001B[39m,\n\u001B[0;32m    242\u001B[0m     \u001B[39m\"\u001B[39m\u001B[39mdef two_tone_spec_kwargs(qubit: BasicTransmonElement, **kwargs) -> Dict[str, Any]:\u001B[39m\u001B[39m\\n\u001B[39;00m\u001B[39m\"\u001B[39m,\n\u001B[0;32m    243\u001B[0m     \u001B[39m\"\u001B[39m\u001B[39m    return \u001B[39m\u001B[39m{\u001B[39m\u001B[39m\\n\u001B[39;00m\u001B[39m\"\u001B[39m,\n\u001B[0;32m    244\u001B[0m     \u001B[39m\"\u001B[39m\u001B[39m        \u001B[39m\u001B[39m\\\"\u001B[39;00m\u001B[39mspec_pulse_amp\u001B[39m\u001B[39m\\\"\u001B[39;00m\u001B[39m: 0.001,\u001B[39m\u001B[39m\\n\u001B[39;00m\u001B[39m\"\u001B[39m,\n\u001B[0;32m    245\u001B[0m     \u001B[39m\"\u001B[39m\u001B[39m        \u001B[39m\u001B[39m\\\"\u001B[39;00m\u001B[39mspec_pulse_duration\u001B[39m\u001B[39m\\\"\u001B[39;00m\u001B[39m: 4e-6,\u001B[39m\u001B[39m\\n\u001B[39;00m\u001B[39m\"\u001B[39m,\n\u001B[0;32m    246\u001B[0m     \u001B[39m\"\u001B[39m\u001B[39m        \u001B[39m\u001B[39m\\\"\u001B[39;00m\u001B[39mspec_pulse_frequency\u001B[39m\u001B[39m\\\"\u001B[39;00m\u001B[39m: qubit.clock_freqs.f01(),\u001B[39m\u001B[39m\\n\u001B[39;00m\u001B[39m\"\u001B[39m,\n\u001B[0;32m    247\u001B[0m     \u001B[39m\"\u001B[39m\u001B[39m        \u001B[39m\u001B[39m\\\"\u001B[39;00m\u001B[39mspec_pulse_port\u001B[39m\u001B[39m\\\"\u001B[39;00m\u001B[39m: qubit.ports.microwave(),\u001B[39m\u001B[39m\\n\u001B[39;00m\u001B[39m\"\u001B[39m,\n\u001B[0;32m    248\u001B[0m     \u001B[39m\"\u001B[39m\u001B[39m        \u001B[39m\u001B[39m\\\"\u001B[39;00m\u001B[39mspec_pulse_clock\u001B[39m\u001B[39m\\\"\u001B[39;00m\u001B[39m: qubit.name + \u001B[39m\u001B[39m\\\"\u001B[39;00m\u001B[39m.01\u001B[39m\u001B[39m\\\"\u001B[39;00m\u001B[39m,\u001B[39m\u001B[39m\\n\u001B[39;00m\u001B[39m\"\u001B[39m,\n\u001B[0;32m    249\u001B[0m     \u001B[39m\"\u001B[39m\u001B[39m        \u001B[39m\u001B[39m\\\"\u001B[39;00m\u001B[39mro_pulse_amp\u001B[39m\u001B[39m\\\"\u001B[39;00m\u001B[39m: qubit.measure.pulse_amp(),\u001B[39m\u001B[39m\\n\u001B[39;00m\u001B[39m\"\u001B[39m,\n\u001B[0;32m    250\u001B[0m     \u001B[39m\"\u001B[39m\u001B[39m        \u001B[39m\u001B[39m\\\"\u001B[39;00m\u001B[39mro_pulse_duration\u001B[39m\u001B[39m\\\"\u001B[39;00m\u001B[39m: qubit.measure.pulse_duration(),\u001B[39m\u001B[39m\\n\u001B[39;00m\u001B[39m\"\u001B[39m,\n\u001B[0;32m    251\u001B[0m     \u001B[39m\"\u001B[39m\u001B[39m        \u001B[39m\u001B[39m\\\"\u001B[39;00m\u001B[39mro_pulse_delay\u001B[39m\u001B[39m\\\"\u001B[39;00m\u001B[39m: 200e-9,\u001B[39m\u001B[39m\\n\u001B[39;00m\u001B[39m\"\u001B[39m,\n\u001B[0;32m    252\u001B[0m     \u001B[39m\"\u001B[39m\u001B[39m        \u001B[39m\u001B[39m\\\"\u001B[39;00m\u001B[39mro_pulse_port\u001B[39m\u001B[39m\\\"\u001B[39;00m\u001B[39m: qubit.ports.readout(),\u001B[39m\u001B[39m\\n\u001B[39;00m\u001B[39m\"\u001B[39m,\n\u001B[0;32m    253\u001B[0m     \u001B[39m\"\u001B[39m\u001B[39m        \u001B[39m\u001B[39m\\\"\u001B[39;00m\u001B[39mro_pulse_clock\u001B[39m\u001B[39m\\\"\u001B[39;00m\u001B[39m: qubit.name + \u001B[39m\u001B[39m\\\"\u001B[39;00m\u001B[39m.ro\u001B[39m\u001B[39m\\\"\u001B[39;00m\u001B[39m,\u001B[39m\u001B[39m\\n\u001B[39;00m\u001B[39m\"\u001B[39m,\n\u001B[0;32m    254\u001B[0m     \u001B[39m\"\u001B[39m\u001B[39m        \u001B[39m\u001B[39m\\\"\u001B[39;00m\u001B[39mro_pulse_frequency\u001B[39m\u001B[39m\\\"\u001B[39;00m\u001B[39m: qubit.clock_freqs.readout(),\u001B[39m\u001B[39m\\n\u001B[39;00m\u001B[39m\"\u001B[39m,\n\u001B[0;32m    255\u001B[0m     \u001B[39m\"\u001B[39m\u001B[39m        \u001B[39m\u001B[39m\\\"\u001B[39;00m\u001B[39mro_acquisition_delay\u001B[39m\u001B[39m\\\"\u001B[39;00m\u001B[39m: qubit.measure.acq_delay(),\u001B[39m\u001B[39m\\n\u001B[39;00m\u001B[39m\"\u001B[39m,\n\u001B[0;32m    256\u001B[0m     \u001B[39m\"\u001B[39m\u001B[39m        \u001B[39m\u001B[39m\\\"\u001B[39;00m\u001B[39mro_integration_time\u001B[39m\u001B[39m\\\"\u001B[39;00m\u001B[39m: qubit.measure.integration_time(),\u001B[39m\u001B[39m\\n\u001B[39;00m\u001B[39m\"\u001B[39m,\n\u001B[0;32m    257\u001B[0m     \u001B[39m\"\u001B[39m\u001B[39m        \u001B[39m\u001B[39m\\\"\u001B[39;00m\u001B[39minit_duration\u001B[39m\u001B[39m\\\"\u001B[39;00m\u001B[39m: qubit.reset.duration(),\u001B[39m\u001B[39m\\n\u001B[39;00m\u001B[39m\"\u001B[39m,\n\u001B[0;32m    258\u001B[0m     \u001B[39m\"\u001B[39m\u001B[39m    }\u001B[39m\u001B[39m\\n\u001B[39;00m\u001B[39m\"\u001B[39m,\n\u001B[0;32m    259\u001B[0m     \u001B[39m\"\u001B[39m\u001B[39m\\n\u001B[39;00m\u001B[39m\"\u001B[39m,\n\u001B[0;32m    260\u001B[0m     \u001B[39m\"\u001B[39m\u001B[39m\\n\u001B[39;00m\u001B[39m\"\u001B[39m,\n\u001B[0;32m    261\u001B[0m     \u001B[39m\"\u001B[39m\u001B[39m@kwarg_wrapper\u001B[39m\u001B[39m\\n\u001B[39;00m\u001B[39m\"\u001B[39m,\n\u001B[0;32m    262\u001B[0m     \u001B[39m\"\u001B[39m\u001B[39mdef rabi_kwargs(qubit: BasicTransmonElement) -> Dict[str, Any]:\u001B[39m\u001B[39m\\n\u001B[39;00m\u001B[39m\"\u001B[39m,\n\u001B[0;32m    263\u001B[0m     \u001B[39m\"\u001B[39m\u001B[39m    return \u001B[39m\u001B[39m{\u001B[39m\u001B[39m\\n\u001B[39;00m\u001B[39m\"\u001B[39m,\n\u001B[0;32m    264\u001B[0m     \u001B[39m\"\u001B[39m\u001B[39m        \u001B[39m\u001B[39m\\\"\u001B[39;00m\u001B[39mpulse_amp\u001B[39m\u001B[39m\\\"\u001B[39;00m\u001B[39m: qubit.rxy.amp180(),\u001B[39m\u001B[39m\\n\u001B[39;00m\u001B[39m\"\u001B[39m,\n\u001B[0;32m    265\u001B[0m     \u001B[39m\"\u001B[39m\u001B[39m        \u001B[39m\u001B[39m\\\"\u001B[39;00m\u001B[39mpulse_duration\u001B[39m\u001B[39m\\\"\u001B[39;00m\u001B[39m: qubit.rxy.duration(),\u001B[39m\u001B[39m\\n\u001B[39;00m\u001B[39m\"\u001B[39m,\n\u001B[0;32m    266\u001B[0m     \u001B[39m\"\u001B[39m\u001B[39m        \u001B[39m\u001B[39m\\\"\u001B[39;00m\u001B[39mfrequency\u001B[39m\u001B[39m\\\"\u001B[39;00m\u001B[39m: qubit.clock_freqs.f01(),\u001B[39m\u001B[39m\\n\u001B[39;00m\u001B[39m\"\u001B[39m,\n\u001B[0;32m    267\u001B[0m     \u001B[39m\"\u001B[39m\u001B[39m        \u001B[39m\u001B[39m\\\"\u001B[39;00m\u001B[39mqubit\u001B[39m\u001B[39m\\\"\u001B[39;00m\u001B[39m: qubit.name,\u001B[39m\u001B[39m\\n\u001B[39;00m\u001B[39m\"\u001B[39m,\n\u001B[0;32m    268\u001B[0m     \u001B[39m\"\u001B[39m\u001B[39m    }\u001B[39m\u001B[39m\"\u001B[39m\n\u001B[0;32m    269\u001B[0m    ]\n\u001B[0;32m    270\u001B[0m   },\n\u001B[0;32m    271\u001B[0m   {\n\u001B[0;32m    272\u001B[0m    \u001B[39m\"\u001B[39m\u001B[39mcell_type\u001B[39m\u001B[39m\"\u001B[39m: \u001B[39m\"\u001B[39m\u001B[39mmarkdown\u001B[39m\u001B[39m\"\u001B[39m,\n\u001B[0;32m    273\u001B[0m    \u001B[39m\"\u001B[39m\u001B[39mmetadata\u001B[39m\u001B[39m\"\u001B[39m: {},\n\u001B[0;32m    274\u001B[0m    \u001B[39m\"\u001B[39m\u001B[39msource\u001B[39m\u001B[39m\"\u001B[39m: [\n\u001B[0;32m    275\u001B[0m     \u001B[39m\"\u001B[39m\u001B[39mIf we want to run the tutorial notebook without hardware and still use the fitting routines, we need to provide the (fake) results for each experiment. These helper functions facilitate doing so.\u001B[39m\u001B[39m\"\u001B[39m\n\u001B[0;32m    276\u001B[0m    ]\n\u001B[0;32m    277\u001B[0m   },\n\u001B[0;32m    278\u001B[0m   {\n\u001B[0;32m    279\u001B[0m    \u001B[39m\"\u001B[39m\u001B[39mcell_type\u001B[39m\u001B[39m\"\u001B[39m: \u001B[39m\"\u001B[39m\u001B[39mcode\u001B[39m\u001B[39m\"\u001B[39m,\n\u001B[0;32m    280\u001B[0m    \u001B[39m\"\u001B[39m\u001B[39mexecution_count\u001B[39m\u001B[39m\"\u001B[39m: \u001B[39m14\u001B[39m,\n\u001B[0;32m    281\u001B[0m    \u001B[39m\"\u001B[39m\u001B[39mmetadata\u001B[39m\u001B[39m\"\u001B[39m: {},\n\u001B[0;32m    282\u001B[0m    \u001B[39m\"\u001B[39m\u001B[39moutputs\u001B[39m\u001B[39m\"\u001B[39m: [],\n\u001B[0;32m    283\u001B[0m    \u001B[39m\"\u001B[39m\u001B[39msource\u001B[39m\u001B[39m\"\u001B[39m: [\n\u001B[0;32m    284\u001B[0m     \u001B[39m\"\u001B[39m\u001B[39mclass heterodyne_spec_sched_with_dummy:\u001B[39m\u001B[39m\\n\u001B[39;00m\u001B[39m\"\u001B[39m,\n\u001B[0;32m    285\u001B[0m     \u001B[39m\"\u001B[39m\u001B[39m    def __init__(self):\u001B[39m\u001B[39m\\n\u001B[39;00m\u001B[39m\"\u001B[39m,\n\u001B[0;32m    286\u001B[0m     \u001B[39m\"\u001B[39m\u001B[39m        dummy_data = [\u001B[39m\u001B[39m\\n\u001B[39;00m\u001B[39m\"\u001B[39m,\n\u001B[0;32m    287\u001B[0m     \u001B[39m\"\u001B[39m\u001B[39m            [DummyBinnedAcquisitionData(data=(0.1, 0.2), thres=1, avg_cnt=0)],\u001B[39m\u001B[39m\\n\u001B[39;00m\u001B[39m\"\u001B[39m,\n\u001B[0;32m    288\u001B[0m     \u001B[39m\"\u001B[39m\u001B[39m            [DummyBinnedAcquisitionData(data=(0.3, 0.4), thres=1, avg_cnt=0)],\u001B[39m\u001B[39m\\n\u001B[39;00m\u001B[39m\"\u001B[39m,\n\u001B[0;32m    289\u001B[0m     \u001B[39m\"\u001B[39m\u001B[39m            [DummyBinnedAcquisitionData(data=(0.5, 0.6), thres=1, avg_cnt=0)],\u001B[39m\u001B[39m\\n\u001B[39;00m\u001B[39m\"\u001B[39m,\n\u001B[0;32m    290\u001B[0m     \u001B[39m\"\u001B[39m\u001B[39m        ]\u001B[39m\u001B[39m\\n\u001B[39;00m\u001B[39m\"\u001B[39m,\n\u001B[0;32m    291\u001B[0m     \u001B[39m\"\u001B[39m\u001B[39m        self.dummy_data_iter = iter(dummy_data)\u001B[39m\u001B[39m\\n\u001B[39;00m\u001B[39m\"\u001B[39m,\n\u001B[0;32m    292\u001B[0m     \u001B[39m\"\u001B[39m\u001B[39m\\n\u001B[39;00m\u001B[39m\"\u001B[39m,\n\u001B[0;32m    293\u001B[0m     \u001B[39m\"\u001B[39m\u001B[39m    def __call__(self, **kwargs):\u001B[39m\u001B[39m\\n\u001B[39;00m\u001B[39m\"\u001B[39m,\n\u001B[0;32m    294\u001B[0m     \u001B[39m\"\u001B[39m\u001B[39m        print(\u001B[39m\u001B[39m\\\"\u001B[39;00m\u001B[39mNew schedule generation\u001B[39m\u001B[39m\\\"\u001B[39;00m\u001B[39m)\u001B[39m\u001B[39m\\n\u001B[39;00m\u001B[39m\"\u001B[39m,\n\u001B[0;32m    295\u001B[0m     \u001B[39m\"\u001B[39m\u001B[39m        print(kwargs)\u001B[39m\u001B[39m\\n\u001B[39;00m\u001B[39m\"\u001B[39m,\n\u001B[0;32m    296\u001B[0m     \u001B[39m\"\u001B[39m\u001B[39m        cluster.set_dummy_binned_acquisition_data(\u001B[39m\u001B[39m\\n\u001B[39;00m\u001B[39m\"\u001B[39m,\n\u001B[0;32m    297\u001B[0m     \u001B[39m\"\u001B[39m\u001B[39m            slot_idx=16,\u001B[39m\u001B[39m\\n\u001B[39;00m\u001B[39m\"\u001B[39m,\n\u001B[0;32m    298\u001B[0m     \u001B[39m\"\u001B[39m\u001B[39m            sequencer=0,\u001B[39m\u001B[39m\\n\u001B[39;00m\u001B[39m\"\u001B[39m,\n\u001B[0;32m    299\u001B[0m     \u001B[39m\"\u001B[39m\u001B[39m            acq_index_name=\u001B[39m\u001B[39m\\\"\u001B[39;00m\u001B[39m0\u001B[39m\u001B[39m\\\"\u001B[39;00m\u001B[39m,\u001B[39m\u001B[39m\\n\u001B[39;00m\u001B[39m\"\u001B[39m,\n\u001B[0;32m    300\u001B[0m     \u001B[39m\"\u001B[39m\u001B[39m            data=next(self.dummy_data_iter),\u001B[39m\u001B[39m\\n\u001B[39;00m\u001B[39m\"\u001B[39m,\n\u001B[0;32m    301\u001B[0m     \u001B[39m\"\u001B[39m\u001B[39m        )\u001B[39m\u001B[39m\\n\u001B[39;00m\u001B[39m\"\u001B[39m,\n\u001B[0;32m    302\u001B[0m     \u001B[39m\"\u001B[39m\u001B[39m        return heterodyne_spec_sched(**kwargs)\u001B[39m\u001B[39m\\n\u001B[39;00m\u001B[39m\"\u001B[39m,\n\u001B[0;32m    303\u001B[0m     \u001B[39m\"\u001B[39m\u001B[39m\\n\u001B[39;00m\u001B[39m\"\u001B[39m,\n\u001B[0;32m    304\u001B[0m     \u001B[39m\"\u001B[39m\u001B[39mdef set_dummy_data_rabi():\u001B[39m\u001B[39m\\n\u001B[39;00m\u001B[39m\"\u001B[39m,\n\u001B[0;32m    305\u001B[0m     \u001B[39m\"\u001B[39m\u001B[39m    dummy_data_rabi = [\u001B[39m\u001B[39m\\n\u001B[39;00m\u001B[39m\"\u001B[39m,\n\u001B[0;32m    306\u001B[0m     \u001B[39m\"\u001B[39m\u001B[39m                DummyBinnedAcquisitionData(data=(np.cos(2*np.pi*i/20), np.sin(2*np.pi*i/20)), thres=1, avg_cnt=0) for i in range(50)\u001B[39m\u001B[39m\\n\u001B[39;00m\u001B[39m\"\u001B[39m,\n\u001B[0;32m    307\u001B[0m     \u001B[39m\"\u001B[39m\u001B[39m            ]\u001B[39m\u001B[39m\\n\u001B[39;00m\u001B[39m\"\u001B[39m,\n\u001B[0;32m    308\u001B[0m     \u001B[39m\"\u001B[39m\u001B[39m\\n\u001B[39;00m\u001B[39m\"\u001B[39m,\n\u001B[0;32m    309\u001B[0m     \u001B[39m\"\u001B[39m\u001B[39m    cluster.set_dummy_binned_acquisition_data(\u001B[39m\u001B[39m\\n\u001B[39;00m\u001B[39m\"\u001B[39m,\n\u001B[0;32m    310\u001B[0m     \u001B[39m\"\u001B[39m\u001B[39m                slot_idx=16,\u001B[39m\u001B[39m\\n\u001B[39;00m\u001B[39m\"\u001B[39m,\n\u001B[0;32m    311\u001B[0m     \u001B[39m\"\u001B[39m\u001B[39m                sequencer=0,\u001B[39m\u001B[39m\\n\u001B[39;00m\u001B[39m\"\u001B[39m,\n\u001B[0;32m    312\u001B[0m     \u001B[39m\"\u001B[39m\u001B[39m                acq_index_name=\u001B[39m\u001B[39m\\\"\u001B[39;00m\u001B[39m0\u001B[39m\u001B[39m\\\"\u001B[39;00m\u001B[39m,\u001B[39m\u001B[39m\\n\u001B[39;00m\u001B[39m\"\u001B[39m,\n\u001B[0;32m    313\u001B[0m     \u001B[39m\"\u001B[39m\u001B[39m                data=dummy_data_rabi,\u001B[39m\u001B[39m\\n\u001B[39;00m\u001B[39m\"\u001B[39m,\n\u001B[0;32m    314\u001B[0m     \u001B[39m\"\u001B[39m\u001B[39m            )\u001B[39m\u001B[39m\\n\u001B[39;00m\u001B[39m\"\u001B[39m,\n\u001B[0;32m    315\u001B[0m     \u001B[39m\"\u001B[39m\u001B[39m    \u001B[39m\u001B[39m\\n\u001B[39;00m\u001B[39m\"\u001B[39m,\n\u001B[0;32m    316\u001B[0m     \u001B[39m\"\u001B[39m\u001B[39mdef clear_dummy_data():\u001B[39m\u001B[39m\\n\u001B[39;00m\u001B[39m\"\u001B[39m,\n\u001B[0;32m    317\u001B[0m     \u001B[39m\"\u001B[39m\u001B[39m    cluster.set_dummy_binned_acquisition_data(\u001B[39m\u001B[39m\\n\u001B[39;00m\u001B[39m\"\u001B[39m,\n\u001B[0;32m    318\u001B[0m     \u001B[39m\"\u001B[39m\u001B[39m                slot_idx=16,\u001B[39m\u001B[39m\\n\u001B[39;00m\u001B[39m\"\u001B[39m,\n\u001B[0;32m    319\u001B[0m     \u001B[39m\"\u001B[39m\u001B[39m                sequencer=0,\u001B[39m\u001B[39m\\n\u001B[39;00m\u001B[39m\"\u001B[39m,\n\u001B[0;32m    320\u001B[0m     \u001B[39m\"\u001B[39m\u001B[39m                acq_index_name=\u001B[39m\u001B[39m\\\"\u001B[39;00m\u001B[39m0\u001B[39m\u001B[39m\\\"\u001B[39;00m\u001B[39m,\u001B[39m\u001B[39m\\n\u001B[39;00m\u001B[39m\"\u001B[39m,\n\u001B[0;32m    321\u001B[0m     \u001B[39m\"\u001B[39m\u001B[39m                data=[],\u001B[39m\u001B[39m\\n\u001B[39;00m\u001B[39m\"\u001B[39m,\n\u001B[0;32m    322\u001B[0m     \u001B[39m\"\u001B[39m\u001B[39m            )\u001B[39m\u001B[39m\"\u001B[39m\n\u001B[0;32m    323\u001B[0m    ]\n\u001B[0;32m    324\u001B[0m   },\n\u001B[0;32m    325\u001B[0m   {\n\u001B[0;32m    326\u001B[0m    \u001B[39m\"\u001B[39m\u001B[39mcell_type\u001B[39m\u001B[39m\"\u001B[39m: \u001B[39m\"\u001B[39m\u001B[39mmarkdown\u001B[39m\u001B[39m\"\u001B[39m,\n\u001B[0;32m    327\u001B[0m    \u001B[39m\"\u001B[39m\u001B[39mmetadata\u001B[39m\u001B[39m\"\u001B[39m: {},\n\u001B[0;32m    328\u001B[0m    \u001B[39m\"\u001B[39m\u001B[39msource\u001B[39m\u001B[39m\"\u001B[39m: [\n\u001B[0;32m    329\u001B[0m     \u001B[39m\"\u001B[39m\u001B[39mQuantify provides analysis classes for many standard experiments. But sometimes we want to define our own. Below we show how this is done on the example of two tone spectroscopy on a superconducting qubit.\u001B[39m\u001B[39m\"\u001B[39m\n\u001B[0;32m    330\u001B[0m    ]\n\u001B[0;32m    331\u001B[0m   },\n\u001B[0;32m    332\u001B[0m   {\n\u001B[0;32m    333\u001B[0m    \u001B[39m\"\u001B[39m\u001B[39mcell_type\u001B[39m\u001B[39m\"\u001B[39m: \u001B[39m\"\u001B[39m\u001B[39mcode\u001B[39m\u001B[39m\"\u001B[39m,\n\u001B[0;32m    334\u001B[0m    \u001B[39m\"\u001B[39m\u001B[39mexecution_count\u001B[39m\u001B[39m\"\u001B[39m: \u001B[39m15\u001B[39m,\n\u001B[0;32m    335\u001B[0m    \u001B[39m\"\u001B[39m\u001B[39mmetadata\u001B[39m\u001B[39m\"\u001B[39m: {},\n\u001B[0;32m    336\u001B[0m    \u001B[39m\"\u001B[39m\u001B[39moutputs\u001B[39m\u001B[39m\"\u001B[39m: [],\n\u001B[0;32m    337\u001B[0m    \u001B[39m\"\u001B[39m\u001B[39msource\u001B[39m\u001B[39m\"\u001B[39m: [\n\u001B[0;32m    338\u001B[0m     \u001B[39m\"\u001B[39m\u001B[39mclass QubitSpectroscopyAnalysis(ba.BaseAnalysis):\u001B[39m\u001B[39m\\n\u001B[39;00m\u001B[39m\"\u001B[39m,\n\u001B[0;32m    339\u001B[0m     \u001B[39m\"\u001B[39m\u001B[39m    \u001B[39m\u001B[39m\\\"\u001B[39;00m\u001B[39m\\\"\u001B[39;00m\u001B[39m\\\"\u001B[39;00m\u001B[39m\\n\u001B[39;00m\u001B[39m\"\u001B[39m,\n\u001B[0;32m    340\u001B[0m     \u001B[39m\"\u001B[39m\u001B[39m    Fits a Lorentzian function to qubit spectroscopy data and finds the\u001B[39m\u001B[39m\\n\u001B[39;00m\u001B[39m\"\u001B[39m,\n\u001B[0;32m    341\u001B[0m     \u001B[39m\"\u001B[39m\u001B[39m    0-1 transistion frequency of the qubit\u001B[39m\u001B[39m\\n\u001B[39;00m\u001B[39m\"\u001B[39m,\n\u001B[0;32m    342\u001B[0m     \u001B[39m\"\u001B[39m\u001B[39m    \u001B[39m\u001B[39m\\\"\u001B[39;00m\u001B[39m\\\"\u001B[39;00m\u001B[39m\\\"\u001B[39;00m\u001B[39m\\n\u001B[39;00m\u001B[39m\"\u001B[39m,\n\u001B[0;32m    343\u001B[0m     \u001B[39m\"\u001B[39m\u001B[39m\\n\u001B[39;00m\u001B[39m\"\u001B[39m,\n\u001B[0;32m    344\u001B[0m     \u001B[39m\"\u001B[39m\u001B[39m    def process_data(self):\u001B[39m\u001B[39m\\n\u001B[39;00m\u001B[39m\"\u001B[39m,\n\u001B[0;32m    345\u001B[0m     \u001B[39m\"\u001B[39m\u001B[39m        \u001B[39m\u001B[39m\\\"\u001B[39;00m\u001B[39m\\\"\u001B[39;00m\u001B[39m\\\"\u001B[39;00m\u001B[39m\\n\u001B[39;00m\u001B[39m\"\u001B[39m,\n\u001B[0;32m    346\u001B[0m     \u001B[39m\"\u001B[39m\u001B[39m        Populates the :code:`.dataset_processed`.\u001B[39m\u001B[39m\\n\u001B[39;00m\u001B[39m\"\u001B[39m,\n\u001B[0;32m    347\u001B[0m     \u001B[39m\"\u001B[39m\u001B[39m        \u001B[39m\u001B[39m\\\"\u001B[39;00m\u001B[39m\\\"\u001B[39;00m\u001B[39m\\\"\u001B[39;00m\u001B[39m\\n\u001B[39;00m\u001B[39m\"\u001B[39m,\n\u001B[0;32m    348\u001B[0m     \u001B[39m\"\u001B[39m\u001B[39m        # y0 = amplitude, no check for the amplitude unit as the name/label is\u001B[39m\u001B[39m\\n\u001B[39;00m\u001B[39m\"\u001B[39m,\n\u001B[0;32m    349\u001B[0m     \u001B[39m\"\u001B[39m\u001B[39m        # often different.\u001B[39m\u001B[39m\\n\u001B[39;00m\u001B[39m\"\u001B[39m,\n\u001B[0;32m    350\u001B[0m     \u001B[39m\"\u001B[39m\u001B[39m\\n\u001B[39;00m\u001B[39m\"\u001B[39m,\n\u001B[0;32m    351\u001B[0m     \u001B[39m\"\u001B[39m\u001B[39m        self.dataset_processed[\u001B[39m\u001B[39m\\\"\u001B[39;00m\u001B[39mMagnitude\u001B[39m\u001B[39m\\\"\u001B[39;00m\u001B[39m] = self.dataset.y0\u001B[39m\u001B[39m\\n\u001B[39;00m\u001B[39m\"\u001B[39m,\n\u001B[0;32m    352\u001B[0m     \u001B[39m\"\u001B[39m\u001B[39m        self.dataset_processed.Magnitude.attrs[\u001B[39m\u001B[39m\\\"\u001B[39;00m\u001B[39mname\u001B[39m\u001B[39m\\\"\u001B[39;00m\u001B[39m] = \u001B[39m\u001B[39m\\\"\u001B[39;00m\u001B[39mMagnitude\u001B[39m\u001B[39m\\\"\u001B[39;00m\u001B[39m\\n\u001B[39;00m\u001B[39m\"\u001B[39m,\n\u001B[0;32m    353\u001B[0m     \u001B[39m\"\u001B[39m\u001B[39m        self.dataset_processed.Magnitude.attrs[\u001B[39m\u001B[39m\\\"\u001B[39;00m\u001B[39munits\u001B[39m\u001B[39m\\\"\u001B[39;00m\u001B[39m] = self.dataset.y0.units\u001B[39m\u001B[39m\\n\u001B[39;00m\u001B[39m\"\u001B[39m,\n\u001B[0;32m    354\u001B[0m     \u001B[39m\"\u001B[39m\u001B[39m        self.dataset_processed.Magnitude.attrs[\u001B[39m\u001B[39m\\\"\u001B[39;00m\u001B[39mlong_name\u001B[39m\u001B[39m\\\"\u001B[39;00m\u001B[39m] = \u001B[39m\u001B[39m\\\"\u001B[39;00m\u001B[39mMagnitude, $|S_\u001B[39m\u001B[39m{21}\u001B[39;00m\u001B[39m|$\u001B[39m\u001B[39m\\\"\u001B[39;00m\u001B[39m\\n\u001B[39;00m\u001B[39m\"\u001B[39m,\n\u001B[0;32m    355\u001B[0m     \u001B[39m\"\u001B[39m\u001B[39m\\n\u001B[39;00m\u001B[39m\"\u001B[39m,\n\u001B[0;32m    356\u001B[0m     \u001B[39m\"\u001B[39m\u001B[39m        self.dataset_processed[\u001B[39m\u001B[39m\\\"\u001B[39;00m\u001B[39mx0\u001B[39m\u001B[39m\\\"\u001B[39;00m\u001B[39m] = self.dataset.x0\u001B[39m\u001B[39m\\n\u001B[39;00m\u001B[39m\"\u001B[39m,\n\u001B[0;32m    357\u001B[0m     \u001B[39m\"\u001B[39m\u001B[39m        self.dataset_processed = self.dataset_processed.set_coords(\u001B[39m\u001B[39m\\\"\u001B[39;00m\u001B[39mx0\u001B[39m\u001B[39m\\\"\u001B[39;00m\u001B[39m)\u001B[39m\u001B[39m\\n\u001B[39;00m\u001B[39m\"\u001B[39m,\n\u001B[0;32m    358\u001B[0m     \u001B[39m\"\u001B[39m\u001B[39m        # replace the default dim_0 with x0\u001B[39m\u001B[39m\\n\u001B[39;00m\u001B[39m\"\u001B[39m,\n\u001B[0;32m    359\u001B[0m     \u001B[39m\"\u001B[39m\u001B[39m        self.dataset_processed = self.dataset_processed.swap_dims(\u001B[39m\u001B[39m{\u001B[39m\u001B[39m\\\"\u001B[39;00m\u001B[39mdim_0\u001B[39m\u001B[39m\\\"\u001B[39;00m\u001B[39m: \u001B[39m\u001B[39m\\\"\u001B[39;00m\u001B[39mx0\u001B[39m\u001B[39m\\\"\u001B[39;00m\u001B[39m})\u001B[39m\u001B[39m\\n\u001B[39;00m\u001B[39m\"\u001B[39m,\n\u001B[0;32m    360\u001B[0m     \u001B[39m\"\u001B[39m\u001B[39m\\n\u001B[39;00m\u001B[39m\"\u001B[39m,\n\u001B[0;32m    361\u001B[0m     \u001B[39m\"\u001B[39m\u001B[39m    def run_fitting(self):\u001B[39m\u001B[39m\\n\u001B[39;00m\u001B[39m\"\u001B[39m,\n\u001B[0;32m    362\u001B[0m     \u001B[39m\"\u001B[39m\u001B[39m        \u001B[39m\u001B[39m\\\"\u001B[39;00m\u001B[39m\\\"\u001B[39;00m\u001B[39m\\\"\u001B[39;00m\u001B[39m\\n\u001B[39;00m\u001B[39m\"\u001B[39m,\n\u001B[0;32m    363\u001B[0m     \u001B[39m\"\u001B[39m\u001B[39m        Fits a Lorentzian function to the data.\u001B[39m\u001B[39m\\n\u001B[39;00m\u001B[39m\"\u001B[39m,\n\u001B[0;32m    364\u001B[0m     \u001B[39m\"\u001B[39m\u001B[39m        \u001B[39m\u001B[39m\\\"\u001B[39;00m\u001B[39m\\\"\u001B[39;00m\u001B[39m\\\"\u001B[39;00m\u001B[39m\\n\u001B[39;00m\u001B[39m\"\u001B[39m,\n\u001B[0;32m    365\u001B[0m     \u001B[39m\"\u001B[39m\u001B[39m        mod = LorentzianModel()\u001B[39m\u001B[39m\\n\u001B[39;00m\u001B[39m\"\u001B[39m,\n\u001B[0;32m    366\u001B[0m     \u001B[39m\"\u001B[39m\u001B[39m\\n\u001B[39;00m\u001B[39m\"\u001B[39m,\n\u001B[0;32m    367\u001B[0m     \u001B[39m\"\u001B[39m\u001B[39m        magnitude = np.array(self.dataset_processed[\u001B[39m\u001B[39m\\\"\u001B[39;00m\u001B[39mMagnitude\u001B[39m\u001B[39m\\\"\u001B[39;00m\u001B[39m])\u001B[39m\u001B[39m\\n\u001B[39;00m\u001B[39m\"\u001B[39m,\n\u001B[0;32m    368\u001B[0m     \u001B[39m\"\u001B[39m\u001B[39m        frequency = np.array(self.dataset_processed.x0)\u001B[39m\u001B[39m\\n\u001B[39;00m\u001B[39m\"\u001B[39m,\n\u001B[0;32m    369\u001B[0m     \u001B[39m\"\u001B[39m\u001B[39m        guess = mod.guess(magnitude, x=frequency)\u001B[39m\u001B[39m\\n\u001B[39;00m\u001B[39m\"\u001B[39m,\n\u001B[0;32m    370\u001B[0m     \u001B[39m\"\u001B[39m\u001B[39m        fit_result = mod.fit(magnitude, params=guess, x=frequency)\u001B[39m\u001B[39m\\n\u001B[39;00m\u001B[39m\"\u001B[39m,\n\u001B[0;32m    371\u001B[0m     \u001B[39m\"\u001B[39m\u001B[39m\\n\u001B[39;00m\u001B[39m\"\u001B[39m,\n\u001B[0;32m    372\u001B[0m     \u001B[39m\"\u001B[39m\u001B[39m        self.fit_results.update(\u001B[39m\u001B[39m{\u001B[39m\u001B[39m\\\"\u001B[39;00m\u001B[39mLorentzian_peak\u001B[39m\u001B[39m\\\"\u001B[39;00m\u001B[39m: fit_result})\u001B[39m\u001B[39m\\n\u001B[39;00m\u001B[39m\"\u001B[39m,\n\u001B[0;32m    373\u001B[0m     \u001B[39m\"\u001B[39m\u001B[39m\\n\u001B[39;00m\u001B[39m\"\u001B[39m,\n\u001B[0;32m    374\u001B[0m     \u001B[39m\"\u001B[39m\u001B[39m    def analyze_fit_results(self):\u001B[39m\u001B[39m\\n\u001B[39;00m\u001B[39m\"\u001B[39m,\n\u001B[0;32m    375\u001B[0m     \u001B[39m\"\u001B[39m\u001B[39m        \u001B[39m\u001B[39m\\\"\u001B[39;00m\u001B[39m\\\"\u001B[39;00m\u001B[39m\\\"\u001B[39;00m\u001B[39m\\n\u001B[39;00m\u001B[39m\"\u001B[39m,\n\u001B[0;32m    376\u001B[0m     \u001B[39m\"\u001B[39m\u001B[39m        Checks fit success and populates :code:`.quantities_of_interest`.\u001B[39m\u001B[39m\\n\u001B[39;00m\u001B[39m\"\u001B[39m,\n\u001B[0;32m    377\u001B[0m     \u001B[39m\"\u001B[39m\u001B[39m        \u001B[39m\u001B[39m\\\"\u001B[39;00m\u001B[39m\\\"\u001B[39;00m\u001B[39m\\\"\u001B[39;00m\u001B[39m\\n\u001B[39;00m\u001B[39m\"\u001B[39m,\n\u001B[0;32m    378\u001B[0m     \u001B[39m\"\u001B[39m\u001B[39m        fit_result = self.fit_results[\u001B[39m\u001B[39m\\\"\u001B[39;00m\u001B[39mLorentzian_peak\u001B[39m\u001B[39m\\\"\u001B[39;00m\u001B[39m]\u001B[39m\u001B[39m\\n\u001B[39;00m\u001B[39m\"\u001B[39m,\n\u001B[0;32m    379\u001B[0m     \u001B[39m\"\u001B[39m\u001B[39m        fit_warning = ba.wrap_text(ba.check_lmfit(fit_result))\u001B[39m\u001B[39m\\n\u001B[39;00m\u001B[39m\"\u001B[39m,\n\u001B[0;32m    380\u001B[0m     \u001B[39m\"\u001B[39m\u001B[39m\\n\u001B[39;00m\u001B[39m\"\u001B[39m,\n\u001B[0;32m    381\u001B[0m     \u001B[39m\"\u001B[39m\u001B[39m        # If there is a problem with the fit, display an error message in the text box.\u001B[39m\u001B[39m\\n\u001B[39;00m\u001B[39m\"\u001B[39m,\n\u001B[0;32m    382\u001B[0m     \u001B[39m\"\u001B[39m\u001B[39m        # Otherwise, display the parameters as normal.\u001B[39m\u001B[39m\\n\u001B[39;00m\u001B[39m\"\u001B[39m,\n\u001B[0;32m    383\u001B[0m     \u001B[39m\"\u001B[39m\u001B[39m        if fit_warning is None:\u001B[39m\u001B[39m\\n\u001B[39;00m\u001B[39m\"\u001B[39m,\n\u001B[0;32m    384\u001B[0m     \u001B[39m\"\u001B[39m\u001B[39m            self.quantities_of_interest[\u001B[39m\u001B[39m\\\"\u001B[39;00m\u001B[39mfit_success\u001B[39m\u001B[39m\\\"\u001B[39;00m\u001B[39m] = True\u001B[39m\u001B[39m\\n\u001B[39;00m\u001B[39m\"\u001B[39m,\n\u001B[0;32m    385\u001B[0m     \u001B[39m\"\u001B[39m\u001B[39m\\n\u001B[39;00m\u001B[39m\"\u001B[39m,\n\u001B[0;32m    386\u001B[0m     \u001B[39m\"\u001B[39m\u001B[39m            text_msg = \u001B[39m\u001B[39m\\\"\u001B[39;00m\u001B[39mSummary\u001B[39m\u001B[39m\\\\\u001B[39;00m\u001B[39mn\u001B[39m\u001B[39m\\\"\u001B[39;00m\u001B[39m\\n\u001B[39;00m\u001B[39m\"\u001B[39m,\n\u001B[0;32m    387\u001B[0m     \u001B[39m\"\u001B[39m\u001B[39m            text_msg += format_value_string(\u001B[39m\u001B[39m\\n\u001B[39;00m\u001B[39m\"\u001B[39m,\n\u001B[0;32m    388\u001B[0m     \u001B[39m\"\u001B[39m\u001B[39m                \u001B[39m\u001B[39m\\\"\u001B[39;00m\u001B[39mFrequency 0-1\u001B[39m\u001B[39m\\\"\u001B[39;00m\u001B[39m,\u001B[39m\u001B[39m\\n\u001B[39;00m\u001B[39m\"\u001B[39m,\n\u001B[0;32m    389\u001B[0m     \u001B[39m\"\u001B[39m\u001B[39m                fit_result.params[\u001B[39m\u001B[39m\\\"\u001B[39;00m\u001B[39mx0\u001B[39m\u001B[39m\\\"\u001B[39;00m\u001B[39m],\u001B[39m\u001B[39m\\n\u001B[39;00m\u001B[39m\"\u001B[39m,\n\u001B[0;32m    390\u001B[0m     \u001B[39m\"\u001B[39m\u001B[39m                unit=\u001B[39m\u001B[39m\\\"\u001B[39;00m\u001B[39mHz\u001B[39m\u001B[39m\\\"\u001B[39;00m\u001B[39m,\u001B[39m\u001B[39m\\n\u001B[39;00m\u001B[39m\"\u001B[39m,\n\u001B[0;32m    391\u001B[0m     \u001B[39m\"\u001B[39m\u001B[39m                end_char=\u001B[39m\u001B[39m\\\"\u001B[39;00m\u001B[39m\\\\\u001B[39;00m\u001B[39mn\u001B[39m\u001B[39m\\\"\u001B[39;00m\u001B[39m,\u001B[39m\u001B[39m\\n\u001B[39;00m\u001B[39m\"\u001B[39m,\n\u001B[0;32m    392\u001B[0m     \u001B[39m\"\u001B[39m\u001B[39m            )\u001B[39m\u001B[39m\\n\u001B[39;00m\u001B[39m\"\u001B[39m,\n\u001B[0;32m    393\u001B[0m     \u001B[39m\"\u001B[39m\u001B[39m            text_msg += format_value_string(\u001B[39m\u001B[39m\\n\u001B[39;00m\u001B[39m\"\u001B[39m,\n\u001B[0;32m    394\u001B[0m     \u001B[39m\"\u001B[39m\u001B[39m                \u001B[39m\u001B[39m\\\"\u001B[39;00m\u001B[39mPeak width\u001B[39m\u001B[39m\\\"\u001B[39;00m\u001B[39m,\u001B[39m\u001B[39m\\n\u001B[39;00m\u001B[39m\"\u001B[39m,\n\u001B[0;32m    395\u001B[0m     \u001B[39m\"\u001B[39m\u001B[39m                fit_result.params[\u001B[39m\u001B[39m\\\"\u001B[39;00m\u001B[39mwidth\u001B[39m\u001B[39m\\\"\u001B[39;00m\u001B[39m],\u001B[39m\u001B[39m\\n\u001B[39;00m\u001B[39m\"\u001B[39m,\n\u001B[0;32m    396\u001B[0m     \u001B[39m\"\u001B[39m\u001B[39m                unit=\u001B[39m\u001B[39m\\\"\u001B[39;00m\u001B[39mHz\u001B[39m\u001B[39m\\\"\u001B[39;00m\u001B[39m,\u001B[39m\u001B[39m\\n\u001B[39;00m\u001B[39m\"\u001B[39m,\n\u001B[0;32m    397\u001B[0m     \u001B[39m\"\u001B[39m\u001B[39m                end_char=\u001B[39m\u001B[39m\\\"\u001B[39;00m\u001B[39m\\\\\u001B[39;00m\u001B[39mn\u001B[39m\u001B[39m\\\"\u001B[39;00m\u001B[39m,\u001B[39m\u001B[39m\\n\u001B[39;00m\u001B[39m\"\u001B[39m,\n\u001B[0;32m    398\u001B[0m     \u001B[39m\"\u001B[39m\u001B[39m            )\u001B[39m\u001B[39m\\n\u001B[39;00m\u001B[39m\"\u001B[39m,\n\u001B[0;32m    399\u001B[0m     \u001B[39m\"\u001B[39m\u001B[39m        else:\u001B[39m\u001B[39m\\n\u001B[39;00m\u001B[39m\"\u001B[39m,\n\u001B[0;32m    400\u001B[0m     \u001B[39m\"\u001B[39m\u001B[39m            text_msg = ba.wrap_text(fit_warning)\u001B[39m\u001B[39m\\n\u001B[39;00m\u001B[39m\"\u001B[39m,\n\u001B[0;32m    401\u001B[0m     \u001B[39m\"\u001B[39m\u001B[39m            self.quantities_of_interest[\u001B[39m\u001B[39m\\\"\u001B[39;00m\u001B[39mfit_success\u001B[39m\u001B[39m\\\"\u001B[39;00m\u001B[39m] = False\u001B[39m\u001B[39m\\n\u001B[39;00m\u001B[39m\"\u001B[39m,\n\u001B[0;32m    402\u001B[0m     \u001B[39m\"\u001B[39m\u001B[39m\\n\u001B[39;00m\u001B[39m\"\u001B[39m,\n\u001B[0;32m    403\u001B[0m     \u001B[39m\"\u001B[39m\u001B[39m        self.quantities_of_interest[\u001B[39m\u001B[39m\\\"\u001B[39;00m\u001B[39mfrequency_01\u001B[39m\u001B[39m\\\"\u001B[39;00m\u001B[39m] = ba.lmfit_par_to_ufloat(\u001B[39m\u001B[39m\\n\u001B[39;00m\u001B[39m\"\u001B[39m,\n\u001B[0;32m    404\u001B[0m     \u001B[39m\"\u001B[39m\u001B[39m            fit_result.params[\u001B[39m\u001B[39m\\\"\u001B[39;00m\u001B[39mx0\u001B[39m\u001B[39m\\\"\u001B[39;00m\u001B[39m]\u001B[39m\u001B[39m\\n\u001B[39;00m\u001B[39m\"\u001B[39m,\n\u001B[0;32m    405\u001B[0m     \u001B[39m\"\u001B[39m\u001B[39m        )\u001B[39m\u001B[39m\\n\u001B[39;00m\u001B[39m\"\u001B[39m,\n\u001B[0;32m    406\u001B[0m     \u001B[39m\"\u001B[39m\u001B[39m        self.quantities_of_interest[\u001B[39m\u001B[39m\\\"\u001B[39;00m\u001B[39mfit_msg\u001B[39m\u001B[39m\\\"\u001B[39;00m\u001B[39m] = text_msg\u001B[39m\u001B[39m\\n\u001B[39;00m\u001B[39m\"\u001B[39m,\n\u001B[0;32m    407\u001B[0m     \u001B[39m\"\u001B[39m\u001B[39m\\n\u001B[39;00m\u001B[39m\"\u001B[39m,\n\u001B[0;32m    408\u001B[0m     \u001B[39m\"\u001B[39m\u001B[39m    def create_figures(self):\u001B[39m\u001B[39m\\n\u001B[39;00m\u001B[39m\"\u001B[39m,\n\u001B[0;32m    409\u001B[0m     \u001B[39m\"\u001B[39m\u001B[39m        \u001B[39m\u001B[39m\\\"\u001B[39;00m\u001B[39m\\\"\u001B[39;00m\u001B[39m\\\"\u001B[39;00m\u001B[39mCreates qubit spectroscopy figure\u001B[39m\u001B[39m\\\"\u001B[39;00m\u001B[39m\\\"\u001B[39;00m\u001B[39m\\\"\u001B[39;00m\u001B[39m\\n\u001B[39;00m\u001B[39m\"\u001B[39m,\n\u001B[0;32m    410\u001B[0m     \u001B[39m\"\u001B[39m\u001B[39m\\n\u001B[39;00m\u001B[39m\"\u001B[39m,\n\u001B[0;32m    411\u001B[0m     \u001B[39m\"\u001B[39m\u001B[39m        fig_id = \u001B[39m\u001B[39m\\\"\u001B[39;00m\u001B[39mqubit_spectroscopy\u001B[39m\u001B[39m\\\"\u001B[39;00m\u001B[39m\\n\u001B[39;00m\u001B[39m\"\u001B[39m,\n\u001B[0;32m    412\u001B[0m     \u001B[39m\"\u001B[39m\u001B[39m        fig, ax = plt.subplots()\u001B[39m\u001B[39m\\n\u001B[39;00m\u001B[39m\"\u001B[39m,\n\u001B[0;32m    413\u001B[0m     \u001B[39m\"\u001B[39m\u001B[39m        self.figs_mpl[fig_id] = fig\u001B[39m\u001B[39m\\n\u001B[39;00m\u001B[39m\"\u001B[39m,\n\u001B[0;32m    414\u001B[0m     \u001B[39m\"\u001B[39m\u001B[39m        self.axs_mpl[fig_id] = ax\u001B[39m\u001B[39m\\n\u001B[39;00m\u001B[39m\"\u001B[39m,\n\u001B[0;32m    415\u001B[0m     \u001B[39m\"\u001B[39m\u001B[39m\\n\u001B[39;00m\u001B[39m\"\u001B[39m,\n\u001B[0;32m    416\u001B[0m     \u001B[39m\"\u001B[39m\u001B[39m        # Add a textbox with the fit_message\u001B[39m\u001B[39m\\n\u001B[39;00m\u001B[39m\"\u001B[39m,\n\u001B[0;32m    417\u001B[0m     \u001B[39m\"\u001B[39m\u001B[39m        qpl.plot_textbox(ax, self.quantities_of_interest[\u001B[39m\u001B[39m\\\"\u001B[39;00m\u001B[39mfit_msg\u001B[39m\u001B[39m\\\"\u001B[39;00m\u001B[39m])\u001B[39m\u001B[39m\\n\u001B[39;00m\u001B[39m\"\u001B[39m,\n\u001B[0;32m    418\u001B[0m     \u001B[39m\"\u001B[39m\u001B[39m\\n\u001B[39;00m\u001B[39m\"\u001B[39m,\n\u001B[0;32m    419\u001B[0m     \u001B[39m\"\u001B[39m\u001B[39m        self.dataset_processed.Magnitude.plot(ax=ax, marker=\u001B[39m\u001B[39m\\\"\u001B[39;00m\u001B[39m.\u001B[39m\u001B[39m\\\"\u001B[39;00m\u001B[39m, linestyle=\u001B[39m\u001B[39m\\\"\u001B[39;00m\u001B[39m\\\"\u001B[39;00m\u001B[39m)\u001B[39m\u001B[39m\\n\u001B[39;00m\u001B[39m\"\u001B[39m,\n\u001B[0;32m    420\u001B[0m     \u001B[39m\"\u001B[39m\u001B[39m\\n\u001B[39;00m\u001B[39m\"\u001B[39m,\n\u001B[0;32m    421\u001B[0m     \u001B[39m\"\u001B[39m\u001B[39m        qpl.plot_fit(\u001B[39m\u001B[39m\\n\u001B[39;00m\u001B[39m\"\u001B[39m,\n\u001B[0;32m    422\u001B[0m     \u001B[39m\"\u001B[39m\u001B[39m            ax=ax,\u001B[39m\u001B[39m\\n\u001B[39;00m\u001B[39m\"\u001B[39m,\n\u001B[0;32m    423\u001B[0m     \u001B[39m\"\u001B[39m\u001B[39m            fit_res=self.fit_results[\u001B[39m\u001B[39m\\\"\u001B[39;00m\u001B[39mLorentzian_peak\u001B[39m\u001B[39m\\\"\u001B[39;00m\u001B[39m],\u001B[39m\u001B[39m\\n\u001B[39;00m\u001B[39m\"\u001B[39m,\n\u001B[0;32m    424\u001B[0m     \u001B[39m\"\u001B[39m\u001B[39m            plot_init=not self.quantities_of_interest[\u001B[39m\u001B[39m\\\"\u001B[39;00m\u001B[39mfit_success\u001B[39m\u001B[39m\\\"\u001B[39;00m\u001B[39m],\u001B[39m\u001B[39m\\n\u001B[39;00m\u001B[39m\"\u001B[39m,\n\u001B[0;32m    425\u001B[0m     \u001B[39m\"\u001B[39m\u001B[39m            range_casting=\u001B[39m\u001B[39m\\\"\u001B[39;00m\u001B[39mreal\u001B[39m\u001B[39m\\\"\u001B[39;00m\u001B[39m,\u001B[39m\u001B[39m\\n\u001B[39;00m\u001B[39m\"\u001B[39m,\n\u001B[0;32m    426\u001B[0m     \u001B[39m\"\u001B[39m\u001B[39m        )\u001B[39m\u001B[39m\\n\u001B[39;00m\u001B[39m\"\u001B[39m,\n\u001B[0;32m    427\u001B[0m     \u001B[39m\"\u001B[39m\u001B[39m\\n\u001B[39;00m\u001B[39m\"\u001B[39m,\n\u001B[0;32m    428\u001B[0m     \u001B[39m\"\u001B[39m\u001B[39m        qpl.set_ylabel(ax, r\u001B[39m\u001B[39m\\\"\u001B[39;00m\u001B[39mOutput voltage\u001B[39m\u001B[39m\\\"\u001B[39;00m\u001B[39m, self.dataset_processed.Magnitude.units)\u001B[39m\u001B[39m\\n\u001B[39;00m\u001B[39m\"\u001B[39m,\n\u001B[0;32m    429\u001B[0m     \u001B[39m\"\u001B[39m\u001B[39m        qpl.set_xlabel(\u001B[39m\u001B[39m\\n\u001B[39;00m\u001B[39m\"\u001B[39m,\n\u001B[0;32m    430\u001B[0m     \u001B[39m\"\u001B[39m\u001B[39m            ax, self.dataset_processed.x0.long_name, self.dataset_processed.x0.units\u001B[39m\u001B[39m\\n\u001B[39;00m\u001B[39m\"\u001B[39m,\n\u001B[0;32m    431\u001B[0m     \u001B[39m\"\u001B[39m\u001B[39m        )\u001B[39m\u001B[39m\\n\u001B[39;00m\u001B[39m\"\u001B[39m,\n\u001B[0;32m    432\u001B[0m     \u001B[39m\"\u001B[39m\u001B[39m\\n\u001B[39;00m\u001B[39m\"\u001B[39m,\n\u001B[0;32m    433\u001B[0m     \u001B[39m\"\u001B[39m\u001B[39m        qpl.set_suptitle_from_dataset(fig, self.dataset, \u001B[39m\u001B[39m\\\"\u001B[39;00m\u001B[39mS21\u001B[39m\u001B[39m\\\"\u001B[39;00m\u001B[39m)\u001B[39m\u001B[39m\\n\u001B[39;00m\u001B[39m\"\u001B[39m,\n\u001B[0;32m    434\u001B[0m     \u001B[39m\"\u001B[39m\u001B[39m\\n\u001B[39;00m\u001B[39m\"\u001B[39m,\n\u001B[0;32m    435\u001B[0m     \u001B[39m\"\u001B[39m\u001B[39m\\n\u001B[39;00m\u001B[39m\"\u001B[39m,\n\u001B[0;32m    436\u001B[0m     \u001B[39m\"\u001B[39m\u001B[39mdef lorentzian(\u001B[39m\u001B[39m\\n\u001B[39;00m\u001B[39m\"\u001B[39m,\n\u001B[0;32m    437\u001B[0m     \u001B[39m\"\u001B[39m\u001B[39m    x: float,\u001B[39m\u001B[39m\\n\u001B[39;00m\u001B[39m\"\u001B[39m,\n\u001B[0;32m    438\u001B[0m     \u001B[39m\"\u001B[39m\u001B[39m    x0: float,\u001B[39m\u001B[39m\\n\u001B[39;00m\u001B[39m\"\u001B[39m,\n\u001B[0;32m    439\u001B[0m     \u001B[39m\"\u001B[39m\u001B[39m    width: float,\u001B[39m\u001B[39m\\n\u001B[39;00m\u001B[39m\"\u001B[39m,\n\u001B[0;32m    440\u001B[0m     \u001B[39m\"\u001B[39m\u001B[39m    A: float,\u001B[39m\u001B[39m\\n\u001B[39;00m\u001B[39m\"\u001B[39m,\n\u001B[0;32m    441\u001B[0m     \u001B[39m\"\u001B[39m\u001B[39m    c: float,\u001B[39m\u001B[39m\\n\u001B[39;00m\u001B[39m\"\u001B[39m,\n\u001B[0;32m    442\u001B[0m     \u001B[39m\"\u001B[39m\u001B[39m) -> float:\u001B[39m\u001B[39m\\n\u001B[39;00m\u001B[39m\"\u001B[39m,\n\u001B[0;32m    443\u001B[0m     \u001B[39m\"\u001B[39m\u001B[39m    r\u001B[39m\u001B[39m\\\"\u001B[39;00m\u001B[39m\\\"\u001B[39;00m\u001B[39m\\\"\u001B[39;00m\u001B[39m\\n\u001B[39;00m\u001B[39m\"\u001B[39m,\n\u001B[0;32m    444\u001B[0m     \u001B[39m\"\u001B[39m\u001B[39m    A Lorentzian function.\u001B[39m\u001B[39m\\n\u001B[39;00m\u001B[39m\"\u001B[39m,\n\u001B[0;32m    445\u001B[0m     \u001B[39m\"\u001B[39m\u001B[39m\\n\u001B[39;00m\u001B[39m\"\u001B[39m,\n\u001B[0;32m    446\u001B[0m     \u001B[39m\"\u001B[39m\u001B[39m    Parameters\u001B[39m\u001B[39m\\n\u001B[39;00m\u001B[39m\"\u001B[39m,\n\u001B[0;32m    447\u001B[0m     \u001B[39m\"\u001B[39m\u001B[39m    ----------\u001B[39m\u001B[39m\\n\u001B[39;00m\u001B[39m\"\u001B[39m,\n\u001B[0;32m    448\u001B[0m     \u001B[39m\"\u001B[39m\u001B[39m    x:\u001B[39m\u001B[39m\\n\u001B[39;00m\u001B[39m\"\u001B[39m,\n\u001B[0;32m    449\u001B[0m     \u001B[39m\"\u001B[39m\u001B[39m        independent variable\u001B[39m\u001B[39m\\n\u001B[39;00m\u001B[39m\"\u001B[39m,\n\u001B[0;32m    450\u001B[0m     \u001B[39m\"\u001B[39m\u001B[39m    x0:\u001B[39m\u001B[39m\\n\u001B[39;00m\u001B[39m\"\u001B[39m,\n\u001B[0;32m    451\u001B[0m     \u001B[39m\"\u001B[39m\u001B[39m        horizontal offset\u001B[39m\u001B[39m\\n\u001B[39;00m\u001B[39m\"\u001B[39m,\n\u001B[0;32m    452\u001B[0m     \u001B[39m\"\u001B[39m\u001B[39m    width:\u001B[39m\u001B[39m\\n\u001B[39;00m\u001B[39m\"\u001B[39m,\n\u001B[0;32m    453\u001B[0m     \u001B[39m\"\u001B[39m\u001B[39m        Lorenztian linewidth\u001B[39m\u001B[39m\\n\u001B[39;00m\u001B[39m\"\u001B[39m,\n\u001B[0;32m    454\u001B[0m     \u001B[39m\"\u001B[39m\u001B[39m    A:\u001B[39m\u001B[39m\\n\u001B[39;00m\u001B[39m\"\u001B[39m,\n\u001B[0;32m    455\u001B[0m     \u001B[39m\"\u001B[39m\u001B[39m        amplitude\u001B[39m\u001B[39m\\n\u001B[39;00m\u001B[39m\"\u001B[39m,\n\u001B[0;32m    456\u001B[0m     \u001B[39m\"\u001B[39m\u001B[39m    c:\u001B[39m\u001B[39m\\n\u001B[39;00m\u001B[39m\"\u001B[39m,\n\u001B[0;32m    457\u001B[0m     \u001B[39m\"\u001B[39m\u001B[39m        vertical offset\u001B[39m\u001B[39m\\n\u001B[39;00m\u001B[39m\"\u001B[39m,\n\u001B[0;32m    458\u001B[0m     \u001B[39m\"\u001B[39m\u001B[39m\\n\u001B[39;00m\u001B[39m\"\u001B[39m,\n\u001B[0;32m    459\u001B[0m     \u001B[39m\"\u001B[39m\u001B[39m    Returns\u001B[39m\u001B[39m\\n\u001B[39;00m\u001B[39m\"\u001B[39m,\n\u001B[0;32m    460\u001B[0m     \u001B[39m\"\u001B[39m\u001B[39m    -------\u001B[39m\u001B[39m\\n\u001B[39;00m\u001B[39m\"\u001B[39m,\n\u001B[0;32m    461\u001B[0m     \u001B[39m\"\u001B[39m\u001B[39m    :\u001B[39m\u001B[39m\\n\u001B[39;00m\u001B[39m\"\u001B[39m,\n\u001B[0;32m    462\u001B[0m     \u001B[39m\"\u001B[39m\u001B[39m        Lorentzian function\u001B[39m\u001B[39m\\n\u001B[39;00m\u001B[39m\"\u001B[39m,\n\u001B[0;32m    463\u001B[0m     \u001B[39m\"\u001B[39m\u001B[39m\\n\u001B[39;00m\u001B[39m\"\u001B[39m,\n\u001B[0;32m    464\u001B[0m     \u001B[39m\"\u001B[39m\u001B[39m\\n\u001B[39;00m\u001B[39m\"\u001B[39m,\n\u001B[0;32m    465\u001B[0m     \u001B[39m\"\u001B[39m\u001B[39m    .. math::\u001B[39m\u001B[39m\\n\u001B[39;00m\u001B[39m\"\u001B[39m,\n\u001B[0;32m    466\u001B[0m     \u001B[39m\"\u001B[39m\u001B[39m\\n\u001B[39;00m\u001B[39m\"\u001B[39m,\n\u001B[0;32m    467\u001B[0m     \u001B[39m\"\u001B[39m\u001B[39m        y = \u001B[39m\u001B[39m\\\\\u001B[39;00m\u001B[39mfrac\u001B[39m\u001B[39m{\u001B[39m\u001B[39mA*\u001B[39m\u001B[39m\\\\\u001B[39;00m\u001B[39mmathrm\u001B[39m\u001B[39m{width}\u001B[39;00m\u001B[39m}\u001B[39m\u001B[39m{\u001B[39m\u001B[39m\\\\\u001B[39;00m\u001B[39mpi(\u001B[39m\u001B[39m\\\\\u001B[39;00m\u001B[39mmathrm\u001B[39m\u001B[39m{width}\u001B[39;00m\u001B[39m^2 + (x - x_0)^2)} + c\u001B[39m\u001B[39m\\n\u001B[39;00m\u001B[39m\"\u001B[39m,\n\u001B[0;32m    468\u001B[0m     \u001B[39m\"\u001B[39m\u001B[39m\\n\u001B[39;00m\u001B[39m\"\u001B[39m,\n\u001B[0;32m    469\u001B[0m     \u001B[39m\"\u001B[39m\u001B[39m    \u001B[39m\u001B[39m\\\"\u001B[39;00m\u001B[39m\\\"\u001B[39;00m\u001B[39m\\\"\u001B[39;00m\u001B[39m\\n\u001B[39;00m\u001B[39m\"\u001B[39m,\n\u001B[0;32m    470\u001B[0m     \u001B[39m\"\u001B[39m\u001B[39m\\n\u001B[39;00m\u001B[39m\"\u001B[39m,\n\u001B[0;32m    471\u001B[0m     \u001B[39m\"\u001B[39m\u001B[39m    return A * width / (np.pi * ((x - x0) ** 2) + width**2) + c\u001B[39m\u001B[39m\\n\u001B[39;00m\u001B[39m\"\u001B[39m,\n\u001B[0;32m    472\u001B[0m     \u001B[39m\"\u001B[39m\u001B[39m\\n\u001B[39;00m\u001B[39m\"\u001B[39m,\n\u001B[0;32m    473\u001B[0m     \u001B[39m\"\u001B[39m\u001B[39m\\n\u001B[39;00m\u001B[39m\"\u001B[39m,\n\u001B[0;32m    474\u001B[0m     \u001B[39m\"\u001B[39m\u001B[39mclass LorentzianModel(lmfit.model.Model):\u001B[39m\u001B[39m\\n\u001B[39;00m\u001B[39m\"\u001B[39m,\n\u001B[0;32m    475\u001B[0m     \u001B[39m\"\u001B[39m\u001B[39m    \u001B[39m\u001B[39m\\\"\u001B[39;00m\u001B[39m\\\"\u001B[39;00m\u001B[39m\\\"\u001B[39;00m\u001B[39m\\n\u001B[39;00m\u001B[39m\"\u001B[39m,\n\u001B[0;32m    476\u001B[0m     \u001B[39m\"\u001B[39m\u001B[39m    Model for data which follows a Lorentzian function.\u001B[39m\u001B[39m\\n\u001B[39;00m\u001B[39m\"\u001B[39m,\n\u001B[0;32m    477\u001B[0m     \u001B[39m\"\u001B[39m\u001B[39m    \u001B[39m\u001B[39m\\\"\u001B[39;00m\u001B[39m\\\"\u001B[39;00m\u001B[39m\\\"\u001B[39;00m\u001B[39m\\n\u001B[39;00m\u001B[39m\"\u001B[39m,\n\u001B[0;32m    478\u001B[0m     \u001B[39m\"\u001B[39m\u001B[39m\\n\u001B[39;00m\u001B[39m\"\u001B[39m,\n\u001B[0;32m    479\u001B[0m     \u001B[39m\"\u001B[39m\u001B[39m    # pylint: disable=empty-docstring\u001B[39m\u001B[39m\\n\u001B[39;00m\u001B[39m\"\u001B[39m,\n\u001B[0;32m    480\u001B[0m     \u001B[39m\"\u001B[39m\u001B[39m    # pylint: disable=abstract-method\u001B[39m\u001B[39m\\n\u001B[39;00m\u001B[39m\"\u001B[39m,\n\u001B[0;32m    481\u001B[0m     \u001B[39m\"\u001B[39m\u001B[39m    # pylint: disable=too-few-public-methods\u001B[39m\u001B[39m\\n\u001B[39;00m\u001B[39m\"\u001B[39m,\n\u001B[0;32m    482\u001B[0m     \u001B[39m\"\u001B[39m\u001B[39m\\n\u001B[39;00m\u001B[39m\"\u001B[39m,\n\u001B[0;32m    483\u001B[0m     \u001B[39m\"\u001B[39m\u001B[39m    def __init__(self, *args, **kwargs):\u001B[39m\u001B[39m\\n\u001B[39;00m\u001B[39m\"\u001B[39m,\n\u001B[0;32m    484\u001B[0m     \u001B[39m\"\u001B[39m\u001B[39m        # pass in the defining equation so the user doesn\u001B[39m\u001B[39m'\u001B[39m\u001B[39mt have to later.\u001B[39m\u001B[39m\\n\u001B[39;00m\u001B[39m\"\u001B[39m,\n\u001B[0;32m    485\u001B[0m     \u001B[39m\"\u001B[39m\u001B[39m\\n\u001B[39;00m\u001B[39m\"\u001B[39m,\n\u001B[0;32m    486\u001B[0m     \u001B[39m\"\u001B[39m\u001B[39m        super().__init__(lorentzian, *args, **kwargs)\u001B[39m\u001B[39m\\n\u001B[39;00m\u001B[39m\"\u001B[39m,\n\u001B[0;32m    487\u001B[0m     \u001B[39m\"\u001B[39m\u001B[39m\\n\u001B[39;00m\u001B[39m\"\u001B[39m,\n\u001B[0;32m    488\u001B[0m     \u001B[39m\"\u001B[39m\u001B[39m        self.set_param_hint(\u001B[39m\u001B[39m\\\"\u001B[39;00m\u001B[39mx0\u001B[39m\u001B[39m\\\"\u001B[39;00m\u001B[39m, vary=True)\u001B[39m\u001B[39m\\n\u001B[39;00m\u001B[39m\"\u001B[39m,\n\u001B[0;32m    489\u001B[0m     \u001B[39m\"\u001B[39m\u001B[39m        self.set_param_hint(\u001B[39m\u001B[39m\\\"\u001B[39;00m\u001B[39mA\u001B[39m\u001B[39m\\\"\u001B[39;00m\u001B[39m, vary=True)\u001B[39m\u001B[39m\\n\u001B[39;00m\u001B[39m\"\u001B[39m,\n\u001B[0;32m    490\u001B[0m     \u001B[39m\"\u001B[39m\u001B[39m        self.set_param_hint(\u001B[39m\u001B[39m\\\"\u001B[39;00m\u001B[39mc\u001B[39m\u001B[39m\\\"\u001B[39;00m\u001B[39m, vary=True)\u001B[39m\u001B[39m\\n\u001B[39;00m\u001B[39m\"\u001B[39m,\n\u001B[0;32m    491\u001B[0m     \u001B[39m\"\u001B[39m\u001B[39m        self.set_param_hint(\u001B[39m\u001B[39m\\\"\u001B[39;00m\u001B[39mwidth\u001B[39m\u001B[39m\\\"\u001B[39;00m\u001B[39m, vary=True)\u001B[39m\u001B[39m\\n\u001B[39;00m\u001B[39m\"\u001B[39m,\n\u001B[0;32m    492\u001B[0m     \u001B[39m\"\u001B[39m\u001B[39m\\n\u001B[39;00m\u001B[39m\"\u001B[39m,\n\u001B[0;32m    493\u001B[0m     \u001B[39m\"\u001B[39m\u001B[39m    # pylint: disable=missing-function-docstring\u001B[39m\u001B[39m\\n\u001B[39;00m\u001B[39m\"\u001B[39m,\n\u001B[0;32m    494\u001B[0m     \u001B[39m\"\u001B[39m\u001B[39m    def guess(self, data, **kws) -> lmfit.parameter.Parameters:\u001B[39m\u001B[39m\\n\u001B[39;00m\u001B[39m\"\u001B[39m,\n\u001B[0;32m    495\u001B[0m     \u001B[39m\"\u001B[39m\u001B[39m        x = kws.get(\u001B[39m\u001B[39m\\\"\u001B[39;00m\u001B[39mx\u001B[39m\u001B[39m\\\"\u001B[39;00m\u001B[39m, None)\u001B[39m\u001B[39m\\n\u001B[39;00m\u001B[39m\"\u001B[39m,\n\u001B[0;32m    496\u001B[0m     \u001B[39m\"\u001B[39m\u001B[39m\\n\u001B[39;00m\u001B[39m\"\u001B[39m,\n\u001B[0;32m    497\u001B[0m     \u001B[39m\"\u001B[39m\u001B[39m        if x is None:\u001B[39m\u001B[39m\\n\u001B[39;00m\u001B[39m\"\u001B[39m,\n\u001B[0;32m    498\u001B[0m     \u001B[39m\"\u001B[39m\u001B[39m            return None\u001B[39m\u001B[39m\\n\u001B[39;00m\u001B[39m\"\u001B[39m,\n\u001B[0;32m    499\u001B[0m     \u001B[39m\"\u001B[39m\u001B[39m\\n\u001B[39;00m\u001B[39m\"\u001B[39m,\n\u001B[0;32m    500\u001B[0m     \u001B[39m\"\u001B[39m\u001B[39m        # Guess that the resonance is where the function takes its maximal\u001B[39m\u001B[39m\\n\u001B[39;00m\u001B[39m\"\u001B[39m,\n\u001B[0;32m    501\u001B[0m     \u001B[39m\"\u001B[39m\u001B[39m        # value\u001B[39m\u001B[39m\\n\u001B[39;00m\u001B[39m\"\u001B[39m,\n\u001B[0;32m    502\u001B[0m     \u001B[39m\"\u001B[39m\u001B[39m        x0_guess = x[np.argmax(data)]\u001B[39m\u001B[39m\\n\u001B[39;00m\u001B[39m\"\u001B[39m,\n\u001B[0;32m    503\u001B[0m     \u001B[39m\"\u001B[39m\u001B[39m        self.set_param_hint(\u001B[39m\u001B[39m\\\"\u001B[39;00m\u001B[39mx0\u001B[39m\u001B[39m\\\"\u001B[39;00m\u001B[39m, value=x0_guess)\u001B[39m\u001B[39m\\n\u001B[39;00m\u001B[39m\"\u001B[39m,\n\u001B[0;32m    504\u001B[0m     \u001B[39m\"\u001B[39m\u001B[39m\\n\u001B[39;00m\u001B[39m\"\u001B[39m,\n\u001B[0;32m    505\u001B[0m     \u001B[39m\"\u001B[39m\u001B[39m        # assume the user isn\u001B[39m\u001B[39m'\u001B[39m\u001B[39mt trying to fit just a small part of a resonance curve.\u001B[39m\u001B[39m\\n\u001B[39;00m\u001B[39m\"\u001B[39m,\n\u001B[0;32m    506\u001B[0m     \u001B[39m\"\u001B[39m\u001B[39m        xmin = x.min()\u001B[39m\u001B[39m\\n\u001B[39;00m\u001B[39m\"\u001B[39m,\n\u001B[0;32m    507\u001B[0m     \u001B[39m\"\u001B[39m\u001B[39m        xmax = x.max()\u001B[39m\u001B[39m\\n\u001B[39;00m\u001B[39m\"\u001B[39m,\n\u001B[0;32m    508\u001B[0m     \u001B[39m\"\u001B[39m\u001B[39m        width_max = xmax - xmin\u001B[39m\u001B[39m\\n\u001B[39;00m\u001B[39m\"\u001B[39m,\n\u001B[0;32m    509\u001B[0m     \u001B[39m\"\u001B[39m\u001B[39m\\n\u001B[39;00m\u001B[39m\"\u001B[39m,\n\u001B[0;32m    510\u001B[0m     \u001B[39m\"\u001B[39m\u001B[39m        delta_x = np.diff(x)  # assume f is sorted\u001B[39m\u001B[39m\\n\u001B[39;00m\u001B[39m\"\u001B[39m,\n\u001B[0;32m    511\u001B[0m     \u001B[39m\"\u001B[39m\u001B[39m        min_delta_x = delta_x[delta_x > 0].min()\u001B[39m\u001B[39m\\n\u001B[39;00m\u001B[39m\"\u001B[39m,\n\u001B[0;32m    512\u001B[0m     \u001B[39m\"\u001B[39m\u001B[39m        # assume data actually samples the resonance reasonably\u001B[39m\u001B[39m\\n\u001B[39;00m\u001B[39m\"\u001B[39m,\n\u001B[0;32m    513\u001B[0m     \u001B[39m\"\u001B[39m\u001B[39m        width_min = min_delta_x\u001B[39m\u001B[39m\\n\u001B[39;00m\u001B[39m\"\u001B[39m,\n\u001B[0;32m    514\u001B[0m     \u001B[39m\"\u001B[39m\u001B[39m        width_guess = np.sqrt(width_min * width_max)  # geometric mean, why not?\u001B[39m\u001B[39m\\n\u001B[39;00m\u001B[39m\"\u001B[39m,\n\u001B[0;32m    515\u001B[0m     \u001B[39m\"\u001B[39m\u001B[39m        self.set_param_hint(\u001B[39m\u001B[39m\\\"\u001B[39;00m\u001B[39mwidth\u001B[39m\u001B[39m\\\"\u001B[39;00m\u001B[39m, value=width_guess)\u001B[39m\u001B[39m\\n\u001B[39;00m\u001B[39m\"\u001B[39m,\n\u001B[0;32m    516\u001B[0m     \u001B[39m\"\u001B[39m\u001B[39m\\n\u001B[39;00m\u001B[39m\"\u001B[39m,\n\u001B[0;32m    517\u001B[0m     \u001B[39m\"\u001B[39m\u001B[39m        # The guess for the vertical offset is the mean absolute value of the data\u001B[39m\u001B[39m\\n\u001B[39;00m\u001B[39m\"\u001B[39m,\n\u001B[0;32m    518\u001B[0m     \u001B[39m\"\u001B[39m\u001B[39m        c_guess = np.mean(data)\u001B[39m\u001B[39m\\n\u001B[39;00m\u001B[39m\"\u001B[39m,\n\u001B[0;32m    519\u001B[0m     \u001B[39m\"\u001B[39m\u001B[39m        self.set_param_hint(\u001B[39m\u001B[39m\\\"\u001B[39;00m\u001B[39mc\u001B[39m\u001B[39m\\\"\u001B[39;00m\u001B[39m, value=c_guess)\u001B[39m\u001B[39m\\n\u001B[39;00m\u001B[39m\"\u001B[39m,\n\u001B[0;32m    520\u001B[0m     \u001B[39m\"\u001B[39m\u001B[39m\\n\u001B[39;00m\u001B[39m\"\u001B[39m,\n\u001B[0;32m    521\u001B[0m     \u001B[39m\"\u001B[39m\u001B[39m        # Calculate A_guess from difference between the peak and the backround level\u001B[39m\u001B[39m\\n\u001B[39;00m\u001B[39m\"\u001B[39m,\n\u001B[0;32m    522\u001B[0m     \u001B[39m\"\u001B[39m\u001B[39m        A_guess = np.pi * width_guess * (np.max(data) - c_guess)\u001B[39m\u001B[39m\\n\u001B[39;00m\u001B[39m\"\u001B[39m,\n\u001B[0;32m    523\u001B[0m     \u001B[39m\"\u001B[39m\u001B[39m        self.set_param_hint(\u001B[39m\u001B[39m\\\"\u001B[39;00m\u001B[39mA\u001B[39m\u001B[39m\\\"\u001B[39;00m\u001B[39m, value=A_guess)\u001B[39m\u001B[39m\\n\u001B[39;00m\u001B[39m\"\u001B[39m,\n\u001B[0;32m    524\u001B[0m     \u001B[39m\"\u001B[39m\u001B[39m\\n\u001B[39;00m\u001B[39m\"\u001B[39m,\n\u001B[0;32m    525\u001B[0m     \u001B[39m\"\u001B[39m\u001B[39m        params = self.make_params()\u001B[39m\u001B[39m\\n\u001B[39;00m\u001B[39m\"\u001B[39m,\n\u001B[0;32m    526\u001B[0m     \u001B[39m\"\u001B[39m\u001B[39m        return lmfit.models.update_param_vals(params, self.prefix, **kws)\u001B[39m\u001B[39m\"\u001B[39m\n\u001B[0;32m    527\u001B[0m    ]\n\u001B[0;32m    528\u001B[0m   },\n\u001B[0;32m    529\u001B[0m   {\n\u001B[0;32m    530\u001B[0m    \u001B[39m\"\u001B[39m\u001B[39mcell_type\u001B[39m\u001B[39m\"\u001B[39m: \u001B[39m\"\u001B[39m\u001B[39mcode\u001B[39m\u001B[39m\"\u001B[39m,\n\u001B[0;32m    531\u001B[0m    \u001B[39m\"\u001B[39m\u001B[39mexecution_count\u001B[39m\u001B[39m\"\u001B[39m: \u001B[39m16\u001B[39m,\n\u001B[0;32m    532\u001B[0m    \u001B[39m\"\u001B[39m\u001B[39mmetadata\u001B[39m\u001B[39m\"\u001B[39m: {},\n\u001B[0;32m    533\u001B[0m    \u001B[39m\"\u001B[39m\u001B[39moutputs\u001B[39m\u001B[39m\"\u001B[39m: [\n\u001B[0;32m    534\u001B[0m     {\n\u001B[0;32m    535\u001B[0m      \u001B[39m\"\u001B[39m\u001B[39mdata\u001B[39m\u001B[39m\"\u001B[39m: {\n\u001B[0;32m    536\u001B[0m       \u001B[39m\"\u001B[39m\u001B[39mtext/plain\u001B[39m\u001B[39m\"\u001B[39m: [\n\u001B[0;32m    537\u001B[0m        \u001B[39m\"\u001B[39m\u001B[39m<bound method MeasurementControl.__init__ of <MeasurementControl: QubitCalibration>\u001B[39m\u001B[39m\\n\u001B[39;00m\u001B[39m\"\u001B[39m,\n\u001B[0;32m    538\u001B[0m        \u001B[39m\"\u001B[39m\u001B[39m    settables: []\u001B[39m\u001B[39m\\n\u001B[39;00m\u001B[39m\"\u001B[39m,\n\u001B[0;32m    539\u001B[0m        \u001B[39m\"\u001B[39m\u001B[39m    gettables: []\u001B[39m\u001B[39m\\n\u001B[39;00m\u001B[39m\"\u001B[39m,\n\u001B[0;32m    540\u001B[0m        \u001B[39m\"\u001B[39m\u001B[39m    setpoints_grid input shapes: []\u001B[39m\u001B[39m\\n\u001B[39;00m\u001B[39m\"\u001B[39m,\n\u001B[0;32m    541\u001B[0m        \u001B[39m\"\u001B[39m\u001B[39m    setpoints shape: (0,)\u001B[39m\u001B[39m\\n\u001B[39;00m\u001B[39m\"\u001B[39m,\n\u001B[0;32m    542\u001B[0m        \u001B[39m\"\u001B[39m\u001B[39m>\u001B[39m\u001B[39m\"\u001B[39m\n\u001B[0;32m    543\u001B[0m       ]\n\u001B[0;32m    544\u001B[0m      },\n\u001B[0;32m    545\u001B[0m      \u001B[39m\"\u001B[39m\u001B[39mexecution_count\u001B[39m\u001B[39m\"\u001B[39m: \u001B[39m16\u001B[39m,\n\u001B[0;32m    546\u001B[0m      \u001B[39m\"\u001B[39m\u001B[39mmetadata\u001B[39m\u001B[39m\"\u001B[39m: {},\n\u001B[0;32m    547\u001B[0m      \u001B[39m\"\u001B[39m\u001B[39moutput_type\u001B[39m\u001B[39m\"\u001B[39m: \u001B[39m\"\u001B[39m\u001B[39mexecute_result\u001B[39m\u001B[39m\"\u001B[39m\n\u001B[0;32m    548\u001B[0m     }\n\u001B[0;32m    549\u001B[0m    ],\n\u001B[0;32m    550\u001B[0m    \u001B[39m\"\u001B[39m\u001B[39msource\u001B[39m\u001B[39m\"\u001B[39m: [\n\u001B[0;32m    551\u001B[0m     \u001B[39m\"\u001B[39m\u001B[39mmeasurement_control.__init__\u001B[39m\u001B[39m\"\u001B[39m\n\u001B[0;32m    552\u001B[0m    ]\n\u001B[0;32m    553\u001B[0m   },\n\u001B[0;32m    554\u001B[0m   {\n\u001B[0;32m    555\u001B[0m    \u001B[39m\"\u001B[39m\u001B[39mcell_type\u001B[39m\u001B[39m\"\u001B[39m: \u001B[39m\"\u001B[39m\u001B[39mcode\u001B[39m\u001B[39m\"\u001B[39m,\n\u001B[0;32m    556\u001B[0m    \u001B[39m\"\u001B[39m\u001B[39mexecution_count\u001B[39m\u001B[39m\"\u001B[39m: null,\n\u001B[0;32m    557\u001B[0m    \u001B[39m\"\u001B[39m\u001B[39mmetadata\u001B[39m\u001B[39m\"\u001B[39m: {},\n\u001B[0;32m    558\u001B[0m    \u001B[39m\"\u001B[39m\u001B[39moutputs\u001B[39m\u001B[39m\"\u001B[39m: [],\n\u001B[0;32m    559\u001B[0m    \u001B[39m\"\u001B[39m\u001B[39msource\u001B[39m\u001B[39m\"\u001B[39m: []\n\u001B[0;32m    560\u001B[0m   },\n\u001B[0;32m    561\u001B[0m   {\n\u001B[0;32m    562\u001B[0m    \u001B[39m\"\u001B[39m\u001B[39mcell_type\u001B[39m\u001B[39m\"\u001B[39m: \u001B[39m\"\u001B[39m\u001B[39mcode\u001B[39m\u001B[39m\"\u001B[39m,\n\u001B[0;32m    563\u001B[0m    \u001B[39m\"\u001B[39m\u001B[39mexecution_count\u001B[39m\u001B[39m\"\u001B[39m: null,\n\u001B[0;32m    564\u001B[0m    \u001B[39m\"\u001B[39m\u001B[39mmetadata\u001B[39m\u001B[39m\"\u001B[39m: {},\n\u001B[0;32m    565\u001B[0m    \u001B[39m\"\u001B[39m\u001B[39moutputs\u001B[39m\u001B[39m\"\u001B[39m: [],\n\u001B[0;32m    566\u001B[0m    \u001B[39m\"\u001B[39m\u001B[39msource\u001B[39m\u001B[39m\"\u001B[39m: []\n\u001B[0;32m    567\u001B[0m   },\n\u001B[0;32m    568\u001B[0m   {\n\u001B[0;32m    569\u001B[0m    \u001B[39m\"\u001B[39m\u001B[39mcell_type\u001B[39m\u001B[39m\"\u001B[39m: \u001B[39m\"\u001B[39m\u001B[39mcode\u001B[39m\u001B[39m\"\u001B[39m,\n\u001B[0;32m    570\u001B[0m    \u001B[39m\"\u001B[39m\u001B[39mexecution_count\u001B[39m\u001B[39m\"\u001B[39m: null,\n\u001B[0;32m    571\u001B[0m    \u001B[39m\"\u001B[39m\u001B[39mmetadata\u001B[39m\u001B[39m\"\u001B[39m: {},\n\u001B[0;32m    572\u001B[0m    \u001B[39m\"\u001B[39m\u001B[39moutputs\u001B[39m\u001B[39m\"\u001B[39m: [],\n\u001B[0;32m    573\u001B[0m    \u001B[39m\"\u001B[39m\u001B[39msource\u001B[39m\u001B[39m\"\u001B[39m: []\n\u001B[0;32m    574\u001B[0m   }\n\u001B[0;32m    575\u001B[0m  ],\n\u001B[0;32m    576\u001B[0m  \u001B[39m\"\u001B[39m\u001B[39mmetadata\u001B[39m\u001B[39m\"\u001B[39m: {\n\u001B[0;32m    577\u001B[0m   \u001B[39m\"\u001B[39m\u001B[39mkernelspec\u001B[39m\u001B[39m\"\u001B[39m: {\n\u001B[0;32m    578\u001B[0m    \u001B[39m\"\u001B[39m\u001B[39mdisplay_name\u001B[39m\u001B[39m\"\u001B[39m: \u001B[39m\"\u001B[39m\u001B[39mPython 3 (ipykernel)\u001B[39m\u001B[39m\"\u001B[39m,\n\u001B[0;32m    579\u001B[0m    \u001B[39m\"\u001B[39m\u001B[39mlanguage\u001B[39m\u001B[39m\"\u001B[39m: \u001B[39m\"\u001B[39m\u001B[39mpython\u001B[39m\u001B[39m\"\u001B[39m,\n\u001B[0;32m    580\u001B[0m    \u001B[39m\"\u001B[39m\u001B[39mname\u001B[39m\u001B[39m\"\u001B[39m: \u001B[39m\"\u001B[39m\u001B[39mpython3\u001B[39m\u001B[39m\"\u001B[39m\n\u001B[0;32m    581\u001B[0m   },\n\u001B[0;32m    582\u001B[0m   \u001B[39m\"\u001B[39m\u001B[39mlanguage_info\u001B[39m\u001B[39m\"\u001B[39m: {\n\u001B[0;32m    583\u001B[0m    \u001B[39m\"\u001B[39m\u001B[39mcodemirror_mode\u001B[39m\u001B[39m\"\u001B[39m: {\n\u001B[0;32m    584\u001B[0m     \u001B[39m\"\u001B[39m\u001B[39mname\u001B[39m\u001B[39m\"\u001B[39m: \u001B[39m\"\u001B[39m\u001B[39mipython\u001B[39m\u001B[39m\"\u001B[39m,\n\u001B[0;32m    585\u001B[0m     \u001B[39m\"\u001B[39m\u001B[39mversion\u001B[39m\u001B[39m\"\u001B[39m: \u001B[39m3\u001B[39m\n\u001B[0;32m    586\u001B[0m    },\n\u001B[0;32m    587\u001B[0m    \u001B[39m\"\u001B[39m\u001B[39mfile_extension\u001B[39m\u001B[39m\"\u001B[39m: \u001B[39m\"\u001B[39m\u001B[39m.py\u001B[39m\u001B[39m\"\u001B[39m,\n\u001B[0;32m    588\u001B[0m    \u001B[39m\"\u001B[39m\u001B[39mmimetype\u001B[39m\u001B[39m\"\u001B[39m: \u001B[39m\"\u001B[39m\u001B[39mtext/x-python\u001B[39m\u001B[39m\"\u001B[39m,\n\u001B[0;32m    589\u001B[0m    \u001B[39m\"\u001B[39m\u001B[39mname\u001B[39m\u001B[39m\"\u001B[39m: \u001B[39m\"\u001B[39m\u001B[39mpython\u001B[39m\u001B[39m\"\u001B[39m,\n\u001B[0;32m    590\u001B[0m    \u001B[39m\"\u001B[39m\u001B[39mnbconvert_exporter\u001B[39m\u001B[39m\"\u001B[39m: \u001B[39m\"\u001B[39m\u001B[39mpython\u001B[39m\u001B[39m\"\u001B[39m,\n\u001B[0;32m    591\u001B[0m    \u001B[39m\"\u001B[39m\u001B[39mpygments_lexer\u001B[39m\u001B[39m\"\u001B[39m: \u001B[39m\"\u001B[39m\u001B[39mipython3\u001B[39m\u001B[39m\"\u001B[39m,\n\u001B[0;32m    592\u001B[0m    \u001B[39m\"\u001B[39m\u001B[39mversion\u001B[39m\u001B[39m\"\u001B[39m: \u001B[39m\"\u001B[39m\u001B[39m3.8.16\u001B[39m\u001B[39m\"\u001B[39m\n\u001B[0;32m    593\u001B[0m   },\n\u001B[0;32m    594\u001B[0m   \u001B[39m\"\u001B[39m\u001B[39mvscode\u001B[39m\u001B[39m\"\u001B[39m: {\n\u001B[0;32m    595\u001B[0m    \u001B[39m\"\u001B[39m\u001B[39minterpreter\u001B[39m\u001B[39m\"\u001B[39m: {\n\u001B[0;32m    596\u001B[0m     \u001B[39m\"\u001B[39m\u001B[39mhash\u001B[39m\u001B[39m\"\u001B[39m: \u001B[39m\"\u001B[39m\u001B[39m71d6bb611cd618612d72a8df3dc462e51e67ea26efecfa44d6c1b888bd9f76cb\u001B[39m\u001B[39m\"\u001B[39m\n\u001B[0;32m    597\u001B[0m    }\n\u001B[0;32m    598\u001B[0m   }\n\u001B[0;32m    599\u001B[0m  },\n\u001B[0;32m    600\u001B[0m  \u001B[39m\"\u001B[39m\u001B[39mnbformat\u001B[39m\u001B[39m\"\u001B[39m: \u001B[39m4\u001B[39m,\n\u001B[0;32m    601\u001B[0m  \u001B[39m\"\u001B[39m\u001B[39mnbformat_minor\u001B[39m\u001B[39m\"\u001B[39m: \u001B[39m4\u001B[39m\n\u001B[0;32m    602\u001B[0m }\n",
      "\u001B[1;31mRuntimeError\u001B[0m: "
     ]
    }
   ],
   "source": [
    "gettable = ScheduleGettable(\n",
    "    quantum_device=transmon_chip,\n",
    "    schedule_function=heterodyne_spec_function,\n",
    "    schedule_kwargs=heterodyne_spec_kwargs(qubit_0, frequency=freq),\n",
    "    real_imag=False,\n",
    ")"
   ]
  },
  {
   "cell_type": "markdown",
   "metadata": {},
   "source": [
    "We also need to connect the `ScheduleGettable` to MeasurementControl"
   ]
  },
  {
   "cell_type": "code",
   "execution_count": null,
   "metadata": {},
   "outputs": [],
   "source": [
    "measurement_control.gettables(gettable)"
   ]
  },
  {
   "cell_type": "code",
   "execution_count": null,
   "metadata": {},
   "outputs": [],
   "source": [
    "heterodyne_spec_function(**heterodyne_spec_kwargs(qubit_0)).plot_circuit_diagram()"
   ]
  },
  {
   "cell_type": "code",
   "execution_count": null,
   "metadata": {},
   "outputs": [],
   "source": [
    "compiled = compiler.compile(heterodyne_spec_function(**heterodyne_spec_kwargs(qubit_0)))\n",
    "compiled.plot_pulse_diagram()"
   ]
  },
  {
   "cell_type": "markdown",
   "metadata": {},
   "source": [
    "Finally, we execute the experiment using `MeasurementControl`. The data is automatically saved, and also available immediately as `xarray.Dataset`"
   ]
  },
  {
   "cell_type": "code",
   "execution_count": null,
   "metadata": {},
   "outputs": [],
   "source": [
    "res_spec_dset = measurement_control.run(\"ResonatorSpectroscopy\")"
   ]
  },
  {
   "cell_type": "markdown",
   "metadata": {},
   "source": [
    "The information we are interested in (the resonance frequency) is not immediately accessible, we need to analyze the data first. To this end, we can use an analysis class based on the `lmfit` package. For standard experiments like resonator spectroscopy, it is already provided by quantify:"
   ]
  },
  {
   "cell_type": "code",
   "execution_count": null,
   "metadata": {},
   "outputs": [],
   "source": [
    "res_spec_result = ResonatorSpectroscopyAnalysis(\n",
    "    dataset=res_spec_dset,\n",
    ").run()\n",
    "# res_spec_result.plot_figures()\n",
    "# res_spec_result.display_figs_mpl()  # use .plot(show_fit=True) instead. If fitting is not yet done, also fit."
   ]
  },
  {
   "cell_type": "code",
   "execution_count": null,
   "metadata": {},
   "outputs": [],
   "source": [
    "res_spec_result.display_figs_mpl()"
   ]
  },
  {
   "cell_type": "markdown",
   "metadata": {},
   "source": [
    "## Power scans\n",
    "As a resonator connected to a superconducting qubit will become nonlinear, we are also interested how the resonator behaves if we modify readout power. A two dimensional sweeps works very similar to before. We first define a new Parameter for the amplitude in addition to the one for frequency"
   ]
  },
  {
   "cell_type": "code",
   "execution_count": null,
   "metadata": {},
   "outputs": [],
   "source": [
    "amp = ManualParameter(name=\"amplitude\", unit=\"V\", label=\"amplitude\")"
   ]
  },
  {
   "cell_type": "markdown",
   "metadata": {},
   "source": [
    "Now we prepare MeasurementControl to sweep both amplitude and frequency, and provide the values for both. MeasurementControl will then measure any combination of the two Parameters."
   ]
  },
  {
   "cell_type": "code",
   "execution_count": null,
   "metadata": {},
   "outputs": [],
   "source": [
    "measurement_control.settables([freq, amp])\n",
    "measurement_control.setpoints_grid(\n",
    "    (np.linspace(7.432e9, 7.438e9, 50), np.linspace(0.001, 0.05, 20))\n",
    ")"
   ]
  },
  {
   "cell_type": "code",
   "execution_count": null,
   "metadata": {},
   "outputs": [],
   "source": [
    "np.linspace(0.001, 0.05, 20)[3]"
   ]
  },
  {
   "cell_type": "markdown",
   "metadata": {},
   "source": [
    "Defining and executing the measurement works just like before."
   ]
  },
  {
   "cell_type": "code",
   "execution_count": null,
   "metadata": {},
   "outputs": [],
   "source": [
    "gettable = ScheduleGettable(\n",
    "    transmon_chip,\n",
    "    heterodyne_spec_sched,\n",
    "    heterodyne_spec_kwargs(qubit_0, frequency=freq, pulse_amp=amp),\n",
    "    real_imag=False,\n",
    ")\n",
    "measurement_control.gettables(gettable)\n",
    "#amp.batched=True\n",
    "res_power_scan_dset = measurement_control.run(\"ResonatorPowerScan\")"
   ]
  },
  {
   "cell_type": "markdown",
   "metadata": {},
   "source": [
    "# Pulsed qubit spectroscopy"
   ]
  },
  {
   "cell_type": "code",
   "execution_count": null,
   "metadata": {},
   "outputs": [],
   "source": [
    "config = transmon_chip.hardware_config()\n",
    "config[\"cluster\"][\"cluster_module1\"][\"complex_output_0\"]"
   ]
  },
  {
   "cell_type": "code",
   "execution_count": null,
   "metadata": {},
   "outputs": [],
   "source": [
    "freq = ManualParameter(name=\"freq\", unit=\"Hz\", label=\"Amplitude\")\n",
    "transmon_chip.hardware_config\n",
    "qubit_0.measure.pulse_amp(0.003736842105263157)\n",
    "qubit_spec_sched_kwargs = two_tone_spec_kwargs(qubit_0, spec_pulse_frequency=freq)\n",
    "\n",
    "gettable = ScheduleGettable(\n",
    "    transmon_chip,\n",
    "    schedule_function=two_tone_spec_sched,\n",
    "    schedule_kwargs=qubit_spec_sched_kwargs,\n",
    "    real_imag=False,\n",
    ")"
   ]
  },
  {
   "cell_type": "code",
   "execution_count": null,
   "metadata": {},
   "outputs": [],
   "source": [
    "frequency_setpoints = np.linspace(5.06e9, 5.1e9, 100)\n",
    "\n",
    "measurement_control.settables(freq)\n",
    "measurement_control.setpoints(frequency_setpoints)\n",
    "measurement_control.gettables(gettable)\n",
    "\n",
    "qubit_spec_dset = measurement_control.run(\"QubitSpectroscopy\")"
   ]
  },
  {
   "cell_type": "code",
   "execution_count": null,
   "metadata": {},
   "outputs": [],
   "source": [
    "qubit_spec_results = QubitSpectroscopyAnalysis(\n",
    "    label=\"QubitSpectroscopy\",\n",
    "    settings_overwrite={\"mpl_transparent_background\": False},\n",
    ").run()\n",
    "qubit_spec_results.display_figs_mpl()"
   ]
  },
  {
   "cell_type": "markdown",
   "metadata": {},
   "source": [
    "# Amplitude Rabi\n",
    "The next step is to find the amplitude required for a pi pulse. To do this, we do a simple amplitude Rabi measurement. We can visualize the provided schedule function at a circuit level:"
   ]
  },
  {
   "cell_type": "code",
   "execution_count": null,
   "metadata": {},
   "outputs": [],
   "source": [
    "qubit_0.clock_freqs.f01(5.08170e9)\n",
    "schedule = rabi_sched(**rabi_kwargs(qubit_0))\n",
    "schedule.plot_circuit_diagram()"
   ]
  },
  {
   "cell_type": "markdown",
   "metadata": {},
   "source": [
    "If we compile the circuit for a specific quantum device, we can also visualize the pulse envelopes for every line"
   ]
  },
  {
   "cell_type": "code",
   "execution_count": null,
   "metadata": {},
   "outputs": [],
   "source": [
    "compiled = compiler.compile(\n",
    "    schedule\n",
    ")\n",
    "compiled.plot_pulse_diagram()"
   ]
  },
  {
   "cell_type": "markdown",
   "metadata": {},
   "source": [
    "Qblox control hardware can modify the amplitude of a pulse at runtime, greatly speeding up the experiment.To speed up this measurement, we mark the amplitude parameter as `batched`. "
   ]
  },
  {
   "cell_type": "code",
   "execution_count": null,
   "metadata": {},
   "outputs": [],
   "source": [
    "pulse_amp = ManualParameter(name=\"pulse_amplitude\", unit=\"V\", label=\"amplitude\")\n",
    "pulse_amp.batched = True"
   ]
  },
  {
   "cell_type": "markdown",
   "metadata": {},
   "source": [
    "We also need to mark the schedule gettable as batched"
   ]
  },
  {
   "cell_type": "code",
   "execution_count": null,
   "metadata": {},
   "outputs": [],
   "source": [
    "gettable = ScheduleGettable(\n",
    "    transmon_chip,\n",
    "    schedule_function=rabi_sched,\n",
    "    schedule_kwargs=rabi_kwargs(qubit_0, pulse_amp=pulse_amp),\n",
    "    batched=True,\n",
    "    real_imag=True,\n",
    ")"
   ]
  },
  {
   "cell_type": "markdown",
   "metadata": {},
   "source": [
    "And then run the experiment the same way as before"
   ]
  },
  {
   "cell_type": "code",
   "execution_count": null,
   "metadata": {},
   "outputs": [],
   "source": [
    "amplitude_setpoints = np.linspace(-0.05, 0.05, 1000)\n",
    "\n",
    "measurement_control.settables(pulse_amp)\n",
    "measurement_control.setpoints(amplitude_setpoints)\n",
    "measurement_control.gettables(gettable)\n",
    "\n",
    "dset = measurement_control.run(\"Rabi\")"
   ]
  },
  {
   "cell_type": "code",
   "execution_count": null,
   "metadata": {},
   "outputs": [],
   "source": [
    "rabi_result = RabiAnalysis(\n",
    "    label=\"Rabi\"\n",
    ").run()\n",
    "rabi_result.display_figs_mpl()"
   ]
  },
  {
   "cell_type": "code",
   "execution_count": null,
   "metadata": {},
   "outputs": [],
   "source": [
    "from quantify_scheduler.schedules import trace_schedule"
   ]
  },
  {
   "cell_type": "markdown",
   "metadata": {},
   "source": [
    "# Qubit Frequency - Ramsey"
   ]
  },
  {
   "cell_type": "code",
   "execution_count": null,
   "metadata": {},
   "outputs": [],
   "source": [
    "qubit_0.rxy.amp180(11.962e-3)\n",
    "tau = ManualParameter(name=\"tau\", unit=\"s\", label=\"Time\")\n",
    "tau.batched = True\n",
    "\n",
    "ramsey_sched_kwargs = {\n",
    "    \"qubit\": qubit_0.name,\n",
    "    \"times\": tau,\n",
    "    \"artificial_detuning\": 1e6,\n",
    "}\n",
    "\n",
    "gettable = ScheduleGettable(\n",
    "    transmon_chip,\n",
    "    schedule_function=ramsey_sched,\n",
    "    schedule_kwargs=ramsey_sched_kwargs,\n",
    "    real_imag=True,\n",
    "    batched=True,\n",
    ")"
   ]
  },
  {
   "cell_type": "code",
   "execution_count": null,
   "metadata": {},
   "outputs": [],
   "source": [
    "tau_setpoints = np.arange(120e-9, 5e-6, 40e-9)\n",
    "\n",
    "measurement_control.settables(tau)\n",
    "measurement_control.setpoints(tau_setpoints)\n",
    "measurement_control.gettables(gettable)\n",
    "\n",
    "dset = measurement_control.run(\"Ramsey\")"
   ]
  },
  {
   "cell_type": "code",
   "execution_count": null,
   "metadata": {},
   "outputs": [],
   "source": [
    "ramsey_analysis = RamseyAnalysis(\n",
    "    label=\"Ramsey\", settings_overwrite={\"mpl_transparent_background\": False}\n",
    ")\n",
    "ramsey_result = ramsey_analysis.run(\n",
    "    artificial_detuning=ramsey_sched_kwargs[\"artificial_detuning\"]\n",
    ")\n",
    "ramsey_result.display_figs_mpl()"
   ]
  },
  {
   "cell_type": "code",
   "execution_count": null,
   "metadata": {},
   "outputs": [],
   "source": [
    "ramsey_result.fit_results[\"Ramsey_decay\"].best_values[\"frequency\"]"
   ]
  },
  {
   "cell_type": "markdown",
   "metadata": {},
   "source": [
    "# T1"
   ]
  },
  {
   "cell_type": "code",
   "execution_count": null,
   "metadata": {},
   "outputs": [],
   "source": [
    "\n",
    "\n",
    "f = qubit_0.clock_freqs.f01()\n",
    "qubit_0.clock_freqs.f01(f+197e3)\n",
    "qubit_0.reset.duration(200e-6)\n",
    "tau = ManualParameter(name=\"tau_delay\", unit=\"s\", label=\"Delay\")\n",
    "tau.batched = True\n",
    "\n",
    "t1_sched_kwargs = {\"times\": tau, \"qubit\": qubit_0.name}\n",
    "\n",
    "gettable = ScheduleGettable(\n",
    "    transmon_chip,\n",
    "    schedule_function=t1_sched,\n",
    "    schedule_kwargs=t1_sched_kwargs,\n",
    "    real_imag=True,\n",
    "    batched=True,\n",
    ")"
   ]
  },
  {
   "cell_type": "code",
   "execution_count": null,
   "metadata": {},
   "outputs": [],
   "source": [
    "delay_setpoints = np.arange(40e-9, 40e-6, 400e-9)\n",
    "\n",
    "measurement_control.settables(tau)\n",
    "measurement_control.setpoints(delay_setpoints)\n",
    "measurement_control.gettables(gettable)\n",
    "\n",
    "dset = measurement_control.run(\"T1 experiment\")"
   ]
  },
  {
   "cell_type": "code",
   "execution_count": null,
   "metadata": {},
   "outputs": [],
   "source": [
    "t1_result = T1Analysis(\n",
    "    label=\"T1\", settings_overwrite={\"mpl_transparent_background\": False}\n",
    ").run()\n",
    "t1_result.display_figs_mpl()"
   ]
  },
  {
   "cell_type": "markdown",
   "metadata": {},
   "source": [
    "# T2 - Ramsey"
   ]
  },
  {
   "cell_type": "code",
   "execution_count": null,
   "metadata": {},
   "outputs": [],
   "source": [
    "f = qubit_0.clock_freqs.f01()\n",
    "qubit_0.clock_freqs.f01(f+200.9e3)\n",
    "tau = ManualParameter(name=\"tau_delay\", unit=\"s\", label=\"Delay\")\n",
    "tau.batched = True\n",
    "\n",
    "ramsey_sched_kwargs = {\"times\": tau, \"qubit\": qubit_0.name, \"artificial_detuning\": 0}\n",
    "\n",
    "gettable = ScheduleGettable(\n",
    "    transmon_chip,\n",
    "    schedule_function=ramsey_sched,\n",
    "    schedule_kwargs=ramsey_sched_kwargs,\n",
    "    real_imag=True,\n",
    "    batched=True,\n",
    ")"
   ]
  },
  {
   "cell_type": "code",
   "execution_count": null,
   "metadata": {},
   "outputs": [],
   "source": [
    "tau_setpoints = np.arange(1e-6, 20e-6, 200e-9)\n",
    "#tau_setpoints = np.linspace(1e-6, 300e-6, 1000)\n",
    "\n",
    "measurement_control.settables(tau)\n",
    "measurement_control.setpoints(tau_setpoints)\n",
    "measurement_control.gettables(gettable)\n",
    "\n",
    "dset = measurement_control.run(\"Ramsey\")"
   ]
  },
  {
   "cell_type": "code",
   "execution_count": null,
   "metadata": {},
   "outputs": [],
   "source": [
    "ramsey_analysis = RamseyAnalysis(\n",
    "    label=\"Ramsey\", settings_overwrite={\"mpl_transparent_background\": False}\n",
    ")\n",
    "ramsey_result = ramsey_analysis.run(\n",
    "    artificial_detuning=ramsey_sched_kwargs[\"artificial_detuning\"]\n",
    ")\n",
    "ramsey_result.display_figs_mpl()\n"
   ]
  },
  {
   "cell_type": "markdown",
   "metadata": {},
   "source": [
    "# Echo"
   ]
  },
  {
   "cell_type": "code",
   "execution_count": null,
   "metadata": {},
   "outputs": [],
   "source": [
    "tau = ManualParameter(name=\"tau_delay\", unit=\"s\", label=\"Delay\")\n",
    "tau.batched = True\n",
    "\n",
    "echo_sched_kwargs = {\"times\": tau, \"qubit\": qubit_0.name}\n",
    "\n",
    "gettable = ScheduleGettable(\n",
    "    transmon_chip,\n",
    "    schedule_function=echo_sched,\n",
    "    schedule_kwargs=echo_sched_kwargs,\n",
    "    real_imag=True,\n",
    "    batched=True,\n",
    ")"
   ]
  },
  {
   "cell_type": "code",
   "execution_count": null,
   "metadata": {},
   "outputs": [],
   "source": [
    "delay_setpoints = np.arange(1e-6, 30e-6, 200e-9)\n",
    "\n",
    "measurement_control.settables(tau)\n",
    "measurement_control.setpoints(delay_setpoints)\n",
    "measurement_control.gettables(gettable)\n",
    "\n",
    "dset = measurement_control.run(\"Echo experiment\")"
   ]
  },
  {
   "cell_type": "code",
   "execution_count": null,
   "metadata": {},
   "outputs": [],
   "source": [
    "echo_result = EchoAnalysis(\n",
    "    label=\"Echo\", settings_overwrite={\"mpl_transparent_background\": False}\n",
    ").run()\n",
    "echo_result.display_figs_mpl()\n"
   ]
  },
  {
   "cell_type": "markdown",
   "metadata": {},
   "source": [
    "# All XY"
   ]
  },
  {
   "cell_type": "code",
   "execution_count": null,
   "metadata": {},
   "outputs": [],
   "source": [
    "qubit_0.reset.duration(500e-6)\n",
    "def show_allxy(idx: int = 0):\n",
    "    schedule = allxy_sched(qubit=qubit_0.name, element_select_idx=idx)\n",
    "    schedule.plot_circuit_diagram()\n",
    "\n",
    "\n",
    "widgets.interact(show_allxy, idx=widgets.IntSlider(min=0, max=20, step=1))"
   ]
  },
  {
   "cell_type": "code",
   "execution_count": null,
   "metadata": {},
   "outputs": [],
   "source": [
    "element_idx = ManualParameter(name=\"idx\", unit=\"\", label=\"element\")\n",
    "element_idx.batched = True\n",
    "\n",
    "allxy_sched_kwargs = {\"element_select_idx\": element_idx, \"qubit\": qubit_0.name}\n",
    "\n",
    "gettable = ScheduleGettable(\n",
    "    transmon_chip,\n",
    "    schedule_function=allxy_sched,\n",
    "    schedule_kwargs=allxy_sched_kwargs,\n",
    "    real_imag=True,\n",
    "    batched=True,\n",
    ")"
   ]
  },
  {
   "cell_type": "code",
   "execution_count": null,
   "metadata": {},
   "outputs": [],
   "source": [
    "element_idx_setpoints = np.arange(0, 21, 1)\n",
    "\n",
    "measurement_control.settables(element_idx)\n",
    "measurement_control.setpoints(element_idx_setpoints)\n",
    "measurement_control.gettables(gettable)\n",
    "\n",
    "dset = measurement_control.run(\"AllXY experiment\")"
   ]
  },
  {
   "cell_type": "code",
   "execution_count": null,
   "metadata": {},
   "outputs": [],
   "source": [
    "allxy_result = AllXYAnalysis(\n",
    "    label=\"AllXY\", settings_overwrite={\"mpl_transparent_background\": False}\n",
    ").run()\n",
    "allxy_result.display_figs_mpl()"
   ]
  },
  {
   "cell_type": "code",
   "execution_count": null,
   "metadata": {},
   "outputs": [],
   "source": [
    "transmon_chip.cfg_sched_repetitions(1)\n",
    "target_state = ManualParameter(name=\"target\", unit=\"\", label=\"target\")\n",
    "target_state.batched = True\n",
    "\n",
    "readout_calibration_sched_kwargs = {\"prepared_states\": target_state, \"qubit\": qubit_0.name}\n",
    "\n",
    "gettable = ScheduleGettable(\n",
    "    transmon_chip,\n",
    "    schedule_function=readout_calibration_sched,\n",
    "    schedule_kwargs=readout_calibration_sched_kwargs,\n",
    "    real_imag=True,\n",
    "    batched=True,\n",
    ")"
   ]
  },
  {
   "cell_type": "code",
   "execution_count": null,
   "metadata": {},
   "outputs": [],
   "source": [
    "target_state_setpoints = np.concatenate([np.zeros(500, dtype=int), np.ones(500, dtype=int)])\n",
    "\n",
    "measurement_control.settables(target_state)\n",
    "measurement_control.setpoints(target_state_setpoints)\n",
    "measurement_control.gettables(gettable)\n",
    "\n",
    "dset = measurement_control.run(\"discrimination2\")"
   ]
  },
  {
   "cell_type": "code",
   "execution_count": null,
   "metadata": {},
   "outputs": [],
   "source": [
    "import matplotlib.pyplot as plt\n",
    "ground = np.where(dset[\"x0\"]==0)\n",
    "plt.scatter(dset.y0[ground], dset.y1[ground])\n",
    "ground = np.where(dset[\"x0\"]==1)\n",
    "plt.scatter(dset.y0[ground], dset.y1[ground])"
   ]
  },
  {
   "cell_type": "code",
   "execution_count": null,
   "metadata": {},
   "outputs": [],
   "source": [
    "dset"
   ]
  },
  {
   "cell_type": "code",
   "execution_count": null,
   "metadata": {},
   "outputs": [],
   "source": [
    "from quantify_core.data.handling import load_dataset\n",
    "rabi_data = load_dataset(\"20230116-161745\")\n"
   ]
  },
  {
   "cell_type": "code",
   "execution_count": null,
   "metadata": {},
   "outputs": [],
   "source": [
    "r = RabiAnalysis(rabi_data).run(calibration_points=True)\n",
    "r.display_figs_mpl()"
   ]
  },
  {
   "cell_type": "code",
   "execution_count": null,
   "metadata": {},
   "outputs": [],
   "source": []
  }
 ],
 "metadata": {
  "kernelspec": {
   "display_name": "qblox-env",
   "language": "python",
   "name": "python3"
  },
  "language_info": {
   "codemirror_mode": {
    "name": "ipython",
    "version": 3
   },
   "file_extension": ".py",
   "mimetype": "text/x-python",
   "name": "python",
   "nbconvert_exporter": "python",
   "pygments_lexer": "ipython3",
   "version": "3.8.16 (default, Jan 17 2023, 22:25:28) [MSC v.1916 64 bit (AMD64)]"
  },
  "vscode": {
   "interpreter": {
    "hash": "b9e0efb4514e0ed424f92dac0577640f826eaaa021c2cb80f1b36c73515c956f"
   }
  }
 },
 "nbformat": 4,
 "nbformat_minor": 4
}
